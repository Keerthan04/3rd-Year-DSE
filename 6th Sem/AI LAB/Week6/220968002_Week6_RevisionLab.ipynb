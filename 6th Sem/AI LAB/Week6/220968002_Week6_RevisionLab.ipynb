{
 "cells": [
  {
   "cell_type": "raw",
   "id": "71834239",
   "metadata": {},
   "source": [
    "Name: Keerthan Kumar C\n",
    "Registration No: 220968002\n",
    "Batch: B1\n",
    "Roll No: 2\n",
    "Section: DSE - B section"
   ]
  },
  {
   "cell_type": "markdown",
   "id": "98b63d2f",
   "metadata": {},
   "source": [
    "### 1.\tImplement the CartPole for a Certain Number of Steps"
   ]
  },
  {
   "cell_type": "code",
   "execution_count": 5,
   "id": "94c19b67",
   "metadata": {},
   "outputs": [
    {
     "name": "stdout",
     "output_type": "stream",
     "text": [
      "Defaulting to user installation because normal site-packages is not writeable\n",
      "Collecting gymnasium\n",
      "  Downloading gymnasium-1.0.0-py3-none-any.whl (958 kB)\n",
      "Requirement already satisfied: numpy>=1.21.0 in c:\\users\\mca\\appdata\\roaming\\python\\python39\\site-packages (from gymnasium) (1.26.4)\n",
      "Requirement already satisfied: typing-extensions>=4.3.0 in c:\\users\\mca\\appdata\\roaming\\python\\python39\\site-packages (from gymnasium) (4.12.2)\n",
      "Requirement already satisfied: cloudpickle>=1.2.0 in c:\\programdata\\anaconda3\\lib\\site-packages (from gymnasium) (2.0.0)\n",
      "Requirement already satisfied: importlib-metadata>=4.8.0 in c:\\programdata\\anaconda3\\lib\\site-packages (from gymnasium) (4.11.3)\n",
      "Collecting farama-notifications>=0.0.1\n",
      "  Downloading Farama_Notifications-0.0.4-py3-none-any.whl (2.5 kB)\n",
      "Requirement already satisfied: zipp>=0.5 in c:\\programdata\\anaconda3\\lib\\site-packages (from importlib-metadata>=4.8.0->gymnasium) (3.7.0)\n",
      "Installing collected packages: farama-notifications, gymnasium\n",
      "Successfully installed farama-notifications-0.0.4 gymnasium-1.0.0\n"
     ]
    }
   ],
   "source": [
    "!pip install gymnasium"
   ]
  },
  {
   "cell_type": "code",
   "execution_count": 7,
   "id": "8ff755c3",
   "metadata": {},
   "outputs": [
    {
     "name": "stdout",
     "output_type": "stream",
     "text": [
      "Defaulting to user installation because normal site-packages is not writeable\n",
      "Requirement already satisfied: gymnasium[classic-control] in c:\\users\\mca\\appdata\\roaming\\python\\python39\\site-packages (1.0.0)\n",
      "Requirement already satisfied: importlib-metadata>=4.8.0 in c:\\programdata\\anaconda3\\lib\\site-packages (from gymnasium[classic-control]) (4.11.3)\n",
      "Requirement already satisfied: farama-notifications>=0.0.1 in c:\\users\\mca\\appdata\\roaming\\python\\python39\\site-packages (from gymnasium[classic-control]) (0.0.4)\n",
      "Requirement already satisfied: cloudpickle>=1.2.0 in c:\\programdata\\anaconda3\\lib\\site-packages (from gymnasium[classic-control]) (2.0.0)\n",
      "Requirement already satisfied: typing-extensions>=4.3.0 in c:\\users\\mca\\appdata\\roaming\\python\\python39\\site-packages (from gymnasium[classic-control]) (4.12.2)\n",
      "Requirement already satisfied: numpy>=1.21.0 in c:\\users\\mca\\appdata\\roaming\\python\\python39\\site-packages (from gymnasium[classic-control]) (1.26.4)\n",
      "Collecting pygame>=2.1.3\n",
      "  Downloading pygame-2.6.1-cp39-cp39-win_amd64.whl (10.6 MB)\n",
      "Requirement already satisfied: zipp>=0.5 in c:\\programdata\\anaconda3\\lib\\site-packages (from importlib-metadata>=4.8.0->gymnasium[classic-control]) (3.7.0)\n",
      "Installing collected packages: pygame\n",
      "Successfully installed pygame-2.6.1\n"
     ]
    }
   ],
   "source": [
    "! pip install gymnasium[classic-control]"
   ]
  },
  {
   "cell_type": "code",
   "execution_count": 16,
   "id": "041aa32b",
   "metadata": {},
   "outputs": [],
   "source": [
    "import gymnasium as gym\n",
    "env = gym.make(\"CartPole-v1\",render_mode = 'human')\n",
    "state,info = env.reset()"
   ]
  },
  {
   "cell_type": "code",
   "execution_count": 9,
   "id": "e26f90b7",
   "metadata": {},
   "outputs": [
    {
     "data": {
      "text/plain": [
       "array([-0.03096148,  0.01475775,  0.00961725,  0.02913416], dtype=float32)"
      ]
     },
     "execution_count": 9,
     "metadata": {},
     "output_type": "execute_result"
    }
   ],
   "source": [
    "state#all values of the obesrvation space"
   ]
  },
  {
   "cell_type": "code",
   "execution_count": 10,
   "id": "4969a8d8",
   "metadata": {},
   "outputs": [
    {
     "data": {
      "text/plain": [
       "Discrete(2)"
      ]
     },
     "execution_count": 10,
     "metadata": {},
     "output_type": "execute_result"
    }
   ],
   "source": [
    "env.action_space#actions to take"
   ]
  },
  {
   "cell_type": "code",
   "execution_count": 11,
   "id": "86e22a7d",
   "metadata": {},
   "outputs": [
    {
     "data": {
      "text/plain": [
       "Box([-4.8               -inf -0.41887903        -inf], [4.8               inf 0.41887903        inf], (4,), float32)"
      ]
     },
     "execution_count": 11,
     "metadata": {},
     "output_type": "execute_result"
    }
   ],
   "source": [
    "env.observation_space#range of observation space values"
   ]
  },
  {
   "cell_type": "code",
   "execution_count": 17,
   "id": "d52c1d2c",
   "metadata": {},
   "outputs": [],
   "source": [
    "#implementing for certain number of steps\n",
    "steps = 50\n",
    "done = False\n",
    "truncated = False\n",
    "obs,info = env.reset()\n",
    "cum_reward = 0\n",
    "for i in range(steps):\n",
    "    while not done and not truncated:\n",
    "        #take random action\n",
    "        action = env.action_space.sample()\n",
    "        state,reward,done,truncated,info = env.step(action)\n",
    "        cum_reward += reward\n",
    "        env.render()\n",
    "env.close()"
   ]
  },
  {
   "cell_type": "code",
   "execution_count": 23,
   "id": "cd2d99e1",
   "metadata": {},
   "outputs": [
    {
     "name": "stdout",
     "output_type": "stream",
     "text": [
      "Cumulative reward is 20.0\n"
     ]
    }
   ],
   "source": [
    "print(f\"Cumulative reward is {cum_reward}\")"
   ]
  },
  {
   "cell_type": "markdown",
   "id": "ef57ef28",
   "metadata": {},
   "source": [
    "### 1.\tImplement the  Mountain Car Environment for a Certain Number of Steps"
   ]
  },
  {
   "cell_type": "code",
   "execution_count": 19,
   "id": "0b9c703a",
   "metadata": {},
   "outputs": [],
   "source": [
    "mou_env = gym.make(\"MountainCar-v0\",render_mode = 'human')\n",
    "state,info = mou_env.reset()"
   ]
  },
  {
   "cell_type": "code",
   "execution_count": 20,
   "id": "7786be4c",
   "metadata": {},
   "outputs": [
    {
     "data": {
      "text/plain": [
       "array([-0.5894194,  0.       ], dtype=float32)"
      ]
     },
     "execution_count": 20,
     "metadata": {},
     "output_type": "execute_result"
    }
   ],
   "source": [
    "state"
   ]
  },
  {
   "cell_type": "code",
   "execution_count": 21,
   "id": "bc6df3f8",
   "metadata": {},
   "outputs": [
    {
     "data": {
      "text/plain": [
       "Discrete(3)"
      ]
     },
     "execution_count": 21,
     "metadata": {},
     "output_type": "execute_result"
    }
   ],
   "source": [
    "mou_env.action_space"
   ]
  },
  {
   "cell_type": "code",
   "execution_count": 22,
   "id": "2a821639",
   "metadata": {},
   "outputs": [
    {
     "data": {
      "text/plain": [
       "Box([-1.2  -0.07], [0.6  0.07], (2,), float32)"
      ]
     },
     "execution_count": 22,
     "metadata": {},
     "output_type": "execute_result"
    }
   ],
   "source": [
    "mou_env.observation_space"
   ]
  },
  {
   "cell_type": "code",
   "execution_count": 24,
   "id": "56d96e78",
   "metadata": {},
   "outputs": [],
   "source": [
    "steps = 50\n",
    "done = False\n",
    "truncated = False\n",
    "obs,info = mou_env.reset()\n",
    "cum_reward = 0\n",
    "for i in range(steps):\n",
    "    while not done and not truncated:\n",
    "        #take random action\n",
    "        action = mou_env.action_space.sample()\n",
    "        state,reward,done,truncated,info = mou_env.step(action)\n",
    "        cum_reward += reward\n",
    "        mou_env.render()\n",
    "mou_env.close()"
   ]
  },
  {
   "cell_type": "code",
   "execution_count": 25,
   "id": "652d0bc5",
   "metadata": {},
   "outputs": [
    {
     "name": "stdout",
     "output_type": "stream",
     "text": [
      "Cumulative reward is -200.0\n"
     ]
    }
   ],
   "source": [
    "print(f\"Cumulative reward is {cum_reward}\")"
   ]
  },
  {
   "cell_type": "markdown",
   "id": "8acdc571",
   "metadata": {},
   "source": [
    "### 2.\tImplement the CartPole  Environment for a Certain Number of Episodes"
   ]
  },
  {
   "cell_type": "code",
   "execution_count": 26,
   "id": "b7931ff2",
   "metadata": {},
   "outputs": [],
   "source": [
    "env = gym.make(\"CartPole-v1\",render_mode = 'human')\n",
    "state,info = env.reset()"
   ]
  },
  {
   "cell_type": "code",
   "execution_count": 28,
   "id": "ecb9de30",
   "metadata": {},
   "outputs": [],
   "source": [
    "episodes = 50\n",
    "episode_reward = []\n",
    "for i in range(episodes):\n",
    "    obs,info = env.reset()#reset env for every episode\n",
    "    done = False\n",
    "    truncated = False\n",
    "    cum_reward = 0\n",
    "    while not done and not truncated:\n",
    "        action = env.action_space.sample()\n",
    "        state,reward,done,truncated,info = env.step(action)\n",
    "        cum_reward += reward\n",
    "    episode_reward.append(cum_reward)\n",
    "env.close()"
   ]
  },
  {
   "cell_type": "code",
   "execution_count": 29,
   "id": "0d3518e5",
   "metadata": {},
   "outputs": [
    {
     "data": {
      "image/png": "[encoded data removed]",
      "text/plain": [
       "<Figure size 720x576 with 1 Axes>"
      ]
     },
     "metadata": {
      "needs_background": "light"
     },
     "output_type": "display_data"
    }
   ],
   "source": [
    "#now plotting\n",
    "import matplotlib.pyplot as plt\n",
    "plt.figure(figsize = (10,8))\n",
    "plt.plot(range(1,51),episode_reward)\n",
    "plt.xlabel(\"episode number\")\n",
    "plt.ylabel(\"cumulative reward for episode\")\n",
    "plt.title(\"cumulative reward vs Episodes\")\n",
    "plt.show()"
   ]
  },
  {
   "cell_type": "markdown",
   "id": "da8be3ab",
   "metadata": {},
   "source": [
    "### 2.\tImplement the MountainCar  Environment for a Certain Number of Episodes"
   ]
  },
  {
   "cell_type": "code",
   "execution_count": 30,
   "id": "aa78385d",
   "metadata": {},
   "outputs": [],
   "source": [
    "mou_env = gym.make(\"MountainCar-v0\",render_mode = 'human')\n",
    "state,info = mou_env.reset()"
   ]
  },
  {
   "cell_type": "code",
   "execution_count": 31,
   "id": "9cc1d3af",
   "metadata": {},
   "outputs": [],
   "source": [
    "episodes = 50\n",
    "episode_reward = []\n",
    "for i in range(episodes):\n",
    "    obs,info = mou_env.reset()#reset env for every episode\n",
    "    done = False\n",
    "    truncated = False\n",
    "    cum_reward = 0\n",
    "    while not done and not truncated:\n",
    "        action = mou_env.action_space.sample()\n",
    "        state,reward,done,truncated,info = mou_env.step(action)#in mountain car taking random is not good(make policy on own and move based on velocity and position)\n",
    "        cum_reward += reward\n",
    "    episode_reward.append(cum_reward)\n",
    "mou_env.close()"
   ]
  },
  {
   "cell_type": "code",
   "execution_count": null,
   "id": "0867901a",
   "metadata": {},
   "outputs": [],
   "source": [
    "#now plotting\n",
    "import matplotlib.pyplot as plt\n",
    "plt.figure(figsize = (10,8))\n",
    "plt.plot(range(1,51),episode_reward)\n",
    "plt.xlabel(\"episode number\")\n",
    "plt.ylabel(\"cumulative reward for episode\")\n",
    "plt.title(\"cumulative reward vs Episodes\")\n",
    "plt.show()"
   ]
  },
  {
   "cell_type": "markdown",
   "id": "494594a0",
   "metadata": {},
   "source": [
    "### 3.\tBreadth-First Search (BFS)"
   ]
  },
  {
   "cell_type": "code",
   "execution_count": 40,
   "id": "2c084613",
   "metadata": {},
   "outputs": [],
   "source": [
    "from collections import deque\n",
    "def Breadth_First_Search(source,target,graph):\n",
    "    frontier = deque([source])#init with source\n",
    "    explored = set()\n",
    "    while frontier:\n",
    "        node = frontier.popleft()#get the top node\n",
    "        if node == target:\n",
    "            return True\n",
    "        for neighbour_node in graph[node]:#expecting adjacency list\n",
    "            #for each neighbour node if not in explored then mark and put to queu\n",
    "            if neighbour_node not in explored:\n",
    "                explored.add(neighbour_node)\n",
    "                frontier.append(neighbour_node)\n",
    "    return False"
   ]
  },
  {
   "cell_type": "code",
   "execution_count": 41,
   "id": "8e311946",
   "metadata": {},
   "outputs": [
    {
     "name": "stdout",
     "output_type": "stream",
     "text": [
      "True\n"
     ]
    }
   ],
   "source": [
    "graph = [\n",
    "    [1,2,3],\n",
    "    [2],\n",
    "    [0],\n",
    "]#mock adjacency list representation of graph\n",
    "source = 0\n",
    "target = 2\n",
    "result = Breadth_First_Search(source,target,graph)\n",
    "print(result)"
   ]
  },
  {
   "cell_type": "markdown",
   "id": "bc771aa6",
   "metadata": {},
   "source": [
    "### 4.Depth-First Search(DFS)"
   ]
  },
  {
   "cell_type": "code",
   "execution_count": 42,
   "id": "b9d43d2f",
   "metadata": {},
   "outputs": [],
   "source": [
    "def Depth_First_Search(source,target,graph):\n",
    "    stack = [source]\n",
    "    explored = set()\n",
    "    while stack:\n",
    "        node =stack.pop()#pop the top one\n",
    "        if node == target:\n",
    "            return True\n",
    "        for neighbour_node in graph[node]:#expecting adjacency list\n",
    "            #for each neighbour node if not in explored then mark and put to queu\n",
    "            if neighbour_node not in explored:\n",
    "                explored.add(neighbour_node)\n",
    "                frontier.append(neighbour_node)\n",
    "    return False"
   ]
  },
  {
   "cell_type": "code",
   "execution_count": 44,
   "id": "3beaf2eb",
   "metadata": {},
   "outputs": [
    {
     "name": "stdout",
     "output_type": "stream",
     "text": [
      "False\n"
     ]
    }
   ],
   "source": [
    "graph = [\n",
    "    [1,2],\n",
    "    [2],\n",
    "    [0],\n",
    "]#mock adjacency list representation of graph\n",
    "source = 0\n",
    "target = 3\n",
    "result = Breadth_First_Search(source,target,graph)\n",
    "print(result)"
   ]
  },
  {
   "cell_type": "markdown",
   "id": "9755a29b",
   "metadata": {},
   "source": [
    "### 5.\tTheta Policy (CartPole)"
   ]
  },
  {
   "cell_type": "code",
   "execution_count": 45,
   "id": "b24df48f",
   "metadata": {},
   "outputs": [],
   "source": [
    "env = gym.make(\"CartPole-v1\")\n",
    "#reseting the enironment\n",
    "state, info = env.reset()"
   ]
  },
  {
   "cell_type": "code",
   "execution_count": 46,
   "id": "c9bad080",
   "metadata": {},
   "outputs": [],
   "source": [
    "num_of_episodes = 100\n",
    "theta_rewards = []"
   ]
  },
  {
   "cell_type": "code",
   "execution_count": 47,
   "id": "8bdf8913",
   "metadata": {},
   "outputs": [
    {
     "name": "stderr",
     "output_type": "stream",
     "text": [
      "C:\\Users\\mca\\AppData\\Roaming\\Python\\Python39\\site-packages\\gymnasium\\envs\\classic_control\\cartpole.py:250: UserWarning: \u001b[33mWARN: You are calling render method without specifying any render mode. You can specify the render_mode at initialization, e.g. gym.make(\"CartPole-v1\", render_mode=\"rgb_array\")\u001b[0m\n",
      "  gym.logger.warn(\n"
     ]
    },
    {
     "name": "stdout",
     "output_type": "stream",
     "text": [
      "Theta policy -> Episode 1: Reward = 52.0 \n",
      "\n",
      "Theta policy -> Episode 2: Reward = 56.0 \n",
      "\n",
      "Theta policy -> Episode 3: Reward = 41.0 \n",
      "\n",
      "Theta policy -> Episode 4: Reward = 31.0 \n",
      "\n",
      "Theta policy -> Episode 5: Reward = 50.0 \n",
      "\n",
      "Theta policy -> Episode 6: Reward = 40.0 \n",
      "\n",
      "Theta policy -> Episode 7: Reward = 41.0 \n",
      "\n",
      "Theta policy -> Episode 8: Reward = 38.0 \n",
      "\n",
      "Theta policy -> Episode 9: Reward = 39.0 \n",
      "\n",
      "Theta policy -> Episode 10: Reward = 35.0 \n",
      "\n",
      "Theta policy -> Episode 11: Reward = 25.0 \n",
      "\n",
      "Theta policy -> Episode 12: Reward = 35.0 \n",
      "\n",
      "Theta policy -> Episode 13: Reward = 61.0 \n",
      "\n",
      "Theta policy -> Episode 14: Reward = 42.0 \n",
      "\n",
      "Theta policy -> Episode 15: Reward = 45.0 \n",
      "\n",
      "Theta policy -> Episode 16: Reward = 25.0 \n",
      "\n",
      "Theta policy -> Episode 17: Reward = 47.0 \n",
      "\n",
      "Theta policy -> Episode 18: Reward = 24.0 \n",
      "\n",
      "Theta policy -> Episode 19: Reward = 49.0 \n",
      "\n",
      "Theta policy -> Episode 20: Reward = 61.0 \n",
      "\n",
      "Theta policy -> Episode 21: Reward = 52.0 \n",
      "\n",
      "Theta policy -> Episode 22: Reward = 63.0 \n",
      "\n",
      "Theta policy -> Episode 23: Reward = 46.0 \n",
      "\n",
      "Theta policy -> Episode 24: Reward = 58.0 \n",
      "\n",
      "Theta policy -> Episode 25: Reward = 49.0 \n",
      "\n",
      "Theta policy -> Episode 26: Reward = 51.0 \n",
      "\n",
      "Theta policy -> Episode 27: Reward = 40.0 \n",
      "\n",
      "Theta policy -> Episode 28: Reward = 51.0 \n",
      "\n",
      "Theta policy -> Episode 29: Reward = 37.0 \n",
      "\n",
      "Theta policy -> Episode 30: Reward = 39.0 \n",
      "\n",
      "Theta policy -> Episode 31: Reward = 40.0 \n",
      "\n",
      "Theta policy -> Episode 32: Reward = 40.0 \n",
      "\n",
      "Theta policy -> Episode 33: Reward = 38.0 \n",
      "\n",
      "Theta policy -> Episode 34: Reward = 49.0 \n",
      "\n",
      "Theta policy -> Episode 35: Reward = 50.0 \n",
      "\n",
      "Theta policy -> Episode 36: Reward = 34.0 \n",
      "\n",
      "Theta policy -> Episode 37: Reward = 50.0 \n",
      "\n",
      "Theta policy -> Episode 38: Reward = 31.0 \n",
      "\n",
      "Theta policy -> Episode 39: Reward = 46.0 \n",
      "\n",
      "Theta policy -> Episode 40: Reward = 26.0 \n",
      "\n",
      "Theta policy -> Episode 41: Reward = 39.0 \n",
      "\n",
      "Theta policy -> Episode 42: Reward = 32.0 \n",
      "\n",
      "Theta policy -> Episode 43: Reward = 51.0 \n",
      "\n",
      "Theta policy -> Episode 44: Reward = 49.0 \n",
      "\n",
      "Theta policy -> Episode 45: Reward = 45.0 \n",
      "\n",
      "Theta policy -> Episode 46: Reward = 39.0 \n",
      "\n",
      "Theta policy -> Episode 47: Reward = 41.0 \n",
      "\n",
      "Theta policy -> Episode 48: Reward = 40.0 \n",
      "\n",
      "Theta policy -> Episode 49: Reward = 52.0 \n",
      "\n",
      "Theta policy -> Episode 50: Reward = 37.0 \n",
      "\n",
      "Theta policy -> Episode 51: Reward = 37.0 \n",
      "\n",
      "Theta policy -> Episode 52: Reward = 39.0 \n",
      "\n",
      "Theta policy -> Episode 53: Reward = 44.0 \n",
      "\n",
      "Theta policy -> Episode 54: Reward = 38.0 \n",
      "\n",
      "Theta policy -> Episode 55: Reward = 50.0 \n",
      "\n",
      "Theta policy -> Episode 56: Reward = 54.0 \n",
      "\n",
      "Theta policy -> Episode 57: Reward = 25.0 \n",
      "\n",
      "Theta policy -> Episode 58: Reward = 34.0 \n",
      "\n",
      "Theta policy -> Episode 59: Reward = 39.0 \n",
      "\n",
      "Theta policy -> Episode 60: Reward = 35.0 \n",
      "\n",
      "Theta policy -> Episode 61: Reward = 56.0 \n",
      "\n",
      "Theta policy -> Episode 62: Reward = 41.0 \n",
      "\n",
      "Theta policy -> Episode 63: Reward = 51.0 \n",
      "\n",
      "Theta policy -> Episode 64: Reward = 39.0 \n",
      "\n",
      "Theta policy -> Episode 65: Reward = 41.0 \n",
      "\n",
      "Theta policy -> Episode 66: Reward = 41.0 \n",
      "\n",
      "Theta policy -> Episode 67: Reward = 36.0 \n",
      "\n",
      "Theta policy -> Episode 68: Reward = 31.0 \n",
      "\n",
      "Theta policy -> Episode 69: Reward = 25.0 \n",
      "\n",
      "Theta policy -> Episode 70: Reward = 53.0 \n",
      "\n",
      "Theta policy -> Episode 71: Reward = 39.0 \n",
      "\n",
      "Theta policy -> Episode 72: Reward = 40.0 \n",
      "\n",
      "Theta policy -> Episode 73: Reward = 41.0 \n",
      "\n",
      "Theta policy -> Episode 74: Reward = 62.0 \n",
      "\n",
      "Theta policy -> Episode 75: Reward = 38.0 \n",
      "\n",
      "Theta policy -> Episode 76: Reward = 48.0 \n",
      "\n",
      "Theta policy -> Episode 77: Reward = 26.0 \n",
      "\n",
      "Theta policy -> Episode 78: Reward = 48.0 \n",
      "\n",
      "Theta policy -> Episode 79: Reward = 52.0 \n",
      "\n",
      "Theta policy -> Episode 80: Reward = 51.0 \n",
      "\n",
      "Theta policy -> Episode 81: Reward = 34.0 \n",
      "\n",
      "Theta policy -> Episode 82: Reward = 55.0 \n",
      "\n",
      "Theta policy -> Episode 83: Reward = 25.0 \n",
      "\n",
      "Theta policy -> Episode 84: Reward = 37.0 \n",
      "\n",
      "Theta policy -> Episode 85: Reward = 42.0 \n",
      "\n",
      "Theta policy -> Episode 86: Reward = 53.0 \n",
      "\n",
      "Theta policy -> Episode 87: Reward = 34.0 \n",
      "\n",
      "Theta policy -> Episode 88: Reward = 44.0 \n",
      "\n",
      "Theta policy -> Episode 89: Reward = 38.0 \n",
      "\n",
      "Theta policy -> Episode 90: Reward = 25.0 \n",
      "\n",
      "Theta policy -> Episode 91: Reward = 44.0 \n",
      "\n",
      "Theta policy -> Episode 92: Reward = 42.0 \n",
      "\n",
      "Theta policy -> Episode 93: Reward = 49.0 \n",
      "\n",
      "Theta policy -> Episode 94: Reward = 41.0 \n",
      "\n",
      "Theta policy -> Episode 95: Reward = 25.0 \n",
      "\n",
      "Theta policy -> Episode 96: Reward = 41.0 \n",
      "\n",
      "Theta policy -> Episode 97: Reward = 40.0 \n",
      "\n",
      "Theta policy -> Episode 98: Reward = 25.0 \n",
      "\n",
      "Theta policy -> Episode 99: Reward = 34.0 \n",
      "\n",
      "Theta policy -> Episode 100: Reward = 38.0 \n",
      "\n"
     ]
    }
   ],
   "source": [
    "import time\n",
    "for i in range(num_of_episodes):\n",
    "    observation,info = env.reset()#get all the state and info and all\n",
    "    total_reward = 0\n",
    "    done = False\n",
    "    \n",
    "    while not done:\n",
    "        env.render()\n",
    "        theta = observation[2] #get the current value of theta\n",
    "        action = 0 if theta<0 else 1 #0->push to left 1-> push to right(action shd be 0 or 1)\n",
    "        observation,reward,done,_,_ = env.step(action)\n",
    "        total_reward +=reward\n",
    "    \n",
    "    theta_rewards.append(total_reward)\n",
    "    print(f\"Theta policy -> Episode {i+1}: Reward = {total_reward} \\n\")\n",
    "    time.sleep(1)"
   ]
  },
  {
   "cell_type": "markdown",
   "id": "2270c7d0",
   "metadata": {},
   "source": [
    "### 6.\tOmega Policy (CartPole)"
   ]
  },
  {
   "cell_type": "code",
   "execution_count": 49,
   "id": "c4f4f673",
   "metadata": {},
   "outputs": [
    {
     "name": "stdout",
     "output_type": "stream",
     "text": [
      "Theta policy -> Episode 1: Reward = 239.0 \n",
      "\n",
      "Theta policy -> Episode 2: Reward = 141.0 \n",
      "\n",
      "Theta policy -> Episode 3: Reward = 260.0 \n",
      "\n",
      "Theta policy -> Episode 4: Reward = 246.0 \n",
      "\n",
      "Theta policy -> Episode 5: Reward = 154.0 \n",
      "\n",
      "Theta policy -> Episode 6: Reward = 236.0 \n",
      "\n",
      "Theta policy -> Episode 7: Reward = 236.0 \n",
      "\n",
      "Theta policy -> Episode 8: Reward = 202.0 \n",
      "\n",
      "Theta policy -> Episode 9: Reward = 262.0 \n",
      "\n",
      "Theta policy -> Episode 10: Reward = 142.0 \n",
      "\n",
      "Theta policy -> Episode 11: Reward = 240.0 \n",
      "\n",
      "Theta policy -> Episode 12: Reward = 212.0 \n",
      "\n",
      "Theta policy -> Episode 13: Reward = 154.0 \n",
      "\n",
      "Theta policy -> Episode 14: Reward = 151.0 \n",
      "\n",
      "Theta policy -> Episode 15: Reward = 185.0 \n",
      "\n",
      "Theta policy -> Episode 16: Reward = 248.0 \n",
      "\n",
      "Theta policy -> Episode 17: Reward = 231.0 \n",
      "\n",
      "Theta policy -> Episode 18: Reward = 177.0 \n",
      "\n",
      "Theta policy -> Episode 19: Reward = 227.0 \n",
      "\n",
      "Theta policy -> Episode 20: Reward = 154.0 \n",
      "\n",
      "Theta policy -> Episode 21: Reward = 139.0 \n",
      "\n",
      "Theta policy -> Episode 22: Reward = 219.0 \n",
      "\n",
      "Theta policy -> Episode 23: Reward = 213.0 \n",
      "\n",
      "Theta policy -> Episode 24: Reward = 189.0 \n",
      "\n",
      "Theta policy -> Episode 25: Reward = 227.0 \n",
      "\n",
      "Theta policy -> Episode 26: Reward = 264.0 \n",
      "\n",
      "Theta policy -> Episode 27: Reward = 288.0 \n",
      "\n",
      "Theta policy -> Episode 28: Reward = 237.0 \n",
      "\n",
      "Theta policy -> Episode 29: Reward = 155.0 \n",
      "\n",
      "Theta policy -> Episode 30: Reward = 162.0 \n",
      "\n",
      "Theta policy -> Episode 31: Reward = 171.0 \n",
      "\n",
      "Theta policy -> Episode 32: Reward = 133.0 \n",
      "\n",
      "Theta policy -> Episode 33: Reward = 138.0 \n",
      "\n",
      "Theta policy -> Episode 34: Reward = 182.0 \n",
      "\n",
      "Theta policy -> Episode 35: Reward = 208.0 \n",
      "\n",
      "Theta policy -> Episode 36: Reward = 198.0 \n",
      "\n",
      "Theta policy -> Episode 37: Reward = 203.0 \n",
      "\n",
      "Theta policy -> Episode 38: Reward = 241.0 \n",
      "\n",
      "Theta policy -> Episode 39: Reward = 251.0 \n",
      "\n",
      "Theta policy -> Episode 40: Reward = 198.0 \n",
      "\n",
      "Theta policy -> Episode 41: Reward = 243.0 \n",
      "\n",
      "Theta policy -> Episode 42: Reward = 223.0 \n",
      "\n",
      "Theta policy -> Episode 43: Reward = 249.0 \n",
      "\n",
      "Theta policy -> Episode 44: Reward = 277.0 \n",
      "\n",
      "Theta policy -> Episode 45: Reward = 161.0 \n",
      "\n",
      "Theta policy -> Episode 46: Reward = 144.0 \n",
      "\n",
      "Theta policy -> Episode 47: Reward = 262.0 \n",
      "\n",
      "Theta policy -> Episode 48: Reward = 151.0 \n",
      "\n",
      "Theta policy -> Episode 49: Reward = 164.0 \n",
      "\n",
      "Theta policy -> Episode 50: Reward = 145.0 \n",
      "\n",
      "Theta policy -> Episode 51: Reward = 135.0 \n",
      "\n",
      "Theta policy -> Episode 52: Reward = 285.0 \n",
      "\n",
      "Theta policy -> Episode 53: Reward = 151.0 \n",
      "\n",
      "Theta policy -> Episode 54: Reward = 265.0 \n",
      "\n",
      "Theta policy -> Episode 55: Reward = 146.0 \n",
      "\n",
      "Theta policy -> Episode 56: Reward = 212.0 \n",
      "\n",
      "Theta policy -> Episode 57: Reward = 142.0 \n",
      "\n",
      "Theta policy -> Episode 58: Reward = 153.0 \n",
      "\n",
      "Theta policy -> Episode 59: Reward = 167.0 \n",
      "\n",
      "Theta policy -> Episode 60: Reward = 253.0 \n",
      "\n",
      "Theta policy -> Episode 61: Reward = 134.0 \n",
      "\n",
      "Theta policy -> Episode 62: Reward = 153.0 \n",
      "\n",
      "Theta policy -> Episode 63: Reward = 228.0 \n",
      "\n",
      "Theta policy -> Episode 64: Reward = 271.0 \n",
      "\n",
      "Theta policy -> Episode 65: Reward = 213.0 \n",
      "\n",
      "Theta policy -> Episode 66: Reward = 265.0 \n",
      "\n",
      "Theta policy -> Episode 67: Reward = 157.0 \n",
      "\n",
      "Theta policy -> Episode 68: Reward = 161.0 \n",
      "\n",
      "Theta policy -> Episode 69: Reward = 223.0 \n",
      "\n",
      "Theta policy -> Episode 70: Reward = 181.0 \n",
      "\n",
      "Theta policy -> Episode 71: Reward = 143.0 \n",
      "\n",
      "Theta policy -> Episode 72: Reward = 183.0 \n",
      "\n",
      "Theta policy -> Episode 73: Reward = 222.0 \n",
      "\n",
      "Theta policy -> Episode 74: Reward = 135.0 \n",
      "\n",
      "Theta policy -> Episode 75: Reward = 158.0 \n",
      "\n",
      "Theta policy -> Episode 76: Reward = 192.0 \n",
      "\n",
      "Theta policy -> Episode 77: Reward = 133.0 \n",
      "\n",
      "Theta policy -> Episode 78: Reward = 263.0 \n",
      "\n",
      "Theta policy -> Episode 79: Reward = 174.0 \n",
      "\n",
      "Theta policy -> Episode 80: Reward = 157.0 \n",
      "\n",
      "Theta policy -> Episode 81: Reward = 248.0 \n",
      "\n",
      "Theta policy -> Episode 82: Reward = 225.0 \n",
      "\n",
      "Theta policy -> Episode 83: Reward = 269.0 \n",
      "\n",
      "Theta policy -> Episode 84: Reward = 221.0 \n",
      "\n",
      "Theta policy -> Episode 85: Reward = 227.0 \n",
      "\n",
      "Theta policy -> Episode 86: Reward = 213.0 \n",
      "\n",
      "Theta policy -> Episode 87: Reward = 166.0 \n",
      "\n",
      "Theta policy -> Episode 88: Reward = 265.0 \n",
      "\n",
      "Theta policy -> Episode 89: Reward = 153.0 \n",
      "\n",
      "Theta policy -> Episode 90: Reward = 241.0 \n",
      "\n",
      "Theta policy -> Episode 91: Reward = 205.0 \n",
      "\n",
      "Theta policy -> Episode 92: Reward = 241.0 \n",
      "\n",
      "Theta policy -> Episode 93: Reward = 264.0 \n",
      "\n",
      "Theta policy -> Episode 94: Reward = 176.0 \n",
      "\n",
      "Theta policy -> Episode 95: Reward = 145.0 \n",
      "\n",
      "Theta policy -> Episode 96: Reward = 230.0 \n",
      "\n",
      "Theta policy -> Episode 97: Reward = 142.0 \n",
      "\n",
      "Theta policy -> Episode 98: Reward = 140.0 \n",
      "\n",
      "Theta policy -> Episode 99: Reward = 274.0 \n",
      "\n",
      "Theta policy -> Episode 100: Reward = 164.0 \n",
      "\n"
     ]
    }
   ],
   "source": [
    "omega_rewards = []\n",
    "import time\n",
    "for i in range(num_of_episodes):\n",
    "    observation,info = env.reset()#get all the state and info and all\n",
    "    total_reward = 0\n",
    "    done = False\n",
    "    \n",
    "    while not done:\n",
    "        env.render()\n",
    "        omega = observation[3] #get the current value of theta\n",
    "        action = 0 if omega<0 else 1 #0->push to left 1-> push to right(action shd be 0 or 1)\n",
    "        observation,reward,done,_,_ = env.step(action)\n",
    "        total_reward +=reward\n",
    "    \n",
    "    omega_rewards.append(total_reward)\n",
    "    print(f\"Omega policy -> Episode {i+1}: Reward = {total_reward} \\n\")\n",
    "    time.sleep(1)"
   ]
  },
  {
   "cell_type": "code",
   "execution_count": 50,
   "id": "102fde6d",
   "metadata": {},
   "outputs": [
    {
     "data": {
      "image/png": "[encoded data removed]",
      "text/plain": [
       "<Figure size 864x576 with 1 Axes>"
      ]
     },
     "metadata": {
      "needs_background": "light"
     },
     "output_type": "display_data"
    }
   ],
   "source": [
    "import matplotlib.pyplot as plt\n",
    "\n",
    "#taking cumulative\n",
    "cumulative_reward_theta = [sum(theta_rewards[:i+1]) for i in range(len(theta_rewards))]\n",
    "cumulative_reward_omega = [sum(omega_rewards[:i+1]) for i in range(len(omega_rewards))]\n",
    "\n",
    "plt.figure(figsize=(12, 8))\n",
    "# Plotting both policies with proper labels for the legend\n",
    "plt.plot(cumulative_reward_theta, color='b', label=\"theta policy\")\n",
    "plt.plot(cumulative_reward_omega, color='r', label='omega policy')\n",
    "\n",
    "# Title and axis labels\n",
    "plt.title(\"Cumulative Rewards for theta and omega policies\", fontsize=16)\n",
    "plt.xlabel(\"Episodes\", fontsize=14)\n",
    "plt.ylabel(\"Cumulative Rewards\", fontsize=14)\n",
    "\n",
    "# Adding the legend\n",
    "plt.legend()\n",
    "\n",
    "# Display the plot\n",
    "plt.show()\n"
   ]
  },
  {
   "cell_type": "code",
   "execution_count": 51,
   "id": "482997fe",
   "metadata": {},
   "outputs": [
    {
     "name": "stdout",
     "output_type": "stream",
     "text": [
      "theta policy -> average:2151.35 and standard deviation:1212.5991206907581\n"
     ]
    }
   ],
   "source": [
    "import numpy as np\n",
    "avg = np.average(cumulative_reward_theta)\n",
    "std = np.std(cumulative_reward_theta)\n",
    "print(f\"theta policy -> average:{avg} and standard deviation:{std}\")"
   ]
  },
  {
   "cell_type": "code",
   "execution_count": 52,
   "id": "131043f2",
   "metadata": {},
   "outputs": [
    {
     "name": "stdout",
     "output_type": "stream",
     "text": [
      "omega policy -> average:10159.41 and standard deviation:5721.743868952891\n"
     ]
    }
   ],
   "source": [
    "import numpy as np\n",
    "avg = np.average(cumulative_reward_omega)\n",
    "std = np.std(cumulative_reward_omega)\n",
    "print(f\"omega policy -> average:{avg} and standard deviation:{std}\")"
   ]
  },
  {
   "cell_type": "markdown",
   "id": "cdb1cc57",
   "metadata": {},
   "source": [
    "### 7.\tSimple Hill Climbing"
   ]
  },
  {
   "cell_type": "code",
   "execution_count": 53,
   "id": "37867cd1",
   "metadata": {},
   "outputs": [
    {
     "name": "stdout",
     "output_type": "stream",
     "text": [
      "Best reward: -1.0, total steps taken: 1\n"
     ]
    },
    {
     "name": "stderr",
     "output_type": "stream",
     "text": [
      "C:\\Users\\mca\\AppData\\Roaming\\Python\\Python39\\site-packages\\gymnasium\\envs\\classic_control\\mountain_car.py:179: UserWarning: \u001b[33mWARN: You are calling render method without specifying any render mode. You can specify the render_mode at initialization, e.g. gym.make(\"MountainCar-v0\", render_mode=\"rgb_array\")\u001b[0m\n",
      "  gym.logger.warn(\n"
     ]
    }
   ],
   "source": [
    "import gymnasium as gym\n",
    "import numpy as np\n",
    "\n",
    "def simple_hill_climbing(env, max_steps=1000):\n",
    "    state, _ = env.reset()  # Reset the environment to start a new episode\n",
    "    best_reward = -float('inf')\n",
    "    best_action = None\n",
    "    action_space = env.action_space.n  # Number of possible actions (in MountainCar, it is 3)\n",
    "    \n",
    "    for step in range(max_steps):\n",
    "        # Try all possible actions to find the best reward\n",
    "        best_next_state = None\n",
    "        best_next_reward = -float('inf')\n",
    "        best_next_action = None\n",
    "        \n",
    "        for action in range(action_space):\n",
    "            next_state, reward, done, _, _ = env.step(action)\n",
    "            if reward > best_next_reward:\n",
    "                best_next_state = next_state\n",
    "                best_next_reward = reward\n",
    "                best_next_action = action\n",
    "                \n",
    "        # If we have a better reward, update the state and action\n",
    "        if best_next_reward > best_reward:\n",
    "            best_reward = best_next_reward\n",
    "            best_action = best_next_action\n",
    "            state = best_next_state\n",
    "        else:\n",
    "            break  # Stop if no improvement in reward\n",
    "        \n",
    "        # Render the environment to visualize (optional)\n",
    "        env.render()\n",
    "        \n",
    "        if done:\n",
    "            print(f\"Goal reached in {step} steps!\")\n",
    "            break\n",
    "        \n",
    "    return best_reward, step\n",
    "\n",
    "\n",
    "# Initialize the environment\n",
    "env = gym.make('MountainCar-v0')\n",
    "\n",
    "# Run the Simple Hill Climbing algorithm\n",
    "best_reward, total_steps = simple_hill_climbing(env)\n",
    "\n",
    "print(f\"Best reward: {best_reward}, total steps taken: {total_steps}\")\n",
    "\n",
    "# Close the environment after the run\n",
    "env.close()\n"
   ]
  },
  {
   "cell_type": "markdown",
   "id": "e22808f5",
   "metadata": {},
   "source": [
    "### 8.\tStochastic Hill Climbing"
   ]
  },
  {
   "cell_type": "code",
   "execution_count": 54,
   "id": "13299f57",
   "metadata": {},
   "outputs": [
    {
     "name": "stdout",
     "output_type": "stream",
     "text": [
      "Best reward: -1.0, total steps taken: 999\n"
     ]
    }
   ],
   "source": [
    "import gymnasium as gym\n",
    "import numpy as np\n",
    "import random\n",
    "\n",
    "def stochastic_hill_climbing(env, max_steps=1000):\n",
    "    state, _ = env.reset()  # Reset the environment to start a new episode\n",
    "    best_reward = -float('inf')\n",
    "    best_action = None\n",
    "    action_space = env.action_space.n  # Number of possible actions (in MountainCar, it is 3)\n",
    "    \n",
    "    for step in range(max_steps):\n",
    "        # Stochastic Hill Climbing: Randomly choose an action from the action space\n",
    "        action = random.randint(0, action_space - 1)\n",
    "        next_state, reward, done, _, _ = env.step(action)\n",
    "        \n",
    "        # If the reward from this action is better, update the best action and state\n",
    "        if reward > best_reward:\n",
    "            best_reward = reward\n",
    "            best_action = action\n",
    "            state = next_state\n",
    "        \n",
    "        # Render the environment to visualize (optional)\n",
    "        env.render()\n",
    "        \n",
    "        if done:\n",
    "            print(f\"Goal reached in {step} steps!\")\n",
    "            break\n",
    "        \n",
    "    return best_reward, step\n",
    "\n",
    "\n",
    "# Initialize the environment\n",
    "env = gym.make('MountainCar-v0')\n",
    "\n",
    "# Run the Stochastic Hill Climbing algorithm\n",
    "best_reward, total_steps = stochastic_hill_climbing(env)\n",
    "\n",
    "print(f\"Best reward: {best_reward}, total steps taken: {total_steps}\")\n",
    "\n",
    "# Close the environment after the run\n",
    "env.close()\n"
   ]
  },
  {
   "cell_type": "markdown",
   "id": "ee5d9748",
   "metadata": {},
   "source": [
    "### 9.\tSteepest Ascent Hill Climbing"
   ]
  },
  {
   "cell_type": "code",
   "execution_count": 55,
   "id": "b34b3f8a",
   "metadata": {},
   "outputs": [
    {
     "name": "stdout",
     "output_type": "stream",
     "text": [
      "Best reward: -1.0, total steps taken: 1\n"
     ]
    }
   ],
   "source": [
    "import gymnasium as gym\n",
    "import numpy as np\n",
    "\n",
    "def steepest_ascent_hill_climbing(env, max_steps=1000):\n",
    "    state, _ = env.reset()  # Reset the environment to start a new episode\n",
    "    best_reward = -float('inf')\n",
    "    best_action = None\n",
    "    action_space = env.action_space.n  # Number of possible actions (in MountainCar, it is 3)\n",
    "    \n",
    "    for step in range(max_steps):\n",
    "        best_next_state = None\n",
    "        best_next_reward = -float('inf')\n",
    "        best_next_action = None\n",
    "        \n",
    "        # Steepest-Ascent Hill Climbing: Evaluate all possible actions\n",
    "        for action in range(action_space):\n",
    "            next_state, reward, done, _, _ = env.step(action)\n",
    "            if reward > best_next_reward:\n",
    "                best_next_state = next_state\n",
    "                best_next_reward = reward\n",
    "                best_next_action = action\n",
    "        \n",
    "        # If the best reward from the evaluated actions is better, update state and action\n",
    "        if best_next_reward > best_reward:\n",
    "            best_reward = best_next_reward\n",
    "            best_action = best_next_action\n",
    "            state = best_next_state\n",
    "        else:\n",
    "            break  # Stop if no improvement in reward\n",
    "        \n",
    "        # Render the environment to visualize (optional)\n",
    "        env.render()\n",
    "        \n",
    "        if done:\n",
    "            print(f\"Goal reached in {step} steps!\")\n",
    "            break\n",
    "        \n",
    "    return best_reward, step\n",
    "\n",
    "\n",
    "# Initialize the environment\n",
    "env = gym.make('MountainCar-v0')\n",
    "\n",
    "# Run the Steepest-Ascent Hill Climbing algorithm\n",
    "best_reward, total_steps = steepest_ascent_hill_climbing(env)\n",
    "\n",
    "print(f\"Best reward: {best_reward}, total steps taken: {total_steps}\")\n",
    "\n",
    "# Close the environment after the run\n",
    "env.close()\n"
   ]
  }
 ],
 "metadata": {
  "kernelspec": {
   "display_name": "Python 3 (ipykernel)",
   "language": "python",
   "name": "python3"
  },
  "language_info": {
   "codemirror_mode": {
    "name": "ipython",
    "version": 3
   },
   "file_extension": ".py",
   "mimetype": "text/x-python",
   "name": "python",
   "nbconvert_exporter": "python",
   "pygments_lexer": "ipython3",
   "version": "3.9.12"
  }
 },
 "nbformat": 4,
 "nbformat_minor": 5
}
