{
 "cells": [
  {
   "cell_type": "code",
   "execution_count": 7,
   "id": "fd79818c-6f0d-4354-beee-8ac5e148fa5e",
   "metadata": {},
   "outputs": [],
   "source": [
    "import gym\n",
    "import numpy as np\n",
    "import random\n",
    "\n",
    "env = gym.make(\"FrozenLake-v1\", is_slippery=True)  # 4x4 slippery lake\n",
    "n_states = env.observation_space.n\n",
    "n_actions = env.action_space.n\n"
   ]
  },
  {
   "cell_type": "code",
   "execution_count": 8,
   "id": "632a2987-fc6c-42c9-ab04-12e62b424701",
   "metadata": {},
   "outputs": [],
   "source": [
    "def simple_hill_climbing(env, episodes=1000):\n",
    "    policy = np.random.choice(n_actions, n_states)\n",
    "    best_reward = 0\n",
    "\n",
    "    for _ in range(episodes):\n",
    "        new_policy = policy.copy()\n",
    "        state = random.randint(0, n_states - 1)\n",
    "        new_policy[state] = random.randint(0, n_actions - 1)\n",
    "\n",
    "        reward = run_policy(env, new_policy)\n",
    "        if reward > best_reward:\n",
    "            policy, best_reward = new_policy, reward\n",
    "\n",
    "    return policy\n",
    "\n",
    "def run_policy(env, policy, trials=100):\n",
    "    total_reward = 0\n",
    "    for _ in range(trials):\n",
    "        state = env.reset()[0]\n",
    "        done = False\n",
    "        while not done:\n",
    "            state, reward, done, _, _ = env.step(policy[state])\n",
    "        total_reward += reward\n",
    "    return total_reward / trials\n"
   ]
  },
  {
   "cell_type": "code",
   "execution_count": 9,
   "id": "765e42ed-3e89-4989-bf94-58999012df24",
   "metadata": {},
   "outputs": [],
   "source": [
    "def stochastic_hill_climbing(env, episodes=1000):\n",
    "    policy = np.random.choice(n_actions, n_states)\n",
    "    best_reward = 0\n",
    "\n",
    "    for _ in range(episodes):\n",
    "        new_policy = np.random.choice(n_actions, n_states)  # Entirely random\n",
    "        reward = run_policy(env, new_policy)\n",
    "\n",
    "        if reward > best_reward:\n",
    "            policy, best_reward = new_policy, reward\n",
    "\n",
    "    return policy\n"
   ]
  },
  {
   "cell_type": "code",
   "execution_count": 10,
   "id": "d7bdef19-225c-423e-85e7-e02b7f861ebc",
   "metadata": {},
   "outputs": [],
   "source": [
    "def steepest_ascent_hill_climbing(env, episodes=1000):\n",
    "    policy = np.random.choice(n_actions, n_states)\n",
    "    best_reward = run_policy(env, policy)\n",
    "\n",
    "    for _ in range(episodes):\n",
    "        neighbors = []\n",
    "        for s in range(n_states):\n",
    "            for a in range(n_actions):\n",
    "                if a != policy[s]:\n",
    "                    new_policy = policy.copy()\n",
    "                    new_policy[s] = a\n",
    "                    neighbors.append(new_policy)\n",
    "\n",
    "        # Evaluate all neighbors\n",
    "        best_neighbor = max(neighbors, key=lambda p: run_policy(env, p))\n",
    "        reward = run_policy(env, best_neighbor)\n",
    "\n",
    "        if reward > best_reward:\n",
    "            policy, best_reward = best_neighbor, reward\n",
    "\n",
    "    return policy\n"
   ]
  },
  {
   "cell_type": "code",
   "execution_count": null,
   "id": "ff3de7ab-a24e-4ff1-94d9-6f1e68e6c3f7",
   "metadata": {},
   "outputs": [
    {
     "name": "stderr",
     "output_type": "stream",
     "text": [
      "C:\\Users\\godof\\anaconda3\\Lib\\site-packages\\gym\\utils\\passive_env_checker.py:233: DeprecationWarning: `np.bool8` is a deprecated alias for `np.bool_`.  (Deprecated NumPy 1.24)\n",
      "  if not isinstance(terminated, (bool, np.bool8)):\n"
     ]
    }
   ],
   "source": [
    "final_policy = simple_hill_climbing(env)  # or stochastic_hill_climbing, steepest_ascent_hill_climbing\n",
    "\n",
    "# Test the final policy\n",
    "def evaluate_policy(env, policy, trials=100):\n",
    "    success = 0\n",
    "    for _ in range(trials):\n",
    "        state = env.reset()[0]\n",
    "        done = False\n",
    "        while not done:\n",
    "            state, reward, done, _, _ = env.step(policy[state])\n",
    "        success += reward\n",
    "    return success / trials\n",
    "\n",
    "print(\"Final Success Rate:\", evaluate_policy(env, final_policy))\n"
   ]
  }
 ],
 "metadata": {
  "kernelspec": {
   "display_name": "Python 3 (ipykernel)",
   "language": "python",
   "name": "python3"
  },
  "language_info": {
   "codemirror_mode": {
    "name": "ipython",
    "version": 3
   },
   "file_extension": ".py",
   "mimetype": "text/x-python",
   "name": "python",
   "nbconvert_exporter": "python",
   "pygments_lexer": "ipython3",
   "version": "3.11.7"
  }
 },
 "nbformat": 4,
 "nbformat_minor": 5
}
