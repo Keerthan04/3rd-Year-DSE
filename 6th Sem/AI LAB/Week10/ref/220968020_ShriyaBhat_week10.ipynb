{
 "cells": [
  {
   "cell_type": "code",
   "execution_count": 1,
   "id": "94ca4c3c",
   "metadata": {},
   "outputs": [],
   "source": [
    "import numpy as np\n",
    "import gymnasium as gym"
   ]
  },
  {
   "cell_type": "code",
   "execution_count": 2,
   "id": "973d5369",
   "metadata": {},
   "outputs": [],
   "source": [
    "def monte_carlo_es(env, episodes=500, gamma=1.0):\n",
    "    Q = np.zeros((env.nS, env.nA))\n",
    "    returns = {s: {a: [] for a in range(env.nA)} for s in range(env.nS)}\n",
    "    policy = np.zeros(env.nS, dtype=int)\n",
    "    \n",
    "    for episode in range(episodes):\n",
    "        state, _ = env.reset()  # Fix: Reset returns (state, info)\n",
    "        action = np.random.choice(env.nA)\n",
    "        episode_data = []\n",
    "        done = False\n",
    "        \n",
    "        while not done:\n",
    "            next_state, reward, done, _, _ = env.step(action)  # Fix: Unpack correctly\n",
    "            episode_data.append((state, action, reward))\n",
    "            state, action = next_state, np.random.choice(env.nA)\n",
    "        \n",
    "        G = 0\n",
    "        visited = set()\n",
    "        for state, action, reward in reversed(episode_data):\n",
    "            G = gamma * G + reward\n",
    "            if (state, action) not in visited:\n",
    "                visited.add((state, action))\n",
    "                returns[state][action].append(G)\n",
    "                Q[state, action] = np.mean(returns[state][action])\n",
    "                policy[state] = np.argmax(Q[state])\n",
    "    \n",
    "    return Q, policy"
   ]
  },
  {
   "cell_type": "code",
   "execution_count": 7,
   "id": "1a61c74c",
   "metadata": {},
   "outputs": [],
   "source": [
    "def on_policy_first_visit_mc(env, episodes=500, gamma=1.0, epsilon=0.1):\n",
    "    env = env.unwrapped  # Ensure access to nS and nA\n",
    "    Q = np.zeros((env.nS, env.nA))\n",
    "    returns = {s: {a: [] for a in range(env.nA)} for s in range(env.nS)}\n",
    "    \n",
    "    # Initialize policy as a valid probability distribution\n",
    "    policy = np.ones((env.nS, env.nA)) * (epsilon / env.nA)\n",
    "    for s in range(env.nS):\n",
    "        best_action = np.random.choice(env.nA)  # Assign a random action initially\n",
    "        policy[s, best_action] = 1 - epsilon + (epsilon / env.nA)  # Ensure sum = 1\n",
    "\n",
    "    for episode in range(episodes):\n",
    "        state, _ = env.reset()  # Reset environment\n",
    "        episode_data = []\n",
    "        done = False\n",
    "\n",
    "        while not done:\n",
    "            action = np.random.choice(env.nA, p=policy[state])  # Select action based on policy\n",
    "            next_state, reward, done, _, _ = env.step(action)\n",
    "            episode_data.append((state, action, reward))\n",
    "            state = next_state\n",
    "        \n",
    "        G = 0\n",
    "        visited = set()\n",
    "        for state, action, reward in reversed(episode_data):\n",
    "            G = gamma * G + reward\n",
    "            if (state, action) not in visited:\n",
    "                visited.add((state, action))\n",
    "                returns[state][action].append(G)\n",
    "                Q[state, action] = np.mean(returns[state][action])\n",
    "\n",
    "                # Update policy to Ɛ-soft\n",
    "                best_action = np.argmax(Q[state])\n",
    "                policy[state] = epsilon / env.nA  # Reset all actions to epsilon / |A|\n",
    "                policy[state, best_action] = 1 - epsilon + (epsilon / env.nA)  # Best action gets higher probability\n",
    "\n",
    "                # **Fix:** Explicitly normalize the policy to ensure sum = 1\n",
    "                policy[state] /= np.sum(policy[state])\n",
    "\n",
    "    return Q, policy"
   ]
  },
  {
   "cell_type": "code",
   "execution_count": 4,
   "id": "53e33aa3",
   "metadata": {},
   "outputs": [],
   "source": [
    "env = gym.make(\"CliffWalking-v0\")\n",
    "env = env.unwrapped"
   ]
  },
  {
   "cell_type": "code",
   "execution_count": 5,
   "id": "346aaf0e",
   "metadata": {},
   "outputs": [],
   "source": [
    "Q_es, policy_es = monte_carlo_es(env)"
   ]
  },
  {
   "cell_type": "code",
   "execution_count": 8,
   "id": "d302e508",
   "metadata": {},
   "outputs": [],
   "source": [
    "Q_mc, policy_mc = on_policy_first_visit_mc(env)"
   ]
  },
  {
   "cell_type": "code",
   "execution_count": 9,
   "id": "95f0867f",
   "metadata": {},
   "outputs": [
    {
     "name": "stdout",
     "output_type": "stream",
     "text": [
      "Monte Carlo ES Policy:\n",
      "[1 1 1 1 1 1 1 1 1 1 2 2 1 1 1 1 1 1 1 1 1 1 1 2 0 0 0 1 1 1 1 2 1 1 1 2 0\n",
      " 0 0 0 0 0 0 0 0 0 0 0]\n",
      "\n",
      "On-Policy First-Visit MC Policy:\n",
      "[[0.025 0.025 0.025 0.925]\n",
      " [0.025 0.025 0.925 0.025]\n",
      " [0.025 0.025 0.025 0.925]\n",
      " [0.025 0.925 0.025 0.025]\n",
      " [0.025 0.025 0.925 0.025]\n",
      " [0.025 0.025 0.925 0.025]\n",
      " [0.025 0.925 0.025 0.025]\n",
      " [0.025 0.925 0.025 0.025]\n",
      " [0.025 0.925 0.025 0.025]\n",
      " [0.025 0.925 0.025 0.025]\n",
      " [0.025 0.025 0.925 0.025]\n",
      " [0.025 0.025 0.025 0.925]\n",
      " [0.025 0.025 0.025 0.925]\n",
      " [0.925 0.025 0.025 0.025]\n",
      " [0.025 0.025 0.925 0.025]\n",
      " [0.025 0.925 0.025 0.025]\n",
      " [0.925 0.025 0.025 0.025]\n",
      " [0.025 0.925 0.025 0.025]\n",
      " [0.025 0.025 0.925 0.025]\n",
      " [0.025 0.925 0.025 0.025]\n",
      " [0.925 0.025 0.025 0.025]\n",
      " [0.925 0.025 0.025 0.025]\n",
      " [0.025 0.925 0.025 0.025]\n",
      " [0.025 0.025 0.925 0.025]\n",
      " [0.025 0.925 0.025 0.025]\n",
      " [0.025 0.925 0.025 0.025]\n",
      " [0.025 0.925 0.025 0.025]\n",
      " [0.925 0.025 0.025 0.025]\n",
      " [0.925 0.025 0.025 0.025]\n",
      " [0.925 0.025 0.025 0.025]\n",
      " [0.025 0.925 0.025 0.025]\n",
      " [0.925 0.025 0.025 0.025]\n",
      " [0.925 0.025 0.025 0.025]\n",
      " [0.025 0.025 0.925 0.025]\n",
      " [0.925 0.025 0.025 0.025]\n",
      " [0.025 0.025 0.925 0.025]\n",
      " [0.925 0.025 0.025 0.025]\n",
      " [0.925 0.025 0.025 0.025]\n",
      " [0.025 0.025 0.025 0.925]\n",
      " [0.025 0.025 0.925 0.025]\n",
      " [0.025 0.025 0.025 0.925]\n",
      " [0.925 0.025 0.025 0.025]\n",
      " [0.025 0.925 0.025 0.025]\n",
      " [0.925 0.025 0.025 0.025]\n",
      " [0.025 0.025 0.925 0.025]\n",
      " [0.925 0.025 0.025 0.025]\n",
      " [0.025 0.925 0.025 0.025]\n",
      " [0.025 0.025 0.025 0.925]]\n"
     ]
    }
   ],
   "source": [
    "print(\"Monte Carlo ES Policy:\")\n",
    "print(policy_es)\n",
    "print(\"\\nOn-Policy First-Visit MC Policy:\")\n",
    "print(policy_mc)"
   ]
  },
  {
   "cell_type": "code",
   "execution_count": null,
   "id": "a14c3bb1",
   "metadata": {},
   "outputs": [],
   "source": []
  }
 ],
 "metadata": {
  "kernelspec": {
   "display_name": "Python 3 (ipykernel)",
   "language": "python",
   "name": "python3"
  },
  "language_info": {
   "codemirror_mode": {
    "name": "ipython",
    "version": 3
   },
   "file_extension": ".py",
   "mimetype": "text/x-python",
   "name": "python",
   "nbconvert_exporter": "python",
   "pygments_lexer": "ipython3",
   "version": "3.9.12"
  }
 },
 "nbformat": 4,
 "nbformat_minor": 5
}
