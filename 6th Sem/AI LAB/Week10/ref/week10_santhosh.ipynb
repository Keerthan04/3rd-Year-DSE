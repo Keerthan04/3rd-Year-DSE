{
 "cells": [
  {
   "cell_type": "markdown",
   "id": "4dc74392",
   "metadata": {},
   "source": [
    "Use the Cliff Walking Environment:\n",
    "https://www.gymlibrary.dev/environments/toy_text/cliff_walking/\n",
    " \n",
    "Learn the optimal policy using 500 episodes :\n",
    "Monte Carlo ES (Exploring Starts)\n",
    "On-policy first-visit MC control (for Ɛ-soft policies), for Ɛ = 0.1\n",
    " \n",
    "Compare and comment on both methods' performance in terms of the number of steps needed to learn optimal policy and the number of episodes .\n"
   ]
  },
  {
   "cell_type": "code",
   "execution_count": 2,
   "id": "9702c1b7",
   "metadata": {},
   "outputs": [
    {
     "name": "stdout",
     "output_type": "stream",
     "text": [
      "Monte Carlo Exploring Starts Policy:\n",
      "{35: 2, 23: 2, 22: 1, 21: 1, 20: 1, 19: 1, 18: 1, 30: 1, 31: 0, 29: 1, 17: 1, 7: 1, 6: 1, 8: 1, 16: 1, 28: 1, 27: 0, 15: 1, 3: 1, 2: 1, 1: 1, 0: 1, 12: 1, 24: 0, 13: 1, 36: 0, 26: 1, 25: 0, 14: 1, 4: 1, 5: 1, 34: 1, 10: 1, 11: 2, 9: 1, 32: 1, 33: 1}\n",
      "\n",
      "On-policy MC Control (Ɛ-soft) Policy:\n",
      "{36: 0, 24: 1, 12: 1, 1: 0, 13: 1, 0: 0, 3: 2, 2: 1, 4: 1, 15: 0, 14: 0, 16: 1, 5: 0, 6: 1, 18: 0, 7: 1, 8: 1, 9: 1, 21: 0, 10: 1, 22: 0, 34: 1, 11: 2, 20: 0, 17: 0, 23: 2, 19: 0, 32: 0, 30: 1, 28: 3, 27: 0, 25: 2, 33: 0, 29: 3, 26: 1, 35: 2, 31: 1}\n"
     ]
    }
   ],
   "source": [
    "import numpy as np\n",
    "import gymnasium as gym\n",
    "from collections import defaultdict\n",
    "\n",
    "def monte_carlo_es(env, num_episodes=500, gamma=1.0):\n",
    "    Q = defaultdict(lambda: np.zeros(env.action_space.n))\n",
    "    returns = defaultdict(list)\n",
    "    \n",
    "    for episode in range(num_episodes):\n",
    "        state, _ = env.reset()\n",
    "        episode_log = []\n",
    "        done = False\n",
    "        \n",
    "        while not done:\n",
    "            action = np.random.choice(env.action_space.n)\n",
    "            next_state, reward, terminated, truncated, _ = env.step(action)\n",
    "            episode_log.append((state, action, reward))\n",
    "            state = next_state\n",
    "            done = terminated or truncated\n",
    "        \n",
    "        G = 0\n",
    "        visited = set()\n",
    "        for t in reversed(range(len(episode_log))):\n",
    "            state, action, reward = episode_log[t]\n",
    "            G = gamma * G + reward\n",
    "            if (state, action) not in visited:\n",
    "                visited.add((state, action))\n",
    "                returns[(state, action)].append(G)\n",
    "                Q[state][action] = np.mean(returns[(state, action)])\n",
    "    \n",
    "    policy = {s: np.argmax(Q[s]) for s in Q.keys()}\n",
    "    return policy, Q\n",
    "\n",
    "def mc_control_epsilon_soft(env, num_episodes=500, gamma=1.0, epsilon=0.1):\n",
    "    Q = defaultdict(lambda: np.zeros(env.action_space.n))\n",
    "    returns = defaultdict(list)\n",
    "    \n",
    "    for episode in range(num_episodes):\n",
    "        state, _ = env.reset()\n",
    "        episode_log = []\n",
    "        done = False\n",
    "        \n",
    "        while not done:\n",
    "            if np.random.rand() < epsilon:\n",
    "                action = np.random.choice(env.action_space.n)\n",
    "            else:\n",
    "                action = np.argmax(Q[state])\n",
    "            \n",
    "            next_state, reward, terminated, truncated, _ = env.step(action)\n",
    "            episode_log.append((state, action, reward))\n",
    "            state = next_state\n",
    "            done = terminated or truncated\n",
    "        \n",
    "        G = 0\n",
    "        visited = set()\n",
    "        for t in reversed(range(len(episode_log))):\n",
    "            state, action, reward = episode_log[t]\n",
    "            G = gamma * G + reward\n",
    "            if (state, action) not in visited:\n",
    "                visited.add((state, action))\n",
    "                returns[(state, action)].append(G)\n",
    "                Q[state][action] = np.mean(returns[(state, action)])\n",
    "    \n",
    "    policy = {s: np.argmax(Q[s]) for s in Q.keys()}\n",
    "    return policy, Q\n",
    "\n",
    "# Initialize the CliffWalking environment\n",
    "env = gym.make(\"CliffWalking-v0\")\n",
    "\n",
    "# Run Monte Carlo ES\n",
    "policy_es, Q_es = monte_carlo_es(env)\n",
    "\n",
    "# Run On-policy first-visit MC control (Ɛ-soft)\n",
    "policy_mc, Q_mc = mc_control_epsilon_soft(env)\n",
    "\n",
    "# Compare results\n",
    "print(\"Monte Carlo Exploring Starts Policy:\")\n",
    "print(policy_es)\n",
    "print(\"\\nOn-policy MC Control (Ɛ-soft) Policy:\")\n",
    "print(policy_mc)\n"
   ]
  },
  {
   "cell_type": "code",
   "execution_count": null,
   "id": "4c8a2ea1",
   "metadata": {},
   "outputs": [],
   "source": []
  }
 ],
 "metadata": {
  "kernelspec": {
   "display_name": "Python 3 (ipykernel)",
   "language": "python",
   "name": "python3"
  },
  "language_info": {
   "codemirror_mode": {
    "name": "ipython",
    "version": 3
   },
   "file_extension": ".py",
   "mimetype": "text/x-python",
   "name": "python",
   "nbconvert_exporter": "python",
   "pygments_lexer": "ipython3",
   "version": "3.9.12"
  }
 },
 "nbformat": 4,
 "nbformat_minor": 5
}
