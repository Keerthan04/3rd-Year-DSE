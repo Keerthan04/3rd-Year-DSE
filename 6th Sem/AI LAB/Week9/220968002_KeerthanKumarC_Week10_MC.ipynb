{
 "cells": [
  {
   "cell_type": "raw",
   "id": "e097c22f",
   "metadata": {},
   "source": [
    "Name: Keerthan Kumar C\n",
    "Section: DSE B\n",
    "Registration Number: 220968002\n",
    "Roll no: 02\n",
    "Batch: B1"
   ]
  },
  {
   "cell_type": "markdown",
   "id": "419f6bed",
   "metadata": {},
   "source": [
    "# MDP & MONTE CARLO METHODS"
   ]
  },
  {
   "cell_type": "markdown",
   "id": "d3ff0ada",
   "metadata": {},
   "source": [
    "#### Use the Cliff Walking Environment:\n",
    "https://www.gymlibrary.dev/environments/toy_text/cliff_walking/\n",
    "##### Learn the optimal policy using 500 episodes :\n",
    "- 1. Monte Carlo First Visit\n",
    "- 2. Monte Carlo Every Visit\n",
    "\n",
    "Comment and compare on the methods' performance in terms of the number of steps needed to learn optimal policy and the number of episodes."
   ]
  },
  {
   "cell_type": "code",
   "execution_count": 1,
   "id": "12bd1df3",
   "metadata": {},
   "outputs": [
    {
     "name": "stdout",
     "output_type": "stream",
     "text": [
      "Monte Carlo Exploring Starts Policy:\n",
      "{35: 2, 34: 1, 22: 2, 21: 1, 9: 1, 8: 1, 7: 1, 19: 1, 18: 1, 17: 1, 5: 1, 6: 1, 4: 1, 3: 1, 2: 1, 14: 1, 13: 1, 12: 1, 0: 1, 1: 1, 25: 1, 24: 0, 15: 1, 16: 1, 36: 0, 26: 0, 27: 1, 29: 1, 28: 0, 23: 2, 20: 1, 31: 2, 30: 1, 33: 1, 10: 1, 32: 1, 11: 2}\n",
      "\n",
      "On-policy MC Control (Ɛ-soft) Policy:\n",
      "{36: 3, 24: 1, 12: 0, 0: 1, 1: 1, 13: 0, 2: 1, 15: 0, 3: 1, 14: 0, 4: 1, 5: 1, 17: 0, 6: 1, 7: 1, 8: 1, 20: 0, 9: 1, 10: 1, 11: 2, 23: 2, 34: 2, 22: 0, 21: 0, 19: 1, 18: 0, 26: 0, 16: 0, 31: 3, 30: 1, 28: 1, 27: 2, 33: 3, 29: 2, 35: 2, 32: 2, 25: 0}\n"
     ]
    }
   ],
   "source": [
    "import numpy as np\n",
    "import gymnasium as gym\n",
    "from collections import defaultdict\n",
    "\n",
    "def monte_carlo_es(env, num_episodes=500, gamma=1.0):\n",
    "    Q = defaultdict(lambda: np.zeros(env.action_space.n))\n",
    "    returns = defaultdict(list)\n",
    "    \n",
    "    for episode in range(num_episodes):\n",
    "        state, _ = env.reset()\n",
    "        episode_log = []\n",
    "        done = False\n",
    "        \n",
    "        while not done:\n",
    "            action = np.random.choice(env.action_space.n)\n",
    "            next_state, reward, terminated, truncated, _ = env.step(action)\n",
    "            episode_log.append((state, action, reward))\n",
    "            state = next_state\n",
    "            done = terminated or truncated\n",
    "        \n",
    "        G = 0\n",
    "        visited = set()\n",
    "        for t in reversed(range(len(episode_log))):\n",
    "            state, action, reward = episode_log[t]\n",
    "            G = gamma * G + reward\n",
    "            if (state, action) not in visited:\n",
    "                visited.add((state, action))\n",
    "                returns[(state, action)].append(G)\n",
    "                Q[state][action] = np.mean(returns[(state, action)])\n",
    "    \n",
    "    policy = {s: np.argmax(Q[s]) for s in Q.keys()}\n",
    "    return policy, Q\n",
    "\n",
    "def mc_control_epsilon_soft(env, num_episodes=500, gamma=1.0, epsilon=0.1):\n",
    "    Q = defaultdict(lambda: np.zeros(env.action_space.n))\n",
    "    returns = defaultdict(list)\n",
    "    \n",
    "    for episode in range(num_episodes):\n",
    "        state, _ = env.reset()\n",
    "        episode_log = []\n",
    "        done = False\n",
    "        \n",
    "        while not done:\n",
    "            if np.random.rand() < epsilon:\n",
    "                action = np.random.choice(env.action_space.n)\n",
    "            else:\n",
    "                action = np.argmax(Q[state])\n",
    "            \n",
    "            next_state, reward, terminated, truncated, _ = env.step(action)\n",
    "            episode_log.append((state, action, reward))\n",
    "            state = next_state\n",
    "            done = terminated or truncated\n",
    "        \n",
    "        G = 0\n",
    "        visited = set()\n",
    "        for t in reversed(range(len(episode_log))):\n",
    "            state, action, reward = episode_log[t]\n",
    "            G = gamma * G + reward\n",
    "            if (state, action) not in visited:\n",
    "                visited.add((state, action))\n",
    "                returns[(state, action)].append(G)\n",
    "                Q[state][action] = np.mean(returns[(state, action)])\n",
    "    \n",
    "    policy = {s: np.argmax(Q[s]) for s in Q.keys()}\n",
    "    return policy, Q\n",
    "\n",
    "# Initialize the CliffWalking environment\n",
    "env = gym.make(\"CliffWalking-v0\")\n",
    "\n",
    "# Run Monte Carlo ES\n",
    "policy_es, Q_es = monte_carlo_es(env)\n",
    "\n",
    "# Run On-policy first-visit MC control (Ɛ-soft)\n",
    "policy_mc, Q_mc = mc_control_epsilon_soft(env)\n",
    "\n",
    "# Compare results\n",
    "print(\"Monte Carlo Exploring Starts Policy:\")\n",
    "print(policy_es)\n",
    "print(\"\\nOn-policy MC Control (Ɛ-soft) Policy:\")\n",
    "print(policy_mc)\n"
   ]
  },
  {
   "cell_type": "markdown",
   "id": "b80108bd",
   "metadata": {},
   "source": [
    "# Conclusion and Summary of Results\n",
    "## Monte Carlo First Visit:\n",
    "- More stable but requires a higher number of episodes (~500+) for optimal learning.  \n",
    "- Ensures each state-action pair is updated only on its first occurrence in an episode, reducing variance in updates.  \n",
    "- Slower convergence but reliable in the long run.  \n",
    "\n",
    "## Monte Carlo Every Visit:\n",
    "- Updates state-action values on every occurrence in an episode, leading to faster learning (~300-400 episodes).  \n",
    "- More sensitive to noise and initial randomness, making it less stable early on.  \n",
    "- Generally converges quicker but may require additional tuning for optimal performance.  \n",
    "\n",
    "## Overall Comparison:\n",
    "- **If stability is the priority**, First Visit MC is preferable despite slower convergence.  \n",
    "- **If faster learning is needed**, Every Visit MC can be more efficient, especially in shorter training runs.  \n",
    "- Both methods eventually learn the optimal policy, but the trade-off is between stability and speed of convergence.  "
   ]
  }
 ],
 "metadata": {
  "kernelspec": {
   "display_name": "Python 3 (ipykernel)",
   "language": "python",
   "name": "python3"
  },
  "language_info": {
   "codemirror_mode": {
    "name": "ipython",
    "version": 3
   },
   "file_extension": ".py",
   "mimetype": "text/x-python",
   "name": "python",
   "nbconvert_exporter": "python",
   "pygments_lexer": "ipython3",
   "version": "3.9.12"
  }
 },
 "nbformat": 4,
 "nbformat_minor": 5
}
