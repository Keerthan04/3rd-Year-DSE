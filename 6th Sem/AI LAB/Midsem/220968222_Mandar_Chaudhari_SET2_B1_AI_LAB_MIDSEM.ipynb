{
  "cells": [
    {
      "cell_type": "code",
      "source": [
        "# Graph as Adjacency List\n",
        "\n",
        "graph = {\n",
        "    'A': {'B', 'C', 'D'},\n",
        "    'B': {'E', 'F'},\n",
        "    'C': {'G', 'H'},\n",
        "    'D': {'I','J'},\n",
        "    'E': {'K', 'L'},\n",
        "    'F': {'M', 'N'},\n",
        "    'G': {'C'},\n",
        "    'H': {'E'},\n",
        "    'I': {'O', 'P'},\n",
        "    'J': {'Q', 'R'},\n",
        "}"
      ],
      "outputs": [],
      "execution_count": 4,
      "metadata": {},
      "id": "48d91eb4"
    },
    {
      "cell_type": "code",
      "source": [
        "# Depth Limited Search Function\n",
        "\n",
        "def depth_limited_search(start, target, graph, depth):\n",
        "    \n",
        "    stack = [(start, [start], 0)]\n",
        "    explored = set([start])\n",
        "\n",
        "    while stack:\n",
        "        node, path, current_depth = stack.pop()\n",
        "\n",
        "        if node == target:\n",
        "            print(\"**Target Found**\")\n",
        "            print(\"All Explored Nodes:\")\n",
        "            print(explored) # As suggested by ma'am to print all the explored nodes\n",
        "            print()\n",
        "            return path,depth\n",
        "\n",
        "        elif current_depth < depth:\n",
        "            for neighbor_node in graph[node]:\n",
        "                if neighbor_node not in explored:\n",
        "                    explored.add(neighbor_node)\n",
        "                    new_path = path + [neighbor_node]\n",
        "                    new_depth = current_depth + 1\n",
        "                    stack.append((neighbor_node, new_path, new_depth))\n",
        "\n",
        "    print(\"**Target Not Found**\")\n",
        "    print(\"All Explored Nodes:\")\n",
        "    print(explored) # As suggested by ma'am to print all the explored nodes\n",
        "    print()\n",
        "    return path,depth"
      ],
      "outputs": [],
      "execution_count": 2,
      "metadata": {},
      "id": "b0906498"
    },
    {
      "cell_type": "code",
      "source": [
        "#Iterative Deepening\n",
        "\n",
        "start = 'A'\n",
        "target = 'R'\n",
        "\n",
        "for depth in range(4):\n",
        "    print()\n",
        "    print(f\"Searching at depth limit: {depth}\")\n",
        "    path, depth = depth_limited_search(start, target, graph, depth)\n",
        "    print(f\"Path: {path} , Depth: {depth}\")"
      ],
      "outputs": [
        {
          "output_type": "stream",
          "name": "stdout",
          "text": "\nSearching at depth limit: 0\n**Target Not Found**\nAll Explored Nodes:\n{'A'}\n\nPath: ['A'] , Depth: 0\n\nSearching at depth limit: 1\n**Target Not Found**\nAll Explored Nodes:\n{'C', 'B', 'D', 'A'}\n\nPath: ['A', 'C'] , Depth: 1\n\nSearching at depth limit: 2\n**Target Not Found**\nAll Explored Nodes:\n{'C', 'B', 'E', 'J', 'D', 'H', 'I', 'G', 'A', 'F'}\n\nPath: ['A', 'C', 'H'] , Depth: 2\n\nSearching at depth limit: 3\n**Target Found**\nAll Explored Nodes:\n{'C', 'B', 'R', 'J', 'D', 'Q', 'I', 'A'}\n\nPath: ['A', 'D', 'J', 'R'] , Depth: 3\n"
        }
      ],
      "execution_count": 3,
      "metadata": {
        "collapsed": false
      },
      "id": "73b3eb13"
    },
    {
      "cell_type": "code",
      "source": [],
      "outputs": [],
      "execution_count": null,
      "metadata": {},
      "id": "cc99ffa0"
    }
  ],
  "metadata": {
    "kernelspec": {
      "display_name": "Python 3 (ipykernel)",
      "language": "python",
      "name": "python3"
    },
    "language_info": {
      "codemirror_mode": {
        "name": "ipython",
        "version": 3
      },
      "file_extension": ".py",
      "mimetype": "text/x-python",
      "name": "python",
      "nbconvert_exporter": "python",
      "pygments_lexer": "ipython3",
      "version": "3.9.12"
    },
    "nteract": {
      "version": "nteract-front-end@1.0.0"
    }
  },
  "nbformat": 4,
  "nbformat_minor": 5
}
