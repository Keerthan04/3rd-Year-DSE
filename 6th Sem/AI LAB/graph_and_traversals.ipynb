{
 "cells": [
  {
   "cell_type": "markdown",
   "metadata": {},
   "source": [
    "## Practice on graphs,trees and its implementations(DFS,BFS,Alpha-beta-pruning,minmax,iterative deepening)"
   ]
  },
  {
   "cell_type": "markdown",
   "metadata": {},
   "source": [
    "## Iterative Deepening Depth Limited Search Implementation"
   ]
  },
  {
   "cell_type": "code",
   "execution_count": 2,
   "metadata": {},
   "outputs": [
    {
     "name": "stdout",
     "output_type": "stream",
     "text": [
      "Searching at depth limit: 0\n",
      "Searching at depth limit: 1\n",
      "Searching at depth limit: 2\n",
      "Path to goal: ['A', 'C', 'F']\n"
     ]
    }
   ],
   "source": [
    "def depth_limited_search(node, goal, graph, limit, path=None):\n",
    "    if path is None:\n",
    "        path = []\n",
    "    path.append(node)\n",
    "    \n",
    "    # If the goal is found, return True and the path\n",
    "    if node == goal:\n",
    "        return True, path\n",
    "    \n",
    "    # If the depth limit has been reached, backtrack\n",
    "    if limit <= 0:\n",
    "        path.pop()\n",
    "        return False, None\n",
    "    \n",
    "    # Recur for all neighbors (avoiding cycles by not revisiting nodes in the current path)\n",
    "    for neighbor in graph.get(node, []):\n",
    "        if neighbor not in path:\n",
    "            found, result_path = depth_limited_search(neighbor, goal, graph, limit - 1, path)\n",
    "            if found:\n",
    "                return True, result_path\n",
    "    \n",
    "    path.pop()  # Backtrack: remove the node from the current path before returning\n",
    "    return False, None\n",
    "\n",
    "def iterative_deepening_search(start, goal, graph):\n",
    "    depth = 0\n",
    "    while True:\n",
    "        print(f\"Searching at depth limit: {depth}\")\n",
    "        found, path = depth_limited_search(start, goal, graph, depth)\n",
    "        if found:\n",
    "            return path\n",
    "        depth += 1\n",
    "\n",
    "# Example usage:\n",
    "if __name__ == \"__main__\":\n",
    "    # Example graph represented as an adjacency list\n",
    "    graph = {\n",
    "        'A': ['B', 'C'],\n",
    "        'B': ['D', 'E'],\n",
    "        'C': ['F'],\n",
    "        'D': [],\n",
    "        'E': ['F'],\n",
    "        'F': []\n",
    "    }\n",
    "    \n",
    "    start_node = 'A'\n",
    "    goal_node = 'F'\n",
    "    \n",
    "    result_path = iterative_deepening_search(start_node, goal_node, graph)\n",
    "    print(\"Path to goal:\", result_path)\n"
   ]
  },
  {
   "cell_type": "markdown",
   "metadata": {},
   "source": [
    "## Minmax Game edition pseudocode implementation"
   ]
  },
  {
   "cell_type": "code",
   "execution_count": 3,
   "metadata": {},
   "outputs": [],
   "source": [
    "def minimax(state, depth, maximizing_player):\n",
    "    # Base case: if we've reached a terminal state or maximum depth\n",
    "    if depth == 0 or is_terminal(state):\n",
    "        return evaluate(state)\n",
    "    \n",
    "    if maximizing_player:\n",
    "        max_eval = float('-inf')\n",
    "        for move in legal_moves(state):\n",
    "            new_state = apply_move(state, move)\n",
    "            eval = minimax(new_state, depth - 1, False)\n",
    "            max_eval = max(max_eval, eval)\n",
    "        return max_eval\n",
    "    else:\n",
    "        min_eval = float('inf')\n",
    "        for move in legal_moves(state):\n",
    "            new_state = apply_move(state, move)\n",
    "            eval = minimax(new_state, depth - 1, True)\n",
    "            min_eval = min(min_eval, eval)\n",
    "        return min_eval\n",
    "\n",
    "def best_move(state, depth):\n",
    "    \"\"\"Find the best move for the maximizing player.\"\"\"\n",
    "    best_val = float('-inf')\n",
    "    best_mv = None\n",
    "    for move in legal_moves(state):\n",
    "        new_state = apply_move(state, move)\n",
    "        move_val = minimax(new_state, depth - 1, False)\n",
    "        if move_val > best_val:\n",
    "            best_val = move_val\n",
    "            best_mv = move\n",
    "    return best_mv"
   ]
  },
  {
   "cell_type": "markdown",
   "metadata": {},
   "source": [
    "## DFS BFS  Recursive DFS Implementation"
   ]
  },
  {
   "cell_type": "code",
   "execution_count": 4,
   "metadata": {},
   "outputs": [],
   "source": [
    "##DFS\n",
    "from collections import deque\n",
    "def Breadth_First_Search(source,target,graph):\n",
    "    frontier = deque([source])#init with source\n",
    "    explored = set()\n",
    "    while frontier:\n",
    "        node = frontier.popleft()#get the top node\n",
    "        if node == target:\n",
    "            return True\n",
    "        for neighbour_node in graph[node]:#expecting adjacency list\n",
    "            #for each neighbour node if not in explored then mark and put to queu\n",
    "            if neighbour_node not in explored:\n",
    "                explored.add(neighbour_node)\n",
    "                frontier.append(neighbour_node)\n",
    "    return False"
   ]
  },
  {
   "cell_type": "code",
   "execution_count": 5,
   "metadata": {},
   "outputs": [
    {
     "name": "stdout",
     "output_type": "stream",
     "text": [
      "True\n"
     ]
    }
   ],
   "source": [
    "graph = [\n",
    "    [1,2,3],\n",
    "    [2],\n",
    "    [0],\n",
    "]#mock adjacency list representation of graph\n",
    "source = 0\n",
    "target = 2\n",
    "result = Breadth_First_Search(source,target,graph)\n",
    "print(result)"
   ]
  },
  {
   "cell_type": "code",
   "execution_count": null,
   "metadata": {},
   "outputs": [],
   "source": [
    "def Depth_First_Search(source,target,graph):\n",
    "    stack = [source]\n",
    "    explored = set()\n",
    "    while stack:\n",
    "        node =stack.pop()#pop the top one\n",
    "        if node == target:\n",
    "            return True\n",
    "        for neighbour_node in graph[node]:#expecting adjacency list\n",
    "            #for each neighbour node if not in explored then mark and put to queu\n",
    "            if neighbour_node not in explored:\n",
    "                explored.add(neighbour_node)\n",
    "                stack.append(neighbour_node)\n",
    "    return False\n"
   ]
  },
  {
   "cell_type": "code",
   "execution_count": 7,
   "metadata": {},
   "outputs": [
    {
     "name": "stdout",
     "output_type": "stream",
     "text": [
      "False\n"
     ]
    }
   ],
   "source": [
    "graph = [\n",
    "    [1,2],\n",
    "    [2],\n",
    "    [0],\n",
    "]#mock adjacency list representation of graph\n",
    "source = 0\n",
    "target = 3\n",
    "result = Breadth_First_Search(source,target,graph)\n",
    "print(result)"
   ]
  },
  {
   "cell_type": "code",
   "execution_count": 1,
   "metadata": {},
   "outputs": [
    {
     "name": "stdout",
     "output_type": "stream",
     "text": [
      "Path to goal: ['A', 'B', 'E', 'F']\n"
     ]
    }
   ],
   "source": [
    "#Recursive DFS\n",
    "def DFS_recursive(graph, node, target, visited=None, path=None):\n",
    "    if visited is None:\n",
    "        visited = set()\n",
    "    if path is None:\n",
    "        path = []\n",
    "    \n",
    "    # Mark node as visited and add to path\n",
    "    visited.add(node)\n",
    "    path.append(node)\n",
    "\n",
    "    # Check if the target is found\n",
    "    if node == target:\n",
    "        return True, path\n",
    "\n",
    "    # Recur for all unvisited neighbors\n",
    "    for neighbor in graph[node]:\n",
    "        if neighbor not in visited:\n",
    "            found, result_path = DFS_recursive(graph, neighbor, target, visited, path)\n",
    "            if found:\n",
    "                return found, result_path\n",
    "\n",
    "    # Backtrack if target not found in this path\n",
    "    path.pop()\n",
    "    return False, None\n",
    "\n",
    "# Example graph (Adjacency List)\n",
    "graph = {\n",
    "    'A': ['B', 'C'],\n",
    "    'B': ['D', 'E'],\n",
    "    'C': ['F'],\n",
    "    'D': [],\n",
    "    'E': ['F'],\n",
    "    'F': []\n",
    "}\n",
    "\n",
    "start_node = 'A'\n",
    "goal_node = 'F'\n",
    "\n",
    "found, result_path = DFS_recursive(graph, start_node, goal_node)\n",
    "if found:\n",
    "    print(\"Path to goal:\", result_path)\n",
    "else:\n",
    "    print(\"Goal not found\")\n"
   ]
  },
  {
   "cell_type": "markdown",
   "metadata": {},
   "source": [
    "## Min Max Implementation on Trees"
   ]
  },
  {
   "cell_type": "code",
   "execution_count": 6,
   "metadata": {},
   "outputs": [
    {
     "name": "stdout",
     "output_type": "stream",
     "text": [
      "6\n",
      "  3\n",
      "    5\n",
      "    3\n",
      "  6\n",
      "    6\n",
      "    7\n",
      "  5\n",
      "    5\n",
      "    8\n"
     ]
    }
   ],
   "source": [
    "class Tree:\n",
    "    def __init__(self, key):\n",
    "        self.key = key\n",
    "        self.children = []\n",
    "\n",
    "    def insert(self, child_node):\n",
    "        self.children.append(child_node)  # Ensure we insert Tree objects\n",
    "\n",
    "# Tree creation with proper node references\n",
    "root = Tree(6)\n",
    "\n",
    "node1 = Tree(3)\n",
    "node2 = Tree(6)\n",
    "node3 = Tree(5)\n",
    "\n",
    "root.insert(node1)\n",
    "root.insert(node2)\n",
    "root.insert(node3)\n",
    "\n",
    "node1.insert(Tree(5))\n",
    "node1.insert(Tree(3))\n",
    "\n",
    "node2.insert(Tree(6))\n",
    "node2.insert(Tree(7))\n",
    "\n",
    "node3.insert(Tree(5))\n",
    "node3.insert(Tree(8))\n",
    "\n",
    "# Function to print the tree (for verification)\n",
    "def print_tree(node, level=0):\n",
    "    print(\"  \" * level + str(node.key))  # Indentation for hierarchy\n",
    "    for child in node.children:\n",
    "        print_tree(child, level + 1)\n",
    "\n",
    "# Print the tree structure\n",
    "print_tree(root)\n"
   ]
  },
  {
   "cell_type": "code",
   "execution_count": 8,
   "metadata": {},
   "outputs": [
    {
     "name": "stdout",
     "output_type": "stream",
     "text": [
      "6\n"
     ]
    }
   ],
   "source": [
    "def minmax(node,maximizing):\n",
    "    if not node.children:\n",
    "        #meaning terminal node\n",
    "        return node.key#return the value of the node\n",
    "    if maximizing:\n",
    "        #it is a maximizing node\n",
    "        max_val = float('-inf')\n",
    "        for children in node.children:\n",
    "            value = minmax(children,False)\n",
    "            max_val = max(max_val,value)\n",
    "        return max_val\n",
    "    else:\n",
    "        min_val = float('inf')\n",
    "        for children in node.children:\n",
    "            value = minmax(children,True)\n",
    "            min_val = min(min_val,value)\n",
    "        return min_val\n",
    "\n",
    "def run_min_max(root):\n",
    "    value = minmax(root,True)#as first is Maximizing so\n",
    "    return value#be the main value\n",
    "ans = run_min_max(root)\n",
    "print(ans)"
   ]
  },
  {
   "cell_type": "code",
   "execution_count": 9,
   "metadata": {},
   "outputs": [
    {
     "name": "stdout",
     "output_type": "stream",
     "text": [
      "Minimax Value with Alpha-Beta Pruning: 6\n"
     ]
    }
   ],
   "source": [
    "#running alpha beta pruning\n",
    "def alpha_beta_minmax(node, maximizing, alpha, beta):\n",
    "    if not node.children:  # Terminal node\n",
    "        return node.key  \n",
    "\n",
    "    if maximizing:\n",
    "        max_val = float('-inf')\n",
    "        for child in node.children:\n",
    "            value = alpha_beta_minmax(child, False, alpha, beta)\n",
    "            max_val = max(max_val, value)\n",
    "            alpha = max(alpha, max_val)  # Update alpha\n",
    "            \n",
    "            # **Pruning Condition**\n",
    "            if alpha >= beta:\n",
    "                break  # Prune remaining branches\n",
    "        return max_val\n",
    "    else:\n",
    "        min_val = float('inf')\n",
    "        for child in node.children:\n",
    "            value = alpha_beta_minmax(child, True, alpha, beta)\n",
    "            min_val = min(min_val, value)\n",
    "            beta = min(beta, min_val)  # Update beta\n",
    "            \n",
    "            # **Pruning Condition**\n",
    "            if alpha >= beta:\n",
    "                break  # Prune remaining branches\n",
    "        return min_val\n",
    "\n",
    "def run_alpha_beta(root):\n",
    "    return alpha_beta_minmax(root, True, float('-inf'), float('inf'))\n",
    "\n",
    "# Running Alpha-Beta Minimax\n",
    "ans = run_alpha_beta(root)\n",
    "print(\"Minimax Value with Alpha-Beta Pruning:\", ans)\n"
   ]
  }
 ],
 "metadata": {
  "kernelspec": {
   "display_name": "Python 3",
   "language": "python",
   "name": "python3"
  },
  "language_info": {
   "codemirror_mode": {
    "name": "ipython",
    "version": 3
   },
   "file_extension": ".py",
   "mimetype": "text/x-python",
   "name": "python",
   "nbconvert_exporter": "python",
   "pygments_lexer": "ipython3",
   "version": "3.12.10"
  }
 },
 "nbformat": 4,
 "nbformat_minor": 2
}
