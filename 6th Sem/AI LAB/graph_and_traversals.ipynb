{
 "cells": [
  {
   "cell_type": "markdown",
   "metadata": {},
   "source": [
    "## Practice on graphs and implementations"
   ]
  },
  {
   "cell_type": "code",
   "execution_count": 2,
   "metadata": {},
   "outputs": [
    {
     "name": "stdout",
     "output_type": "stream",
     "text": [
      "Searching at depth limit: 0\n",
      "Searching at depth limit: 1\n",
      "Searching at depth limit: 2\n",
      "Path to goal: ['A', 'C', 'F']\n"
     ]
    }
   ],
   "source": [
    "def depth_limited_search(node, goal, graph, limit, path=None):\n",
    "    if path is None:\n",
    "        path = []\n",
    "    path.append(node)\n",
    "    \n",
    "    # If the goal is found, return True and the path\n",
    "    if node == goal:\n",
    "        return True, path\n",
    "    \n",
    "    # If the depth limit has been reached, backtrack\n",
    "    if limit <= 0:\n",
    "        path.pop()\n",
    "        return False, None\n",
    "    \n",
    "    # Recur for all neighbors (avoiding cycles by not revisiting nodes in the current path)\n",
    "    for neighbor in graph.get(node, []):\n",
    "        if neighbor not in path:\n",
    "            found, result_path = depth_limited_search(neighbor, goal, graph, limit - 1, path)\n",
    "            if found:\n",
    "                return True, result_path\n",
    "    \n",
    "    path.pop()  # Backtrack: remove the node from the current path before returning\n",
    "    return False, None\n",
    "\n",
    "def iterative_deepening_search(start, goal, graph):\n",
    "    depth = 0\n",
    "    while True:\n",
    "        print(f\"Searching at depth limit: {depth}\")\n",
    "        found, path = depth_limited_search(start, goal, graph, depth)\n",
    "        if found:\n",
    "            return path\n",
    "        depth += 1\n",
    "\n",
    "# Example usage:\n",
    "if __name__ == \"__main__\":\n",
    "    # Example graph represented as an adjacency list\n",
    "    graph = {\n",
    "        'A': ['B', 'C'],\n",
    "        'B': ['D', 'E'],\n",
    "        'C': ['F'],\n",
    "        'D': [],\n",
    "        'E': ['F'],\n",
    "        'F': []\n",
    "    }\n",
    "    \n",
    "    start_node = 'A'\n",
    "    goal_node = 'F'\n",
    "    \n",
    "    result_path = iterative_deepening_search(start_node, goal_node, graph)\n",
    "    print(\"Path to goal:\", result_path)\n"
   ]
  },
  {
   "cell_type": "code",
   "execution_count": 3,
   "metadata": {},
   "outputs": [],
   "source": [
    "def minimax(state, depth, maximizing_player):\n",
    "    # Base case: if we've reached a terminal state or maximum depth\n",
    "    if depth == 0 or is_terminal(state):\n",
    "        return evaluate(state)\n",
    "    \n",
    "    if maximizing_player:\n",
    "        max_eval = float('-inf')\n",
    "        for move in legal_moves(state):\n",
    "            new_state = apply_move(state, move)\n",
    "            eval = minimax(new_state, depth - 1, False)\n",
    "            max_eval = max(max_eval, eval)\n",
    "        return max_eval\n",
    "    else:\n",
    "        min_eval = float('inf')\n",
    "        for move in legal_moves(state):\n",
    "            new_state = apply_move(state, move)\n",
    "            eval = minimax(new_state, depth - 1, True)\n",
    "            min_eval = min(min_eval, eval)\n",
    "        return min_eval\n",
    "\n",
    "def best_move(state, depth):\n",
    "    \"\"\"Find the best move for the maximizing player.\"\"\"\n",
    "    best_val = float('-inf')\n",
    "    best_mv = None\n",
    "    for move in legal_moves(state):\n",
    "        new_state = apply_move(state, move)\n",
    "        move_val = minimax(new_state, depth - 1, False)\n",
    "        if move_val > best_val:\n",
    "            best_val = move_val\n",
    "            best_mv = move\n",
    "    return best_mv"
   ]
  },
  {
   "cell_type": "code",
   "execution_count": 4,
   "metadata": {},
   "outputs": [],
   "source": [
    "##DFS\n",
    "from collections import deque\n",
    "def Breadth_First_Search(source,target,graph):\n",
    "    frontier = deque([source])#init with source\n",
    "    explored = set()\n",
    "    while frontier:\n",
    "        node = frontier.popleft()#get the top node\n",
    "        if node == target:\n",
    "            return True\n",
    "        for neighbour_node in graph[node]:#expecting adjacency list\n",
    "            #for each neighbour node if not in explored then mark and put to queu\n",
    "            if neighbour_node not in explored:\n",
    "                explored.add(neighbour_node)\n",
    "                frontier.append(neighbour_node)\n",
    "    return False"
   ]
  },
  {
   "cell_type": "code",
   "execution_count": 5,
   "metadata": {},
   "outputs": [
    {
     "name": "stdout",
     "output_type": "stream",
     "text": [
      "True\n"
     ]
    }
   ],
   "source": [
    "graph = [\n",
    "    [1,2,3],\n",
    "    [2],\n",
    "    [0],\n",
    "]#mock adjacency list representation of graph\n",
    "source = 0\n",
    "target = 2\n",
    "result = Breadth_First_Search(source,target,graph)\n",
    "print(result)"
   ]
  },
  {
   "cell_type": "code",
   "execution_count": 6,
   "metadata": {},
   "outputs": [],
   "source": [
    "def Depth_First_Search(source,target,graph):\n",
    "    stack = [source]\n",
    "    explored = set()\n",
    "    while stack:\n",
    "        node =stack.pop()#pop the top one\n",
    "        if node == target:\n",
    "            return True\n",
    "        for neighbour_node in graph[node]:#expecting adjacency list\n",
    "            #for each neighbour node if not in explored then mark and put to queu\n",
    "            if neighbour_node not in explored:\n",
    "                explored.add(neighbour_node)\n",
    "                frontier.append(neighbour_node)\n",
    "    return False\n"
   ]
  },
  {
   "cell_type": "code",
   "execution_count": 7,
   "metadata": {},
   "outputs": [
    {
     "name": "stdout",
     "output_type": "stream",
     "text": [
      "False\n"
     ]
    }
   ],
   "source": [
    "graph = [\n",
    "    [1,2],\n",
    "    [2],\n",
    "    [0],\n",
    "]#mock adjacency list representation of graph\n",
    "source = 0\n",
    "target = 3\n",
    "result = Breadth_First_Search(source,target,graph)\n",
    "print(result)"
   ]
  }
 ],
 "metadata": {
  "kernelspec": {
   "display_name": "Python 3",
   "language": "python",
   "name": "python3"
  },
  "language_info": {
   "codemirror_mode": {
    "name": "ipython",
    "version": 3
   },
   "file_extension": ".py",
   "mimetype": "text/x-python",
   "name": "python",
   "nbconvert_exporter": "python",
   "pygments_lexer": "ipython3",
   "version": "3.12.9"
  }
 },
 "nbformat": 4,
 "nbformat_minor": 2
}
