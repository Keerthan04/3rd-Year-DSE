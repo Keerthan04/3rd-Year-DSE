{
 "cells": [
  {
   "cell_type": "markdown",
   "id": "f7c0f6f7-b7e9-4c61-a21a-0eeb1d2005b6",
   "metadata": {},
   "source": [
    "# Harsh Gupta\n",
    "# 220968362\n",
    "# Sem VI B2"
   ]
  },
  {
   "cell_type": "code",
   "execution_count": 1,
   "id": "3325f492-1a49-4963-adbe-e9e6c3f8a915",
   "metadata": {},
   "outputs": [],
   "source": [
    "import gymnasium as gym\n",
    "import matplotlib.pyplot as plt\n",
    "import numpy as np\n",
    "import pygame"
   ]
  },
  {
   "cell_type": "markdown",
   "id": "1c0d7f50-04be-4416-9544-2e2f0563d2ff",
   "metadata": {},
   "source": [
    "## CartPole Implementation"
   ]
  },
  {
   "cell_type": "markdown",
   "id": "fee57898-5b86-4860-aaad-8e43d1e7760d",
   "metadata": {},
   "source": [
    "### a. Theta Policy"
   ]
  },
  {
   "cell_type": "code",
   "execution_count": 2,
   "id": "e3cff6c1-8fa5-4585-8fc0-f599a50893ed",
   "metadata": {
    "scrolled": true
   },
   "outputs": [],
   "source": [
    "env = gym.make('CartPole-v1')"
   ]
  },
  {
   "cell_type": "code",
   "execution_count": 3,
   "id": "77279cc7-3fe7-45db-95d0-acaf09f96e2a",
   "metadata": {},
   "outputs": [],
   "source": [
    "theta_rewards = []\n",
    "rewards = 0"
   ]
  },
  {
   "cell_type": "code",
   "execution_count": 4,
   "id": "ae7f691e-c958-45bf-88a7-394faa9d7b7d",
   "metadata": {
    "scrolled": true
   },
   "outputs": [
    {
     "name": "stdout",
     "output_type": "stream",
     "text": [
      "Episode 1 - Finished after 39 steps.\n",
      "Episode 2 - Finished after 35 steps.\n",
      "Episode 3 - Finished after 45 steps.\n",
      "Episode 4 - Finished after 38 steps.\n",
      "Episode 5 - Finished after 40 steps.\n",
      "Episode 6 - Finished after 38 steps.\n",
      "Episode 7 - Finished after 35 steps.\n",
      "Episode 8 - Finished after 50 steps.\n",
      "Episode 9 - Finished after 33 steps.\n",
      "Episode 10 - Finished after 42 steps.\n",
      "Episode 11 - Finished after 35 steps.\n",
      "Episode 12 - Finished after 46 steps.\n",
      "Episode 13 - Finished after 42 steps.\n",
      "Episode 14 - Finished after 52 steps.\n",
      "Episode 15 - Finished after 39 steps.\n",
      "Episode 16 - Finished after 52 steps.\n",
      "Episode 17 - Finished after 55 steps.\n",
      "Episode 18 - Finished after 41 steps.\n",
      "Episode 19 - Finished after 39 steps.\n",
      "Episode 20 - Finished after 46 steps.\n",
      "Episode 21 - Finished after 47 steps.\n",
      "Episode 22 - Finished after 38 steps.\n",
      "Episode 23 - Finished after 38 steps.\n",
      "Episode 24 - Finished after 46 steps.\n",
      "Episode 25 - Finished after 37 steps.\n",
      "Episode 26 - Finished after 51 steps.\n",
      "Episode 27 - Finished after 40 steps.\n",
      "Episode 28 - Finished after 35 steps.\n",
      "Episode 29 - Finished after 51 steps.\n",
      "Episode 30 - Finished after 32 steps.\n",
      "Episode 31 - Finished after 51 steps.\n",
      "Episode 32 - Finished after 46 steps.\n",
      "Episode 33 - Finished after 26 steps.\n",
      "Episode 34 - Finished after 39 steps.\n",
      "Episode 35 - Finished after 40 steps.\n",
      "Episode 36 - Finished after 42 steps.\n",
      "Episode 37 - Finished after 41 steps.\n",
      "Episode 38 - Finished after 35 steps.\n",
      "Episode 39 - Finished after 38 steps.\n",
      "Episode 40 - Finished after 56 steps.\n",
      "Episode 41 - Finished after 36 steps.\n",
      "Episode 42 - Finished after 41 steps.\n",
      "Episode 43 - Finished after 47 steps.\n",
      "Episode 44 - Finished after 39 steps.\n",
      "Episode 45 - Finished after 38 steps.\n",
      "Episode 46 - Finished after 35 steps.\n",
      "Episode 47 - Finished after 32 steps.\n",
      "Episode 48 - Finished after 39 steps.\n",
      "Episode 49 - Finished after 51 steps.\n",
      "Episode 50 - Finished after 41 steps.\n",
      "Episode 51 - Finished after 25 steps.\n",
      "Episode 52 - Finished after 54 steps.\n",
      "Episode 53 - Finished after 39 steps.\n",
      "Episode 54 - Finished after 41 steps.\n",
      "Episode 55 - Finished after 35 steps.\n",
      "Episode 56 - Finished after 40 steps.\n",
      "Episode 57 - Finished after 39 steps.\n",
      "Episode 58 - Finished after 52 steps.\n",
      "Episode 59 - Finished after 47 steps.\n",
      "Episode 60 - Finished after 38 steps.\n",
      "Episode 61 - Finished after 47 steps.\n",
      "Episode 62 - Finished after 54 steps.\n",
      "Episode 63 - Finished after 66 steps.\n",
      "Episode 64 - Finished after 38 steps.\n",
      "Episode 65 - Finished after 52 steps.\n",
      "Episode 66 - Finished after 46 steps.\n",
      "Episode 67 - Finished after 45 steps.\n",
      "Episode 68 - Finished after 45 steps.\n",
      "Episode 69 - Finished after 43 steps.\n",
      "Episode 70 - Finished after 42 steps.\n",
      "Episode 71 - Finished after 50 steps.\n",
      "Episode 72 - Finished after 47 steps.\n",
      "Episode 73 - Finished after 34 steps.\n",
      "Episode 74 - Finished after 34 steps.\n",
      "Episode 75 - Finished after 39 steps.\n",
      "Episode 76 - Finished after 33 steps.\n",
      "Episode 77 - Finished after 39 steps.\n",
      "Episode 78 - Finished after 51 steps.\n",
      "Episode 79 - Finished after 38 steps.\n",
      "Episode 80 - Finished after 51 steps.\n",
      "Episode 81 - Finished after 42 steps.\n",
      "Episode 82 - Finished after 36 steps.\n",
      "Episode 83 - Finished after 41 steps.\n",
      "Episode 84 - Finished after 41 steps.\n",
      "Episode 85 - Finished after 39 steps.\n",
      "Episode 86 - Finished after 48 steps.\n",
      "Episode 87 - Finished after 51 steps.\n",
      "Episode 88 - Finished after 38 steps.\n",
      "Episode 89 - Finished after 57 steps.\n",
      "Episode 90 - Finished after 32 steps.\n",
      "Episode 91 - Finished after 55 steps.\n",
      "Episode 92 - Finished after 49 steps.\n",
      "Episode 93 - Finished after 26 steps.\n",
      "Episode 94 - Finished after 61 steps.\n",
      "Episode 95 - Finished after 35 steps.\n",
      "Episode 96 - Finished after 53 steps.\n",
      "Episode 97 - Finished after 41 steps.\n",
      "Episode 98 - Finished after 37 steps.\n",
      "Episode 99 - Finished after 47 steps.\n",
      "Episode 100 - Finished after 46 steps.\n",
      "CPU times: user 32.1 ms, sys: 4.84 ms, total: 37 ms\n",
      "Wall time: 31.7 ms\n"
     ]
    }
   ],
   "source": [
    "%%time\n",
    "num_episodes = 100\n",
    "pygame.display.set_caption(\"CartPole-v1 Theta Policy\")\n",
    "for episode in range(num_episodes):\n",
    "    state, info = env.reset()\n",
    "    done = False\n",
    "    steps = 0\n",
    "    rewards = 0\n",
    "    while not done:\n",
    "        x, v, theta, omega = state\n",
    "        if theta < 0:\n",
    "            action = 0\n",
    "        else:\n",
    "            action = 1\n",
    "        state, reward, done, truncated, info = env.step(action)\n",
    "        rewards += reward\n",
    "        steps += 1\n",
    "        if done or truncated:\n",
    "            print(f\"Episode {episode + 1} - Finished after {steps} steps.\")\n",
    "            break\n",
    "    theta_rewards.append(rewards)\n",
    "env.close()"
   ]
  },
  {
   "cell_type": "markdown",
   "id": "eb7b5cd0-0333-4598-91d3-dd3e53150cbb",
   "metadata": {},
   "source": [
    "### b. Omega Policy"
   ]
  },
  {
   "cell_type": "code",
   "execution_count": 5,
   "id": "de6812af-92ef-4618-bf16-31674e2acc83",
   "metadata": {
    "scrolled": true
   },
   "outputs": [],
   "source": [
    "env = gym.make('CartPole-v1')"
   ]
  },
  {
   "cell_type": "code",
   "execution_count": 6,
   "id": "9493b529-8738-409a-92fb-c080db03bc24",
   "metadata": {},
   "outputs": [],
   "source": [
    "omega_rewards = []\n",
    "rewards2 = 0"
   ]
  },
  {
   "cell_type": "code",
   "execution_count": 7,
   "id": "40a73efd-fe52-4161-8f99-a1855b582ed3",
   "metadata": {
    "scrolled": true
   },
   "outputs": [
    {
     "name": "stdout",
     "output_type": "stream",
     "text": [
      "Episode 1 - Finished after 226 steps.\n",
      "Episode 2 - Finished after 192 steps.\n",
      "Episode 3 - Finished after 194 steps.\n",
      "Episode 4 - Finished after 134 steps.\n",
      "Episode 5 - Finished after 146 steps.\n",
      "Episode 6 - Finished after 223 steps.\n",
      "Episode 7 - Finished after 213 steps.\n",
      "Episode 8 - Finished after 219 steps.\n",
      "Episode 9 - Finished after 221 steps.\n",
      "Episode 10 - Finished after 251 steps.\n",
      "Episode 11 - Finished after 180 steps.\n",
      "Episode 12 - Finished after 256 steps.\n",
      "Episode 13 - Finished after 166 steps.\n",
      "Episode 14 - Finished after 169 steps.\n",
      "Episode 15 - Finished after 229 steps.\n",
      "Episode 16 - Finished after 146 steps.\n",
      "Episode 17 - Finished after 220 steps.\n",
      "Episode 18 - Finished after 166 steps.\n",
      "Episode 19 - Finished after 252 steps.\n",
      "Episode 20 - Finished after 146 steps.\n",
      "Episode 21 - Finished after 172 steps.\n",
      "Episode 22 - Finished after 215 steps.\n",
      "Episode 23 - Finished after 153 steps.\n",
      "Episode 24 - Finished after 251 steps.\n",
      "Episode 25 - Finished after 161 steps.\n",
      "Episode 26 - Finished after 161 steps.\n",
      "Episode 27 - Finished after 210 steps.\n",
      "Episode 28 - Finished after 155 steps.\n",
      "Episode 29 - Finished after 255 steps.\n",
      "Episode 30 - Finished after 157 steps.\n",
      "Episode 31 - Finished after 187 steps.\n",
      "Episode 32 - Finished after 205 steps.\n",
      "Episode 33 - Finished after 159 steps.\n",
      "Episode 34 - Finished after 225 steps.\n",
      "Episode 35 - Finished after 214 steps.\n",
      "Episode 36 - Finished after 157 steps.\n",
      "Episode 37 - Finished after 184 steps.\n",
      "Episode 38 - Finished after 147 steps.\n",
      "Episode 39 - Finished after 146 steps.\n",
      "Episode 40 - Finished after 226 steps.\n",
      "Episode 41 - Finished after 179 steps.\n",
      "Episode 42 - Finished after 173 steps.\n",
      "Episode 43 - Finished after 227 steps.\n",
      "Episode 44 - Finished after 249 steps.\n",
      "Episode 45 - Finished after 245 steps.\n",
      "Episode 46 - Finished after 226 steps.\n",
      "Episode 47 - Finished after 203 steps.\n",
      "Episode 48 - Finished after 156 steps.\n",
      "Episode 49 - Finished after 210 steps.\n",
      "Episode 50 - Finished after 200 steps.\n",
      "Episode 51 - Finished after 217 steps.\n",
      "Episode 52 - Finished after 229 steps.\n",
      "Episode 53 - Finished after 238 steps.\n",
      "Episode 54 - Finished after 204 steps.\n",
      "Episode 55 - Finished after 139 steps.\n",
      "Episode 56 - Finished after 150 steps.\n",
      "Episode 57 - Finished after 140 steps.\n",
      "Episode 58 - Finished after 198 steps.\n",
      "Episode 59 - Finished after 218 steps.\n",
      "Episode 60 - Finished after 235 steps.\n",
      "Episode 61 - Finished after 198 steps.\n",
      "Episode 62 - Finished after 148 steps.\n",
      "Episode 63 - Finished after 173 steps.\n",
      "Episode 64 - Finished after 258 steps.\n",
      "Episode 65 - Finished after 164 steps.\n",
      "Episode 66 - Finished after 225 steps.\n",
      "Episode 67 - Finished after 226 steps.\n",
      "Episode 68 - Finished after 182 steps.\n",
      "Episode 69 - Finished after 218 steps.\n",
      "Episode 70 - Finished after 222 steps.\n",
      "Episode 71 - Finished after 215 steps.\n",
      "Episode 72 - Finished after 250 steps.\n",
      "Episode 73 - Finished after 144 steps.\n",
      "Episode 74 - Finished after 151 steps.\n",
      "Episode 75 - Finished after 168 steps.\n",
      "Episode 76 - Finished after 163 steps.\n",
      "Episode 77 - Finished after 236 steps.\n",
      "Episode 78 - Finished after 154 steps.\n",
      "Episode 79 - Finished after 151 steps.\n",
      "Episode 80 - Finished after 148 steps.\n",
      "Episode 81 - Finished after 167 steps.\n",
      "Episode 82 - Finished after 160 steps.\n",
      "Episode 83 - Finished after 225 steps.\n",
      "Episode 84 - Finished after 230 steps.\n",
      "Episode 85 - Finished after 176 steps.\n",
      "Episode 86 - Finished after 166 steps.\n",
      "Episode 87 - Finished after 151 steps.\n",
      "Episode 88 - Finished after 232 steps.\n",
      "Episode 89 - Finished after 230 steps.\n",
      "Episode 90 - Finished after 218 steps.\n",
      "Episode 91 - Finished after 217 steps.\n",
      "Episode 92 - Finished after 172 steps.\n",
      "Episode 93 - Finished after 147 steps.\n",
      "Episode 94 - Finished after 152 steps.\n",
      "Episode 95 - Finished after 157 steps.\n",
      "Episode 96 - Finished after 260 steps.\n",
      "Episode 97 - Finished after 146 steps.\n",
      "Episode 98 - Finished after 265 steps.\n",
      "Episode 99 - Finished after 207 steps.\n",
      "Episode 100 - Finished after 226 steps.\n",
      "CPU times: user 126 ms, sys: 28.9 ms, total: 155 ms\n",
      "Wall time: 133 ms\n"
     ]
    }
   ],
   "source": [
    "%%time\n",
    "num_episodes = 100\n",
    "pygame.display.set_caption(\"CartPole-v1 Theta Policy\")\n",
    "for episode in range(num_episodes):\n",
    "    state, info = env.reset()\n",
    "    done = False\n",
    "    steps = 0\n",
    "    rewards2 = 0\n",
    "    while not done:\n",
    "        x, v, theta, omega = state\n",
    "        if omega < 0:\n",
    "            action = 0\n",
    "        else:\n",
    "            action = 1\n",
    "        state, reward, done, truncated, info = env.step(action)\n",
    "        rewards2 += reward\n",
    "        steps += 1\n",
    "        if done or truncated:\n",
    "            print(f\"Episode {episode + 1} - Finished after {steps} steps.\")\n",
    "            break\n",
    "    omega_rewards.append(rewards2)\n",
    "env.close()"
   ]
  },
  {
   "cell_type": "markdown",
   "id": "b8625bbc-66ef-4f7c-8395-5e007145f352",
   "metadata": {},
   "source": [
    "### c. Plot the cumulative rewards (based on steps) for each policy , write down the average rewards with standard deviation. "
   ]
  },
  {
   "cell_type": "code",
   "execution_count": 8,
   "id": "35831fe1-14a7-4c62-a57e-d1e47da26578",
   "metadata": {},
   "outputs": [
    {
     "data": {
      "text/plain": [
       "<matplotlib.legend.Legend at 0x7fea88325940>"
      ]
     },
     "execution_count": 8,
     "metadata": {},
     "output_type": "execute_result"
    },
    {
     "data": {
      "image/png": "[encoded data removed]",
      "text/plain": [
       "<Figure size 640x480 with 1 Axes>"
      ]
     },
     "metadata": {},
     "output_type": "display_data"
    }
   ],
   "source": [
    "plt.title('Comparison')\n",
    "plt.xlabel('Episodes')\n",
    "plt.ylabel('Rewards')\n",
    "plt.plot(np.cumsum(theta_rewards), label='Theta Cummulative Rewards')\n",
    "plt.plot(np.cumsum(omega_rewards), label='Omega Cummulative Rewards')\n",
    "plt.legend()"
   ]
  },
  {
   "cell_type": "code",
   "execution_count": 9,
   "id": "5a48c6b0-333f-4191-aa3f-35f2169faba9",
   "metadata": {},
   "outputs": [
    {
     "name": "stdout",
     "output_type": "stream",
     "text": [
      "Theta Policy: Avg Reward = 42.49, Std Dev = 7.56504461321941\n",
      "Omega Policy: Avg Reward = 194.23, Std Dev = 36.7798463835835\n"
     ]
    }
   ],
   "source": [
    "print(f\"Theta Policy: Avg Reward = {np.mean(theta_rewards)}, Std Dev = {np.std(theta_rewards)}\")\n",
    "print(f\"Omega Policy: Avg Reward = {np.mean(omega_rewards)}, Std Dev = {np.std(omega_rewards)}\")"
   ]
  },
  {
   "cell_type": "markdown",
   "id": "4df2b3ce-d3de-4fca-89c0-a3bd7cb94ccb",
   "metadata": {},
   "source": [
    "### d. Comment on performance of policies.\n",
    "##### Each episode produces a reward of +1. So a higher number of steps per episode will lead to higher rewards.\n",
    "##### The Omega Policy runs for far longer episodes, ~4.6x longer on average than a Theta Policy episode. Thus Omega policy produces far greater cummulative rewards after the same number of episodes.\n",
    "##### The Omega Policy has higher standard deviation relative to episode size at  ~18.9% vs Theta Policy's ~17.8%."
   ]
  },
  {
   "cell_type": "code",
   "execution_count": 10,
   "id": "16447466-27d7-4511-a6e9-ad4d4e72869d",
   "metadata": {
    "scrolled": true
   },
   "outputs": [],
   "source": [
    "env = gym.make('MountainCar-v0', render_mode='human')"
   ]
  },
  {
   "cell_type": "code",
   "execution_count": 11,
   "id": "d3bbc569-d37c-4318-bd36-fc3afe864b16",
   "metadata": {},
   "outputs": [
    {
     "data": {
      "text/plain": [
       "Discrete(3)"
      ]
     },
     "execution_count": 11,
     "metadata": {},
     "output_type": "execute_result"
    }
   ],
   "source": [
    "env.action_space"
   ]
  },
  {
   "cell_type": "code",
   "execution_count": 12,
   "id": "3804cafa-72ca-4452-ad6a-e78223a88325",
   "metadata": {},
   "outputs": [
    {
     "data": {
      "text/plain": [
       "Box([-1.2  -0.07], [0.6  0.07], (2,), float32)"
      ]
     },
     "execution_count": 12,
     "metadata": {},
     "output_type": "execute_result"
    }
   ],
   "source": [
    "env.observation_space"
   ]
  },
  {
   "cell_type": "markdown",
   "id": "60fbafec-f21c-4d39-829e-2dd924728024",
   "metadata": {},
   "source": [
    "### a. Implement the MountainCar environment for a certain number of steps"
   ]
  },
  {
   "cell_type": "code",
   "execution_count": 13,
   "id": "17bbfd0c-acc8-42b5-9802-4e34381854d1",
   "metadata": {},
   "outputs": [],
   "source": [
    "step_rewards = []\n",
    "rewards = 0"
   ]
  },
  {
   "cell_type": "code",
   "execution_count": null,
   "id": "207b6aa0-9055-4623-8ec3-8a35093d6d6c",
   "metadata": {},
   "outputs": [],
   "source": [
    "%%time\n",
    "state, info = env.reset()\n",
    "num_steps = 10000\n",
    "pygame.display.set_caption(\"MountainCar-v0 Approach 1\")\n",
    "for step in range(num_steps):\n",
    "    action = env.action_space.sample()\n",
    "    state, reward, done, truncated, info = env.step(action)\n",
    "    rewards += reward\n",
    "    step_rewards.append(rewards)\n",
    "    env.render()\n",
    "    if done:\n",
    "        env.reset()\n",
    "env.close()"
   ]
  },
  {
   "cell_type": "markdown",
   "id": "e51f6ae6-0a1b-4e8d-b8ea-855cec654053",
   "metadata": {},
   "source": [
    "### b. Implement the MountainCar environment for a certain number of episodes"
   ]
  },
  {
   "cell_type": "code",
   "execution_count": null,
   "id": "2ae652a5-a69c-4b46-a550-dc7bd804f2b4",
   "metadata": {},
   "outputs": [],
   "source": [
    "env = gym.make('MountainCar-v0', render_mode='human')"
   ]
  },
  {
   "cell_type": "code",
   "execution_count": null,
   "id": "c7507d8f-582a-4acc-b7c1-82a8a343b2cc",
   "metadata": {},
   "outputs": [],
   "source": [
    "episode_rewards = []\n",
    "rewards = 0"
   ]
  },
  {
   "cell_type": "code",
   "execution_count": null,
   "id": "22c35bbf-68d1-42c5-ba38-407f9d7b162c",
   "metadata": {
    "scrolled": true
   },
   "outputs": [],
   "source": [
    "%%time\n",
    "num_episodes = 50\n",
    "pygame.display.set_caption(\"MountainCar-v0 Approach 2\")\n",
    "for episode in range(num_episodes):\n",
    "    state, info = env.reset()\n",
    "    done = False\n",
    "    steps = 0\n",
    "    rewards = 0\n",
    "    while not done:\n",
    "        action = env.action_space.sample()\n",
    "        state, reward, done, truncated, info = env.step(action)\n",
    "        rewards += reward\n",
    "        env.render()\n",
    "        steps += 1\n",
    "        if done or truncated:\n",
    "            print(f\"Episode {episode + 1} - Finished after {steps} steps.\")\n",
    "            break\n",
    "    episode_rewards.append(rewards)\n",
    "env.close()"
   ]
  },
  {
   "cell_type": "markdown",
   "id": "864b6ba9-ebaa-4f0c-89b4-20f722575c4e",
   "metadata": {},
   "source": [
    "### c. Compare and comment on the rewards earned for both approaches"
   ]
  },
  {
   "cell_type": "code",
   "execution_count": null,
   "id": "ea267276-5f39-4c06-a611-de0d62305940",
   "metadata": {},
   "outputs": [],
   "source": [
    "print('Total rewards after 10000 steps: ', rewards)\n",
    "print('Total rewards after 50 episodes: ', np.sum(episode_rewards))\n",
    "print('Avg rewards per episode: ', np.mean(episode_rewards))"
   ]
  },
  {
   "cell_type": "markdown",
   "id": "8081c44e-5313-4572-91c2-d0edaff77018",
   "metadata": {},
   "source": [
    "### **Observations**\n",
    "##### 1. Each step has a reward of -1, thus the total reward after 10000 steps is -10000.\n",
    "##### 2. Each episode has an average reward of -200 which means that each episode ends after 200 steps.\n",
    "##### 3. Cumulative reward for 50 episodes is same as that of 10000 steps as every episode has a 200 steps limit which results in the same number of total steps.\n",
    "##### 4. Since the action taken is random, the higher number of steps/episodes will lead to higher cumulative reward."
   ]
  },
  {
   "cell_type": "markdown",
   "id": "a0d1952a-0bd7-4baf-8845-96d181a6d811",
   "metadata": {},
   "source": [
    "### d. Plot the cumulative reward of the games and note down the results"
   ]
  },
  {
   "cell_type": "code",
   "execution_count": null,
   "id": "65f3d0fb-ebdb-45c8-8309-0ef2f3d61ccd",
   "metadata": {},
   "outputs": [],
   "source": [
    "plt.title('Approach 1')\n",
    "plt.xlabel('Steps')\n",
    "plt.ylabel('Rewards')\n",
    "plt.plot(step_rewards, label='Cummulative Rewards')\n",
    "plt.legend()"
   ]
  },
  {
   "cell_type": "code",
   "execution_count": null,
   "id": "d35fb26a-288d-4b9f-bee5-3581150fe31a",
   "metadata": {},
   "outputs": [],
   "source": [
    "plt.title('Approach 2')\n",
    "plt.xlabel('Episodes')\n",
    "plt.ylabel('Rewards')\n",
    "plt.plot(episode_rewards, label='Episode Rewards')\n",
    "plt.plot(np.cumsum(episode_rewards), label='Cummulative Rewards')\n",
    "plt.legend()"
   ]
  }
 ],
 "metadata": {
  "kernelspec": {
   "display_name": "Python 3 (ipykernel)",
   "language": "python",
   "name": "python3"
  },
  "language_info": {
   "codemirror_mode": {
    "name": "ipython",
    "version": 3
   },
   "file_extension": ".py",
   "mimetype": "text/x-python",
   "name": "python",
   "nbconvert_exporter": "python",
   "pygments_lexer": "ipython3",
   "version": "3.8.19"
  }
 },
 "nbformat": 4,
 "nbformat_minor": 5
}
