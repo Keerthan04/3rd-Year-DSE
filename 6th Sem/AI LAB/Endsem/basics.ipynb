{
 "cells": [
  {
   "cell_type": "markdown",
   "id": "f9e471ed",
   "metadata": {},
   "source": [
    "## basics (before midsem portions)"
   ]
  },
  {
   "cell_type": "markdown",
   "id": "cbbf981f",
   "metadata": {},
   "source": [
    "##### theta omega(diff policy using states update)"
   ]
  },
  {
   "cell_type": "code",
   "execution_count": 1,
   "id": "62268d6b",
   "metadata": {},
   "outputs": [],
   "source": [
    "import pandas as pd\n",
    "import numpy as np\n",
    "import matplotlib.pyplot as plt\n",
    "import gymnasium as gym"
   ]
  },
  {
   "cell_type": "code",
   "execution_count": 2,
   "id": "9af9f3e0",
   "metadata": {},
   "outputs": [
    {
     "data": {
      "text/plain": [
       "(array([ 0.00432969,  0.04707438, -0.03036953, -0.03217735], dtype=float32),\n",
       " {})"
      ]
     },
     "execution_count": 2,
     "metadata": {},
     "output_type": "execute_result"
    }
   ],
   "source": [
    "env = gym.make(\"CartPole-v1\")\n",
    "env.reset()"
   ]
  },
  {
   "cell_type": "code",
   "execution_count": 3,
   "id": "190811f6",
   "metadata": {},
   "outputs": [],
   "source": [
    "episode_reward = []\n",
    "for i in range(10):\n",
    "    state,info = env.reset()\n",
    "    total_reward =0\n",
    "    done = False\n",
    "    while not done:\n",
    "        theta = state[2]\n",
    "        action= 0 if theta <0 else 1\n",
    "        state,reward,done,_,_ = env.step(action)\n",
    "        total_reward += reward\n",
    "    episode_reward.append(total_reward)\n"
   ]
  },
  {
   "cell_type": "code",
   "execution_count": 4,
   "id": "e78ef364",
   "metadata": {},
   "outputs": [
    {
     "data": {
      "text/plain": [
       "[38.0, 38.0, 38.0, 58.0, 42.0, 39.0, 40.0, 38.0, 47.0, 46.0]"
      ]
     },
     "execution_count": 4,
     "metadata": {},
     "output_type": "execute_result"
    }
   ],
   "source": [
    "episode_reward"
   ]
  },
  {
   "cell_type": "code",
   "execution_count": 5,
   "id": "ccd51713",
   "metadata": {},
   "outputs": [],
   "source": [
    "episode_reward = []\n",
    "for i in range(10):\n",
    "    state,info = env.reset()\n",
    "    total_reward =0\n",
    "    done = False\n",
    "    while not done:\n",
    "        omega = state[3]\n",
    "        action= 0 if omega <0 else 1\n",
    "        state,reward,done,_,_ = env.step(action)\n",
    "        total_reward += reward\n",
    "    episode_reward.append(total_reward)"
   ]
  },
  {
   "cell_type": "code",
   "execution_count": 6,
   "id": "af16bb38",
   "metadata": {},
   "outputs": [
    {
     "data": {
      "text/plain": [
       "[141.0, 201.0, 219.0, 211.0, 283.0, 189.0, 256.0, 135.0, 172.0, 157.0]"
      ]
     },
     "execution_count": 6,
     "metadata": {},
     "output_type": "execute_result"
    }
   ],
   "source": [
    "episode_reward"
   ]
  },
  {
   "cell_type": "code",
   "execution_count": null,
   "id": "1fdb337d",
   "metadata": {},
   "outputs": [],
   "source": [
    "#if mountain car then with position and velocity and poistion is state[0] and velocity is state[1]"
   ]
  },
  {
   "cell_type": "markdown",
   "id": "3535df1b",
   "metadata": {},
   "source": [
    "### DFS and BFS"
   ]
  },
  {
   "cell_type": "code",
   "execution_count": 14,
   "id": "b86441c1",
   "metadata": {},
   "outputs": [],
   "source": [
    "from collections import deque\n",
    "def bfs(start,goal,graph):\n",
    "    queue = deque([(start,[start])])#node,path\n",
    "    explored = set()\n",
    "    explored.add(start)\n",
    "    \n",
    "    while queue:\n",
    "        node,path = queue.popleft()\n",
    "        if node == goal:\n",
    "            return path\n",
    "        for neighbour in graph[node]:\n",
    "            if neighbour not in explored:\n",
    "                queue.append((neighbour,path+[neighbour]))\n",
    "                explored.add(neighbour)\n",
    "    \n",
    "    return []"
   ]
  },
  {
   "cell_type": "code",
   "execution_count": 15,
   "id": "b5875a4d",
   "metadata": {},
   "outputs": [
    {
     "name": "stdout",
     "output_type": "stream",
     "text": [
      "['A', 'C', 'F']\n"
     ]
    }
   ],
   "source": [
    "graph = {\n",
    "    'A': ['B', 'C'],\n",
    "    'B': ['D', 'E'],\n",
    "    'C': ['F'],\n",
    "    'D': [],\n",
    "    'E': ['F'],\n",
    "    'F': []\n",
    "}\n",
    "print(bfs('A', 'F', graph))"
   ]
  },
  {
   "cell_type": "code",
   "execution_count": 16,
   "id": "ea6e9da7",
   "metadata": {},
   "outputs": [
    {
     "name": "stdout",
     "output_type": "stream",
     "text": [
      "['A', 'C', 'F']\n"
     ]
    }
   ],
   "source": [
    "def dfs(start,goal,graph):\n",
    "    stack= [(start,[start])]\n",
    "    explored = set()\n",
    "    explored.add(start)\n",
    "    while stack:\n",
    "        node,path = stack.pop()\n",
    "        if node == goal:\n",
    "            return path\n",
    "        for neighbour in graph[node]:\n",
    "            if neighbour not in explored:\n",
    "                stack.append((neighbour,path+[neighbour]))\n",
    "                explored.add(neighbour)\n",
    "    return []\n",
    "print(dfs('A', 'F', graph))"
   ]
  },
  {
   "cell_type": "markdown",
   "id": "2e3bb8d7",
   "metadata": {},
   "source": [
    "### Iterative Deepening DLS and minmax"
   ]
  },
  {
   "cell_type": "code",
   "execution_count": 20,
   "id": "bd4aae3b",
   "metadata": {},
   "outputs": [],
   "source": [
    "def iterative_deepening(graph, node, target, path=None, limit=5):\n",
    "    if path is None:\n",
    "        path = []\n",
    "\n",
    "    path = path + [node]  # ⬅️ create a fresh copy instead of modifying in-place\n",
    "\n",
    "    if node == target:\n",
    "        return True, path\n",
    "\n",
    "    if limit <= 0:\n",
    "        return False, None\n",
    "\n",
    "    for neighbour in graph[node]:\n",
    "        if neighbour not in path:\n",
    "            found, result_path = iterative_deepening(graph, neighbour, target, path, limit - 1)\n",
    "            if found:\n",
    "                return True, result_path\n",
    "\n",
    "    return False, None  # No need to pop due to path copy\n",
    "\n",
    "\n",
    "def DLS(start,target,graph):\n",
    "    depth = 1\n",
    "    while True:\n",
    "        found,path = iterative_deepening(graph,start,target,None,depth)\n",
    "        if found:\n",
    "            return path\n",
    "        depth+=1"
   ]
  },
  {
   "cell_type": "code",
   "execution_count": 21,
   "id": "abf1adc7",
   "metadata": {},
   "outputs": [
    {
     "name": "stdout",
     "output_type": "stream",
     "text": [
      "Path to goal: ['A', 'C', 'F']\n"
     ]
    }
   ],
   "source": [
    "graph = {\n",
    "    'A': ['B', 'C'],\n",
    "    'B': ['D', 'E'],\n",
    "    'C': ['F'],\n",
    "    'D': [],\n",
    "    'E': ['F'],\n",
    "    'F': []\n",
    "}\n",
    "\n",
    "start_node = 'A'\n",
    "goal_node = 'F'\n",
    "\n",
    "result_path = DLS(start_node, goal_node, graph)\n",
    "print(\"Path to goal:\", result_path)"
   ]
  },
  {
   "cell_type": "code",
   "execution_count": 22,
   "id": "42aec7c8",
   "metadata": {},
   "outputs": [
    {
     "name": "stdout",
     "output_type": "stream",
     "text": [
      "6\n",
      "  3\n",
      "    5\n",
      "    3\n",
      "  6\n",
      "    6\n",
      "    7\n",
      "  5\n",
      "    5\n",
      "    8\n"
     ]
    }
   ],
   "source": [
    "class Tree:\n",
    "    def __init__(self,key):\n",
    "        self.key = key\n",
    "        self.children = []\n",
    "    def insert(self,node):\n",
    "        self.children.append(node)\n",
    "        \n",
    "# Tree creation with proper node references\n",
    "root = Tree(6)\n",
    "\n",
    "node1 = Tree(3)\n",
    "node2 = Tree(6)\n",
    "node3 = Tree(5)\n",
    "\n",
    "root.insert(node1)\n",
    "root.insert(node2)\n",
    "root.insert(node3)\n",
    "\n",
    "node1.insert(Tree(5))\n",
    "node1.insert(Tree(3))\n",
    "\n",
    "node2.insert(Tree(6))\n",
    "node2.insert(Tree(7))\n",
    "\n",
    "node3.insert(Tree(5))\n",
    "node3.insert(Tree(8))\n",
    "\n",
    "# Function to print the tree (for verification)\n",
    "def print_tree(node, level=0):\n",
    "    print(\"  \" * level + str(node.key))  # Indentation for hierarchy\n",
    "    for child in node.children:\n",
    "        print_tree(child, level + 1)\n",
    "\n",
    "# Print the tree structure\n",
    "print_tree(root)"
   ]
  },
  {
   "cell_type": "code",
   "execution_count": 24,
   "id": "9ea056a2",
   "metadata": {},
   "outputs": [
    {
     "name": "stdout",
     "output_type": "stream",
     "text": [
      "Minimax Value with Alpha-Beta Pruning: 6\n"
     ]
    }
   ],
   "source": [
    "def minmax(node,maximizing,alpha,beta):\n",
    "    if not node.children:\n",
    "        return node.key\n",
    "    if maximizing:\n",
    "        max_val = float('-inf')\n",
    "        for children in node.children:\n",
    "            val = minmax(children,False,alpha,beta)\n",
    "            max_val = max(max_val,val)\n",
    "            alpha = max(alpha,max_val)\n",
    "            if alpha >= beta:\n",
    "                break\n",
    "        return max_val\n",
    "    else:\n",
    "        min_val = float('inf')\n",
    "        for children in node.children:\n",
    "            val = minmax(children,True,alpha,beta)\n",
    "            min_val = min(min_val,val)\n",
    "            beta = min(beta,min_val)\n",
    "            if alpha >= beta:\n",
    "                break\n",
    "        return min_val\n",
    "\n",
    "def run_min_max(root):\n",
    "    val = minmax(root,True,float('-inf'),float('inf'))\n",
    "    return val\n",
    "\n",
    "# Running Alpha-Beta Minimax\n",
    "ans = run_min_max(root)\n",
    "print(\"Minimax Value with Alpha-Beta Pruning:\", ans)"
   ]
  },
  {
   "cell_type": "code",
   "execution_count": null,
   "id": "86ca53d8",
   "metadata": {},
   "outputs": [],
   "source": [
    "#DLS on env\n",
    "def DLS(state, env, target_state, depth, visited):\n",
    "    if state == target_state:\n",
    "        return True, [state]\n",
    "    if depth <= 0:\n",
    "        return False, None\n",
    "\n",
    "    for action in env.action_space:\n",
    "        next_state = transition(state, action,env)\n",
    "        if next_state not in visited:\n",
    "            found, path = DLS(next_state, env, target_state, depth - 1, visited | {next_state})\n",
    "            if found:\n",
    "                return True, [state] + path\n",
    "\n",
    "    return False, None\n",
    "def transition(state, action, env):\n",
    "    outcomes = env.P[state][action]  # list of (prob, next_state, reward, done)\n",
    "    best = max(outcomes, key=lambda x: x[0])  # pick highest-probability one\n",
    "    return best[1]  # return the most likely next_state\n"
   ]
  }
 ],
 "metadata": {
  "kernelspec": {
   "display_name": "Python 3",
   "language": "python",
   "name": "python3"
  },
  "language_info": {
   "codemirror_mode": {
    "name": "ipython",
    "version": 3
   },
   "file_extension": ".py",
   "mimetype": "text/x-python",
   "name": "python",
   "nbconvert_exporter": "python",
   "pygments_lexer": "ipython3",
   "version": "3.12.10"
  }
 },
 "nbformat": 4,
 "nbformat_minor": 5
}
