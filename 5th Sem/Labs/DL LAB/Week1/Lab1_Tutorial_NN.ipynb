{
 "cells": [
  {
   "cell_type": "markdown",
   "metadata": {
    "id": "aAlYs1itr5Ku"
   },
   "source": [
    "1) Import the necessray libraries"
   ]
  },
  {
   "cell_type": "code",
   "execution_count": null,
   "metadata": {
    "id": "lrGIhhPUK-lb"
   },
   "outputs": [],
   "source": [
    "import numpy as np\n",
    "import tensorflow as tf\n",
    "from tensorflow.keras.models import Sequential\n",
    "from tensorflow.keras.layers import Dense, Input"
   ]
  },
  {
   "cell_type": "markdown",
   "metadata": {
    "id": "UVB4MupKsB7w"
   },
   "source": [
    "2) For the tutorial, lets experiment with random data\n",
    "\n"
   ]
  },
  {
   "cell_type": "code",
   "execution_count": null,
   "metadata": {
    "id": "HgMaNEHYxj6U"
   },
   "outputs": [],
   "source": [
    "# Generate random input data (features)\n",
    "num_samples = 1000\n",
    "num_features = 10\n",
    "num_classes = 2\n",
    "X = np.random.rand(num_samples, num_features)"
   ]
  },
  {
   "cell_type": "code",
   "execution_count": null,
   "metadata": {
    "id": "zs1G3MsQffoQ"
   },
   "outputs": [],
   "source": [
    "# Generate random output labels (classes)\n",
    "y = np.random.randint(0, num_classes, size=num_samples)"
   ]
  },
  {
   "cell_type": "code",
   "execution_count": null,
   "metadata": {
    "id": "WZ8iserHfnVH"
   },
   "outputs": [],
   "source": [
    "# Split the data into training and testing sets\n",
    "split_ratio = 0.8\n",
    "split_index = int(num_samples * split_ratio)\n",
    "\n",
    "X_train, X_test = X[:split_index], X[split_index:]\n",
    "y_train, y_test = y[:split_index], y[split_index:]"
   ]
  },
  {
   "cell_type": "markdown",
   "metadata": {
    "id": "UTFXKmsNxoKc"
   },
   "source": [
    "3) Define the model"
   ]
  },
  {
   "cell_type": "code",
   "execution_count": null,
   "metadata": {
    "id": "rkEFvzYOf2Wf"
   },
   "outputs": [],
   "source": [
    "# Build the neural network model using Sequential API\n",
    "model = Sequential([\n",
    "    Input(shape=(num_features,),name='input'),#the shape is (10,) to represent the vector format\n",
    "    Dense(6, activation='relu',name='d1'),  # Hidden layer with 6 neurons\n",
    "    Dense(2, activation='softmax')  # Output layer with num_classes neurons and softmax activation for classification\n",
    "])#dense in the hidden and output to tell as fully connected network\n",
    "#and final layer number is neuron is 2 as binary classification and also activation shd be proper\n",
    "#softmax gives as probability"
   ]
  },
  {
   "cell_type": "code",
   "execution_count": null,
   "metadata": {
    "colab": {
     "base_uri": "https://localhost:8080/"
    },
    "id": "H9-kSf5Pg6mB",
    "outputId": "557ef1f2-6c46-48e3-9f6f-f7e2e6f3d27e"
   },
   "outputs": [
    {
     "name": "stdout",
     "output_type": "stream",
     "text": [
      "Model: \"sequential\"\n",
      "_________________________________________________________________\n",
      " Layer (type)                Output Shape              Param #   \n",
      "=================================================================\n",
      " d1 (Dense)                  (None, 6)                 66        \n",
      "                                                                 \n",
      " dense (Dense)               (None, 2)                 14        \n",
      "                                                                 \n",
      "=================================================================\n",
      "Total params: 80 (320.00 Byte)\n",
      "Trainable params: 80 (320.00 Byte)\n",
      "Non-trainable params: 0 (0.00 Byte)\n",
      "_________________________________________________________________\n"
     ]
    }
   ],
   "source": [
    "# Display a summary of the model architecture\n",
    "model.summary()"
   ]
  },
  {
   "cell_type": "markdown",
   "metadata": {
    "id": "7KcD-2o-x2xV"
   },
   "source": [
    "4) Compile the model"
   ]
  },
  {
   "cell_type": "code",
   "execution_count": null,
   "metadata": {
    "id": "_b25F_mgf8Z0"
   },
   "outputs": [],
   "source": [
    "# Compile the model\n",
    "model.compile(optimizer='adam', loss='sparse_categorical_crossentropy', metrics=['accuracy'])\n",
    "#different loss functions and all are there\n"
   ]
  },
  {
   "cell_type": "markdown",
   "metadata": {
    "id": "ZpJXA2PZyCUE"
   },
   "source": [
    "5) Fit/train the model"
   ]
  },
  {
   "cell_type": "code",
   "execution_count": null,
   "metadata": {
    "colab": {
     "base_uri": "https://localhost:8080/"
    },
    "id": "i0OTpH1Sg-_R",
    "outputId": "c0a1ad9f-2cac-44f0-f4aa-01bffcc28080"
   },
   "outputs": [
    {
     "name": "stdout",
     "output_type": "stream",
     "text": [
      "Epoch 1/50\n",
      "23/23 [==============================] - 2s 33ms/step - loss: 0.7596 - accuracy: 0.5056 - val_loss: 0.7388 - val_accuracy: 0.4875\n",
      "Epoch 2/50\n",
      "23/23 [==============================] - 0s 9ms/step - loss: 0.7227 - accuracy: 0.5000 - val_loss: 0.7113 - val_accuracy: 0.4750\n",
      "Epoch 3/50\n",
      "23/23 [==============================] - 0s 11ms/step - loss: 0.7170 - accuracy: 0.5028 - val_loss: 0.7125 - val_accuracy: 0.4625\n",
      "Epoch 4/50\n",
      "23/23 [==============================] - 0s 9ms/step - loss: 0.7145 - accuracy: 0.5000 - val_loss: 0.7124 - val_accuracy: 0.4250\n",
      "Epoch 5/50\n",
      "23/23 [==============================] - 0s 6ms/step - loss: 0.7119 - accuracy: 0.4986 - val_loss: 0.7163 - val_accuracy: 0.4500\n",
      "Epoch 6/50\n",
      "23/23 [==============================] - 0s 6ms/step - loss: 0.7103 - accuracy: 0.4986 - val_loss: 0.7175 - val_accuracy: 0.4125\n",
      "Epoch 7/50\n",
      "23/23 [==============================] - 0s 5ms/step - loss: 0.7084 - accuracy: 0.4833 - val_loss: 0.7220 - val_accuracy: 0.4000\n",
      "Epoch 8/50\n",
      "23/23 [==============================] - 0s 7ms/step - loss: 0.7061 - accuracy: 0.4931 - val_loss: 0.7187 - val_accuracy: 0.4125\n",
      "Epoch 9/50\n",
      "23/23 [==============================] - 0s 7ms/step - loss: 0.7041 - accuracy: 0.4986 - val_loss: 0.7203 - val_accuracy: 0.4000\n",
      "Epoch 10/50\n",
      "23/23 [==============================] - 0s 7ms/step - loss: 0.7035 - accuracy: 0.4861 - val_loss: 0.7185 - val_accuracy: 0.4000\n",
      "Epoch 11/50\n",
      "23/23 [==============================] - 0s 6ms/step - loss: 0.7029 - accuracy: 0.5056 - val_loss: 0.7241 - val_accuracy: 0.4250\n",
      "Epoch 12/50\n",
      "23/23 [==============================] - 0s 7ms/step - loss: 0.7007 - accuracy: 0.5111 - val_loss: 0.7223 - val_accuracy: 0.4250\n",
      "Epoch 13/50\n",
      "23/23 [==============================] - 0s 6ms/step - loss: 0.7006 - accuracy: 0.5125 - val_loss: 0.7246 - val_accuracy: 0.4125\n",
      "Epoch 14/50\n",
      "23/23 [==============================] - 0s 5ms/step - loss: 0.6991 - accuracy: 0.5097 - val_loss: 0.7221 - val_accuracy: 0.4250\n",
      "Epoch 15/50\n",
      "23/23 [==============================] - 0s 5ms/step - loss: 0.6988 - accuracy: 0.5083 - val_loss: 0.7201 - val_accuracy: 0.4125\n",
      "Epoch 16/50\n",
      "23/23 [==============================] - 0s 8ms/step - loss: 0.6987 - accuracy: 0.5014 - val_loss: 0.7230 - val_accuracy: 0.4125\n",
      "Epoch 17/50\n",
      "23/23 [==============================] - 0s 6ms/step - loss: 0.6975 - accuracy: 0.5028 - val_loss: 0.7195 - val_accuracy: 0.4125\n",
      "Epoch 18/50\n",
      "23/23 [==============================] - 0s 6ms/step - loss: 0.6977 - accuracy: 0.4944 - val_loss: 0.7181 - val_accuracy: 0.4000\n",
      "Epoch 19/50\n",
      "23/23 [==============================] - 0s 6ms/step - loss: 0.6970 - accuracy: 0.4986 - val_loss: 0.7209 - val_accuracy: 0.4250\n",
      "Epoch 20/50\n",
      "23/23 [==============================] - 0s 8ms/step - loss: 0.6967 - accuracy: 0.5042 - val_loss: 0.7199 - val_accuracy: 0.4250\n",
      "Epoch 21/50\n",
      "23/23 [==============================] - 0s 7ms/step - loss: 0.6962 - accuracy: 0.5069 - val_loss: 0.7198 - val_accuracy: 0.4375\n",
      "Epoch 22/50\n",
      "23/23 [==============================] - 0s 6ms/step - loss: 0.6960 - accuracy: 0.5069 - val_loss: 0.7205 - val_accuracy: 0.4125\n",
      "Epoch 23/50\n",
      "23/23 [==============================] - 0s 6ms/step - loss: 0.6956 - accuracy: 0.5111 - val_loss: 0.7185 - val_accuracy: 0.4250\n",
      "Epoch 24/50\n",
      "23/23 [==============================] - 0s 6ms/step - loss: 0.6959 - accuracy: 0.5097 - val_loss: 0.7210 - val_accuracy: 0.4000\n",
      "Epoch 25/50\n",
      "23/23 [==============================] - 0s 5ms/step - loss: 0.6947 - accuracy: 0.5181 - val_loss: 0.7185 - val_accuracy: 0.4125\n",
      "Epoch 26/50\n",
      "23/23 [==============================] - 0s 5ms/step - loss: 0.6952 - accuracy: 0.5083 - val_loss: 0.7174 - val_accuracy: 0.4125\n",
      "Epoch 27/50\n",
      "23/23 [==============================] - 0s 6ms/step - loss: 0.6948 - accuracy: 0.5153 - val_loss: 0.7189 - val_accuracy: 0.4000\n",
      "Epoch 28/50\n",
      "23/23 [==============================] - 0s 7ms/step - loss: 0.6943 - accuracy: 0.5139 - val_loss: 0.7168 - val_accuracy: 0.4250\n",
      "Epoch 29/50\n",
      "23/23 [==============================] - 0s 6ms/step - loss: 0.6940 - accuracy: 0.5097 - val_loss: 0.7174 - val_accuracy: 0.4250\n",
      "Epoch 30/50\n",
      "23/23 [==============================] - 0s 5ms/step - loss: 0.6944 - accuracy: 0.5167 - val_loss: 0.7206 - val_accuracy: 0.3875\n",
      "Epoch 31/50\n",
      "23/23 [==============================] - 0s 7ms/step - loss: 0.6937 - accuracy: 0.5125 - val_loss: 0.7185 - val_accuracy: 0.3875\n",
      "Epoch 32/50\n",
      "23/23 [==============================] - 0s 5ms/step - loss: 0.6941 - accuracy: 0.4986 - val_loss: 0.7162 - val_accuracy: 0.4375\n",
      "Epoch 33/50\n",
      "23/23 [==============================] - 0s 3ms/step - loss: 0.6932 - accuracy: 0.5056 - val_loss: 0.7176 - val_accuracy: 0.3875\n",
      "Epoch 34/50\n",
      "23/23 [==============================] - 0s 3ms/step - loss: 0.6940 - accuracy: 0.5278 - val_loss: 0.7209 - val_accuracy: 0.3875\n",
      "Epoch 35/50\n",
      "23/23 [==============================] - 0s 4ms/step - loss: 0.6932 - accuracy: 0.5222 - val_loss: 0.7195 - val_accuracy: 0.3875\n",
      "Epoch 36/50\n",
      "23/23 [==============================] - 0s 3ms/step - loss: 0.6930 - accuracy: 0.5222 - val_loss: 0.7195 - val_accuracy: 0.3875\n",
      "Epoch 37/50\n",
      "23/23 [==============================] - 0s 3ms/step - loss: 0.6926 - accuracy: 0.5139 - val_loss: 0.7170 - val_accuracy: 0.4000\n",
      "Epoch 38/50\n",
      "23/23 [==============================] - 0s 3ms/step - loss: 0.6931 - accuracy: 0.5208 - val_loss: 0.7189 - val_accuracy: 0.3875\n",
      "Epoch 39/50\n",
      "23/23 [==============================] - 0s 3ms/step - loss: 0.6931 - accuracy: 0.5028 - val_loss: 0.7152 - val_accuracy: 0.4500\n",
      "Epoch 40/50\n",
      "23/23 [==============================] - 0s 4ms/step - loss: 0.6923 - accuracy: 0.5222 - val_loss: 0.7186 - val_accuracy: 0.3875\n",
      "Epoch 41/50\n",
      "23/23 [==============================] - 0s 4ms/step - loss: 0.6924 - accuracy: 0.5306 - val_loss: 0.7201 - val_accuracy: 0.3750\n",
      "Epoch 42/50\n",
      "23/23 [==============================] - 0s 3ms/step - loss: 0.6920 - accuracy: 0.5125 - val_loss: 0.7164 - val_accuracy: 0.4125\n",
      "Epoch 43/50\n",
      "23/23 [==============================] - 0s 4ms/step - loss: 0.6924 - accuracy: 0.5111 - val_loss: 0.7164 - val_accuracy: 0.4125\n",
      "Epoch 44/50\n",
      "23/23 [==============================] - 0s 4ms/step - loss: 0.6924 - accuracy: 0.5236 - val_loss: 0.7194 - val_accuracy: 0.3875\n",
      "Epoch 45/50\n",
      "23/23 [==============================] - 0s 3ms/step - loss: 0.6917 - accuracy: 0.5250 - val_loss: 0.7178 - val_accuracy: 0.4000\n",
      "Epoch 46/50\n",
      "23/23 [==============================] - 0s 4ms/step - loss: 0.6917 - accuracy: 0.5153 - val_loss: 0.7161 - val_accuracy: 0.4125\n",
      "Epoch 47/50\n",
      "23/23 [==============================] - 0s 4ms/step - loss: 0.6915 - accuracy: 0.5236 - val_loss: 0.7167 - val_accuracy: 0.4125\n",
      "Epoch 48/50\n",
      "23/23 [==============================] - 0s 3ms/step - loss: 0.6918 - accuracy: 0.5194 - val_loss: 0.7183 - val_accuracy: 0.3875\n",
      "Epoch 49/50\n",
      "23/23 [==============================] - 0s 3ms/step - loss: 0.6914 - accuracy: 0.5111 - val_loss: 0.7164 - val_accuracy: 0.4250\n",
      "Epoch 50/50\n",
      "23/23 [==============================] - 0s 4ms/step - loss: 0.6912 - accuracy: 0.5222 - val_loss: 0.7182 - val_accuracy: 0.4000\n"
     ]
    },
    {
     "data": {
      "text/plain": [
       "<keras.callbacks.History at 0x7f1dce314fa0>"
      ]
     },
     "execution_count": 8,
     "metadata": {},
     "output_type": "execute_result"
    }
   ],
   "source": [
    "# Train the model using the training data\n",
    "epochs = 50\n",
    "batch_size = 32\n",
    "h= model.fit(X_train, y_train, epochs=epochs, batch_size=batch_size, validation_split=0.1)\n",
    "#if epoch=1 means that model has seen the whole data once,here 50 so 50times it sees\n",
    "#we divid the data to batches as instead of seeing all the data and updating weihts we tell to use 32as batch size and then update the weights\n",
    "# so if data is 100 and batch size is 10 then 10 times the weight updation is done for 1 epoch\n",
    "#here train is split into validation and training\n",
    "\n",
    "#the epoch gives loss and also accuracy as we mentioned and then validation loss for the validation data"
   ]
  },
  {
   "cell_type": "markdown",
   "metadata": {
    "id": "WCQbvhrAyFpo"
   },
   "source": [
    "6) Evaluate/test the model"
   ]
  },
  {
   "cell_type": "code",
   "execution_count": null,
   "metadata": {},
   "outputs": [],
   "source": [
    "#if the validation los is decreasing and training acc is good then model is overfitting\n",
    "# the vaue with which we update the weights we use the learning rate"
   ]
  },
  {
   "cell_type": "code",
   "execution_count": null,
   "metadata": {
    "colab": {
     "base_uri": "https://localhost:8080/",
     "height": 198
    },
    "id": "BRN9FuPlhENT",
    "outputId": "5591d0a7-594b-48ea-c1c7-41b9b15df640"
   },
   "outputs": [
    {
     "ename": "NameError",
     "evalue": "name 'batch_size' is not defined",
     "output_type": "error",
     "traceback": [
      "\u001b[0;31m---------------------------------------------------------------------------\u001b[0m",
      "\u001b[0;31mNameError\u001b[0m                                 Traceback (most recent call last)",
      "\u001b[0;32m<ipython-input-14-2b2d4a1c46d0>\u001b[0m in \u001b[0;36m<cell line: 2>\u001b[0;34m()\u001b[0m\n\u001b[1;32m      1\u001b[0m \u001b[0;31m# Evaluate the model on the testing data\u001b[0m\u001b[0;34m\u001b[0m\u001b[0;34m\u001b[0m\u001b[0m\n\u001b[0;32m----> 2\u001b[0;31m \u001b[0mloss\u001b[0m\u001b[0;34m,\u001b[0m \u001b[0maccuracy\u001b[0m \u001b[0;34m=\u001b[0m \u001b[0mmodel\u001b[0m\u001b[0;34m.\u001b[0m\u001b[0mevaluate\u001b[0m\u001b[0;34m(\u001b[0m\u001b[0mX_test\u001b[0m\u001b[0;34m,\u001b[0m \u001b[0my_test\u001b[0m\u001b[0;34m,\u001b[0m \u001b[0mbatch_size\u001b[0m\u001b[0;34m=\u001b[0m\u001b[0mbatch_size\u001b[0m\u001b[0;34m)\u001b[0m\u001b[0;34m\u001b[0m\u001b[0;34m\u001b[0m\u001b[0m\n\u001b[0m\u001b[1;32m      3\u001b[0m \u001b[0mprint\u001b[0m\u001b[0;34m(\u001b[0m\u001b[0;34m\"Test Loss:\"\u001b[0m\u001b[0;34m,\u001b[0m \u001b[0mloss\u001b[0m\u001b[0;34m)\u001b[0m\u001b[0;34m\u001b[0m\u001b[0;34m\u001b[0m\u001b[0m\n\u001b[1;32m      4\u001b[0m \u001b[0mprint\u001b[0m\u001b[0;34m(\u001b[0m\u001b[0;34m\"Test Accuracy:\"\u001b[0m\u001b[0;34m,\u001b[0m \u001b[0maccuracy\u001b[0m\u001b[0;34m)\u001b[0m\u001b[0;34m\u001b[0m\u001b[0;34m\u001b[0m\u001b[0m\n",
      "\u001b[0;31mNameError\u001b[0m: name 'batch_size' is not defined"
     ]
    }
   ],
   "source": [
    "# Evaluate the model on the testing data\n",
    "loss, accuracy = model.evaluate(X_test, y_test, batch_size=batch_size)\n",
    "print(\"Test Loss:\", loss)\n",
    "print(\"Test Accuracy:\", accuracy)"
   ]
  }
 ],
 "metadata": {
  "colab": {
   "provenance": []
  },
  "kernelspec": {
   "display_name": "Python 3 (ipykernel)",
   "language": "python",
   "name": "python3"
  },
  "language_info": {
   "codemirror_mode": {
    "name": "ipython",
    "version": 3
   },
   "file_extension": ".py",
   "mimetype": "text/x-python",
   "name": "python",
   "nbconvert_exporter": "python",
   "pygments_lexer": "ipython3",
   "version": "3.8.19"
  }
 },
 "nbformat": 4,
 "nbformat_minor": 4
}
