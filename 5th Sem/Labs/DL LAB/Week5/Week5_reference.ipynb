{
  "cells": [
    {
      "cell_type": "code",
      "source": [
        "import tensorflow as tf\n",
        "import pandas as pd"
      ],
      "outputs": [],
      "execution_count": 3,
      "metadata": {
        "id": "UvtsqkfU_kfi"
      }
    },
    {
      "cell_type": "code",
      "source": [
        "train_data = pd.read_csv('/content/Google_Stock_Price_Train.xls')"
      ],
      "outputs": [],
      "execution_count": 22,
      "metadata": {
        "id": "4C3cbPg__ssh"
      }
    },
    {
      "cell_type": "code",
      "source": [
        "train_data.head()"
      ],
      "outputs": [
        {
          "output_type": "execute_result",
          "execution_count": 5,
          "data": {
            "text/plain": "       Date    Open    High     Low   Close      Volume\n0  1/3/2012  325.25  332.83  324.97  663.59   7,380,500\n1  1/4/2012  331.27  333.87  329.08  666.45   5,749,400\n2  1/5/2012  329.83  330.75  326.89  657.21   6,590,300\n3  1/6/2012  328.34  328.77  323.68  648.24   5,405,900\n4  1/9/2012  322.04  322.29  309.46  620.76  11,688,800",
            "text/html": "\n  <div id=\"df-a5aefa6f-c829-4ad5-9de4-c3265cf0f48e\">\n    <div class=\"colab-df-container\">\n      <div>\n<style scoped>\n    .dataframe tbody tr th:only-of-type {\n        vertical-align: middle;\n    }\n\n    .dataframe tbody tr th {\n        vertical-align: top;\n    }\n\n    .dataframe thead th {\n        text-align: right;\n    }\n</style>\n<table border=\"1\" class=\"dataframe\">\n  <thead>\n    <tr style=\"text-align: right;\">\n      <th></th>\n      <th>Date</th>\n      <th>Open</th>\n      <th>High</th>\n      <th>Low</th>\n      <th>Close</th>\n      <th>Volume</th>\n    </tr>\n  </thead>\n  <tbody>\n    <tr>\n      <th>0</th>\n      <td>1/3/2012</td>\n      <td>325.25</td>\n      <td>332.83</td>\n      <td>324.97</td>\n      <td>663.59</td>\n      <td>7,380,500</td>\n    </tr>\n    <tr>\n      <th>1</th>\n      <td>1/4/2012</td>\n      <td>331.27</td>\n      <td>333.87</td>\n      <td>329.08</td>\n      <td>666.45</td>\n      <td>5,749,400</td>\n    </tr>\n    <tr>\n      <th>2</th>\n      <td>1/5/2012</td>\n      <td>329.83</td>\n      <td>330.75</td>\n      <td>326.89</td>\n      <td>657.21</td>\n      <td>6,590,300</td>\n    </tr>\n    <tr>\n      <th>3</th>\n      <td>1/6/2012</td>\n      <td>328.34</td>\n      <td>328.77</td>\n      <td>323.68</td>\n      <td>648.24</td>\n      <td>5,405,900</td>\n    </tr>\n    <tr>\n      <th>4</th>\n      <td>1/9/2012</td>\n      <td>322.04</td>\n      <td>322.29</td>\n      <td>309.46</td>\n      <td>620.76</td>\n      <td>11,688,800</td>\n    </tr>\n  </tbody>\n</table>\n</div>\n      <button class=\"colab-df-convert\" onclick=\"convertToInteractive('df-a5aefa6f-c829-4ad5-9de4-c3265cf0f48e')\"\n              title=\"Convert this dataframe to an interactive table.\"\n              style=\"display:none;\">\n        \n  <svg xmlns=\"http://www.w3.org/2000/svg\" height=\"24px\"viewBox=\"0 0 24 24\"\n       width=\"24px\">\n    <path d=\"M0 0h24v24H0V0z\" fill=\"none\"/>\n    <path d=\"M18.56 5.44l.94 2.06.94-2.06 2.06-.94-2.06-.94-.94-2.06-.94 2.06-2.06.94zm-11 1L8.5 8.5l.94-2.06 2.06-.94-2.06-.94L8.5 2.5l-.94 2.06-2.06.94zm10 10l.94 2.06.94-2.06 2.06-.94-2.06-.94-.94-2.06-.94 2.06-2.06.94z\"/><path d=\"M17.41 7.96l-1.37-1.37c-.4-.4-.92-.59-1.43-.59-.52 0-1.04.2-1.43.59L10.3 9.45l-7.72 7.72c-.78.78-.78 2.05 0 2.83L4 21.41c.39.39.9.59 1.41.59.51 0 1.02-.2 1.41-.59l7.78-7.78 2.81-2.81c.8-.78.8-2.07 0-2.86zM5.41 20L4 18.59l7.72-7.72 1.47 1.35L5.41 20z\"/>\n  </svg>\n      </button>\n      \n  <style>\n    .colab-df-container {\n      display:flex;\n      flex-wrap:wrap;\n      gap: 12px;\n    }\n\n    .colab-df-convert {\n      background-color: #E8F0FE;\n      border: none;\n      border-radius: 50%;\n      cursor: pointer;\n      display: none;\n      fill: #1967D2;\n      height: 32px;\n      padding: 0 0 0 0;\n      width: 32px;\n    }\n\n    .colab-df-convert:hover {\n      background-color: #E2EBFA;\n      box-shadow: 0px 1px 2px rgba(60, 64, 67, 0.3), 0px 1px 3px 1px rgba(60, 64, 67, 0.15);\n      fill: #174EA6;\n    }\n\n    [theme=dark] .colab-df-convert {\n      background-color: #3B4455;\n      fill: #D2E3FC;\n    }\n\n    [theme=dark] .colab-df-convert:hover {\n      background-color: #434B5C;\n      box-shadow: 0px 1px 3px 1px rgba(0, 0, 0, 0.15);\n      filter: drop-shadow(0px 1px 2px rgba(0, 0, 0, 0.3));\n      fill: #FFFFFF;\n    }\n  </style>\n\n      <script>\n        const buttonEl =\n          document.querySelector('#df-a5aefa6f-c829-4ad5-9de4-c3265cf0f48e button.colab-df-convert');\n        buttonEl.style.display =\n          google.colab.kernel.accessAllowed ? 'block' : 'none';\n\n        async function convertToInteractive(key) {\n          const element = document.querySelector('#df-a5aefa6f-c829-4ad5-9de4-c3265cf0f48e');\n          const dataTable =\n            await google.colab.kernel.invokeFunction('convertToInteractive',\n                                                     [key], {});\n          if (!dataTable) return;\n\n          const docLinkHtml = 'Like what you see? Visit the ' +\n            '<a target=\"_blank\" href=https://colab.research.google.com/notebooks/data_table.ipynb>data table notebook</a>'\n            + ' to learn more about interactive tables.';\n          element.innerHTML = '';\n          dataTable['output_type'] = 'display_data';\n          await google.colab.output.renderOutput(dataTable, element);\n          const docLink = document.createElement('div');\n          docLink.innerHTML = docLinkHtml;\n          element.appendChild(docLink);\n        }\n      </script>\n    </div>\n  </div>\n  "
          },
          "metadata": {}
        }
      ],
      "execution_count": 5,
      "metadata": {
        "colab": {
          "base_uri": "https://localhost:8080/",
          "height": 206
        },
        "id": "BO09irlU5iEQ",
        "outputId": "0e492b7a-4514-4406-8035-14f3321b3637"
      }
    },
    {
      "cell_type": "code",
      "source": [
        "train_data.isna().sum()"
      ],
      "outputs": [
        {
          "output_type": "execute_result",
          "execution_count": 7,
          "data": {
            "text/plain": "Date      0\nOpen      0\nHigh      0\nLow       0\nClose     0\nVolume    0\ndtype: int64"
          },
          "metadata": {}
        }
      ],
      "execution_count": 7,
      "metadata": {
        "colab": {
          "base_uri": "https://localhost:8080/"
        },
        "id": "q_z4KSaU5rgQ",
        "outputId": "4cfc687e-77a1-4b54-91bd-e7a6b0ff605f"
      }
    },
    {
      "cell_type": "code",
      "source": [
        "train_data.shape"
      ],
      "outputs": [
        {
          "output_type": "execute_result",
          "execution_count": 9,
          "data": {
            "text/plain": "(1258, 6)"
          },
          "metadata": {}
        }
      ],
      "execution_count": 9,
      "metadata": {
        "colab": {
          "base_uri": "https://localhost:8080/"
        },
        "id": "4B6kPUY85xeP",
        "outputId": "169e7369-d5a1-41fd-f4f9-065d9e1e3109"
      }
    },
    {
      "cell_type": "code",
      "source": [
        "from sklearn.preprocessing import MinMaxScaler\n",
        "scaler = MinMaxScaler(feature_range = (0, 1))"
      ],
      "outputs": [],
      "execution_count": 31,
      "metadata": {
        "id": "mg2HW2-H539c"
      }
    },
    {
      "cell_type": "code",
      "source": [
        "train_col = train_data.iloc[:, 1:2]\n",
        "scaled_train_col = scaler.fit_transform(train_col)"
      ],
      "outputs": [],
      "execution_count": 32,
      "metadata": {
        "id": "JPmvB6Lu60uQ"
      }
    },
    {
      "cell_type": "code",
      "source": [
        "scaled_train_col[0:50, 0]"
      ],
      "outputs": [
        {
          "output_type": "execute_result",
          "execution_count": 33,
          "data": {
            "text/plain": "array([0.08581368, 0.09701243, 0.09433366, 0.09156187, 0.07984225,\n       0.0643277 , 0.0585423 , 0.06568569, 0.06109085, 0.06639259,\n       0.0614257 , 0.07474514, 0.02797827, 0.02379269, 0.02409033,\n       0.0159238 , 0.01078949, 0.00967334, 0.01642607, 0.02100231,\n       0.02280676, 0.02273235, 0.02810849, 0.03212665, 0.0433812 ,\n       0.04475779, 0.04790163, 0.0440695 , 0.04648783, 0.04745517,\n       0.04873875, 0.03936305, 0.04137213, 0.04034898, 0.04784582,\n       0.04325099, 0.04356723, 0.04286033, 0.04602277, 0.05398467,\n       0.05738894, 0.05714711, 0.05569611, 0.04421832, 0.04514845,\n       0.04605997, 0.04412531, 0.03675869, 0.04486941, 0.05065481])"
          },
          "metadata": {}
        }
      ],
      "execution_count": 33,
      "metadata": {
        "colab": {
          "base_uri": "https://localhost:8080/"
        },
        "id": "2eiLAnxh78NE",
        "outputId": "998eda52-aebe-4d39-98fb-a58015a29658"
      }
    },
    {
      "cell_type": "code",
      "source": [
        "import numpy as np\n",
        "\n",
        "X_train = np.array([scaled_train_col[i-50:i, 0] for i in range(50, len(scaled_train_col))])\n",
        "y_train = np.array([scaled_train_col[i, 0] for i in range(50, len(scaled_train_col))])\n",
        "\n",
        "X_train = np.reshape(X_train, (X_train.shape[0], X_train.shape[1], 1))"
      ],
      "outputs": [],
      "execution_count": 34,
      "metadata": {
        "id": "FpD08kER7G_m"
      }
    },
    {
      "cell_type": "markdown",
      "source": [
        "## Simple RNN"
      ],
      "metadata": {
        "id": "StOUtl7HK18X"
      }
    },
    {
      "cell_type": "code",
      "source": [
        "regressor = tf.keras.Sequential(\n",
        "    [\n",
        "        tf.keras.layers.SimpleRNN(units = 50, return_sequences = True, input_shape = (50, 1)),\n",
        "        tf.keras.layers.Dropout(0.2),\n",
        "        tf.keras.layers.SimpleRNN(units = 50, return_sequences = True, input_shape = (50, 1)),\n",
        "        tf.keras.layers.Dropout(0.2),\n",
        "        tf.keras.layers.SimpleRNN(units = 50, return_sequences = True, input_shape = (50, 1)),\n",
        "        tf.keras.layers.Dropout(0.2),\n",
        "        tf.keras.layers.SimpleRNN(units = 50, return_sequences = True, input_shape = (50, 1)),\n",
        "        tf.keras.layers.Dropout(0.2),\n",
        "        tf.keras.layers.Dense(units = 1)\n",
        "    ]\n",
        ")"
      ],
      "outputs": [],
      "execution_count": 36,
      "metadata": {
        "id": "orMFIizM9DjW"
      }
    },
    {
      "cell_type": "code",
      "source": [
        "regressor.compile(optimizer = 'adam', loss = 'mean_squared_error', metrics = ['mean_squared_error'])\n",
        "regressor.summary()"
      ],
      "outputs": [
        {
          "output_type": "stream",
          "name": "stdout",
          "text": "Model: \"sequential_2\"\n_________________________________________________________________\n Layer (type)                Output Shape              Param #   \n=================================================================\n simple_rnn_4 (SimpleRNN)    (None, 50, 50)            2600      \n                                                                 \n dropout_8 (Dropout)         (None, 50, 50)            0         \n                                                                 \n simple_rnn_5 (SimpleRNN)    (None, 50, 50)            5050      \n                                                                 \n dropout_9 (Dropout)         (None, 50, 50)            0         \n                                                                 \n simple_rnn_6 (SimpleRNN)    (None, 50, 50)            5050      \n                                                                 \n dropout_10 (Dropout)        (None, 50, 50)            0         \n                                                                 \n simple_rnn_7 (SimpleRNN)    (None, 50, 50)            5050      \n                                                                 \n dropout_11 (Dropout)        (None, 50, 50)            0         \n                                                                 \n dense_2 (Dense)             (None, 50, 1)             51        \n                                                                 \n=================================================================\nTotal params: 17,801\nTrainable params: 17,801\nNon-trainable params: 0\n_________________________________________________________________\n"
        }
      ],
      "execution_count": 37,
      "metadata": {
        "colab": {
          "base_uri": "https://localhost:8080/"
        },
        "id": "UA2fx5VT-SiW",
        "outputId": "227ddaf8-dd06-4027-fdbc-b222d7d9c9ba"
      }
    },
    {
      "cell_type": "code",
      "source": [
        "regressor.fit(X_train, y_train, epochs = 100, batch_size = 32)"
      ],
      "outputs": [
        {
          "output_type": "stream",
          "name": "stdout",
          "text": "Epoch 1/100\n38/38 [==============================] - 8s 166ms/step - loss: 0.5058 - mean_squared_error: 0.5058\nEpoch 2/100\n38/38 [==============================] - 6s 160ms/step - loss: 0.2769 - mean_squared_error: 0.2769\nEpoch 3/100\n38/38 [==============================] - 6s 162ms/step - loss: 0.2046 - mean_squared_error: 0.2046\nEpoch 4/100\n38/38 [==============================] - 6s 167ms/step - loss: 0.1578 - mean_squared_error: 0.1578\nEpoch 5/100\n38/38 [==============================] - 6s 161ms/step - loss: 0.1319 - mean_squared_error: 0.1319\nEpoch 6/100\n38/38 [==============================] - 6s 158ms/step - loss: 0.1158 - mean_squared_error: 0.1158\nEpoch 7/100\n38/38 [==============================] - 6s 157ms/step - loss: 0.1048 - mean_squared_error: 0.1048\nEpoch 8/100\n38/38 [==============================] - 6s 162ms/step - loss: 0.0972 - mean_squared_error: 0.0972\nEpoch 9/100\n38/38 [==============================] - 6s 160ms/step - loss: 0.0930 - mean_squared_error: 0.0930\nEpoch 10/100\n38/38 [==============================] - 6s 161ms/step - loss: 0.0888 - mean_squared_error: 0.0888\nEpoch 11/100\n38/38 [==============================] - 6s 162ms/step - loss: 0.0865 - mean_squared_error: 0.0865\nEpoch 12/100\n38/38 [==============================] - 6s 164ms/step - loss: 0.0853 - mean_squared_error: 0.0853\nEpoch 13/100\n38/38 [==============================] - 6s 164ms/step - loss: 0.0836 - mean_squared_error: 0.0836\nEpoch 14/100\n38/38 [==============================] - 6s 164ms/step - loss: 0.0823 - mean_squared_error: 0.0823\nEpoch 15/100\n38/38 [==============================] - 6s 164ms/step - loss: 0.0821 - mean_squared_error: 0.0821\nEpoch 16/100\n38/38 [==============================] - 6s 164ms/step - loss: 0.0809 - mean_squared_error: 0.0809\nEpoch 17/100\n38/38 [==============================] - 6s 169ms/step - loss: 0.0803 - mean_squared_error: 0.0803\nEpoch 18/100\n38/38 [==============================] - 6s 161ms/step - loss: 0.0799 - mean_squared_error: 0.0799\nEpoch 19/100\n38/38 [==============================] - 14s 376ms/step - loss: 0.0795 - mean_squared_error: 0.0795\nEpoch 20/100\n38/38 [==============================] - 9s 224ms/step - loss: 0.0796 - mean_squared_error: 0.0796\nEpoch 21/100\n38/38 [==============================] - 6s 164ms/step - loss: 0.0793 - mean_squared_error: 0.0793\nEpoch 22/100\n38/38 [==============================] - 6s 158ms/step - loss: 0.0786 - mean_squared_error: 0.0786\nEpoch 23/100\n38/38 [==============================] - 6s 163ms/step - loss: 0.0785 - mean_squared_error: 0.0785\nEpoch 24/100\n38/38 [==============================] - 6s 161ms/step - loss: 0.0782 - mean_squared_error: 0.0782\nEpoch 25/100\n38/38 [==============================] - 6s 157ms/step - loss: 0.0784 - mean_squared_error: 0.0784\nEpoch 26/100\n38/38 [==============================] - 6s 163ms/step - loss: 0.0781 - mean_squared_error: 0.0781\nEpoch 27/100\n38/38 [==============================] - 6s 165ms/step - loss: 0.0779 - mean_squared_error: 0.0779\nEpoch 28/100\n38/38 [==============================] - 6s 161ms/step - loss: 0.0781 - mean_squared_error: 0.0781\nEpoch 29/100\n38/38 [==============================] - 6s 165ms/step - loss: 0.0778 - mean_squared_error: 0.0778\nEpoch 30/100\n38/38 [==============================] - 6s 167ms/step - loss: 0.0774 - mean_squared_error: 0.0774\nEpoch 31/100\n38/38 [==============================] - 6s 161ms/step - loss: 0.0774 - mean_squared_error: 0.0774\nEpoch 32/100\n38/38 [==============================] - 6s 157ms/step - loss: 0.0777 - mean_squared_error: 0.0777\nEpoch 33/100\n38/38 [==============================] - 9s 231ms/step - loss: 0.0773 - mean_squared_error: 0.0773\nEpoch 34/100\n38/38 [==============================] - 6s 160ms/step - loss: 0.0773 - mean_squared_error: 0.0773\nEpoch 35/100\n38/38 [==============================] - 7s 197ms/step - loss: 0.0773 - mean_squared_error: 0.0773\nEpoch 36/100\n38/38 [==============================] - 6s 166ms/step - loss: 0.0773 - mean_squared_error: 0.0773\nEpoch 37/100\n38/38 [==============================] - 6s 159ms/step - loss: 0.0772 - mean_squared_error: 0.0772\nEpoch 38/100\n38/38 [==============================] - 6s 164ms/step - loss: 0.0767 - mean_squared_error: 0.0767\nEpoch 39/100\n38/38 [==============================] - 6s 165ms/step - loss: 0.0774 - mean_squared_error: 0.0774\nEpoch 40/100\n38/38 [==============================] - 6s 161ms/step - loss: 0.0768 - mean_squared_error: 0.0768\nEpoch 41/100\n38/38 [==============================] - 6s 172ms/step - loss: 0.0768 - mean_squared_error: 0.0768\nEpoch 42/100\n38/38 [==============================] - 6s 164ms/step - loss: 0.0772 - mean_squared_error: 0.0772\nEpoch 43/100\n38/38 [==============================] - 6s 163ms/step - loss: 0.0768 - mean_squared_error: 0.0768\nEpoch 44/100\n38/38 [==============================] - 6s 161ms/step - loss: 0.0774 - mean_squared_error: 0.0774\nEpoch 45/100\n38/38 [==============================] - 6s 161ms/step - loss: 0.0766 - mean_squared_error: 0.0766\nEpoch 46/100\n38/38 [==============================] - 6s 166ms/step - loss: 0.0768 - mean_squared_error: 0.0768\nEpoch 47/100\n38/38 [==============================] - 6s 161ms/step - loss: 0.0769 - mean_squared_error: 0.0769\nEpoch 48/100\n38/38 [==============================] - 6s 163ms/step - loss: 0.0767 - mean_squared_error: 0.0767\nEpoch 49/100\n38/38 [==============================] - 6s 159ms/step - loss: 0.0767 - mean_squared_error: 0.0767\nEpoch 50/100\n38/38 [==============================] - 6s 162ms/step - loss: 0.0769 - mean_squared_error: 0.0769\nEpoch 51/100\n38/38 [==============================] - 6s 159ms/step - loss: 0.0766 - mean_squared_error: 0.0766\nEpoch 52/100\n38/38 [==============================] - 6s 161ms/step - loss: 0.0766 - mean_squared_error: 0.0766\nEpoch 53/100\n38/38 [==============================] - 6s 159ms/step - loss: 0.0765 - mean_squared_error: 0.0765\nEpoch 54/100\n38/38 [==============================] - 6s 168ms/step - loss: 0.0766 - mean_squared_error: 0.0766\nEpoch 55/100\n38/38 [==============================] - 6s 163ms/step - loss: 0.0766 - mean_squared_error: 0.0766\nEpoch 56/100\n38/38 [==============================] - 6s 167ms/step - loss: 0.0765 - mean_squared_error: 0.0765\nEpoch 57/100\n38/38 [==============================] - 6s 165ms/step - loss: 0.0764 - mean_squared_error: 0.0764\nEpoch 58/100\n38/38 [==============================] - 6s 161ms/step - loss: 0.0764 - mean_squared_error: 0.0764\nEpoch 59/100\n38/38 [==============================] - 6s 159ms/step - loss: 0.0768 - mean_squared_error: 0.0768\nEpoch 60/100\n38/38 [==============================] - 6s 158ms/step - loss: 0.0765 - mean_squared_error: 0.0765\nEpoch 61/100\n38/38 [==============================] - 6s 156ms/step - loss: 0.0762 - mean_squared_error: 0.0762\nEpoch 62/100\n38/38 [==============================] - 6s 165ms/step - loss: 0.0764 - mean_squared_error: 0.0764\nEpoch 63/100\n38/38 [==============================] - 6s 162ms/step - loss: 0.0762 - mean_squared_error: 0.0762\nEpoch 64/100\n38/38 [==============================] - 6s 156ms/step - loss: 0.0762 - mean_squared_error: 0.0762\nEpoch 65/100\n38/38 [==============================] - 6s 165ms/step - loss: 0.0763 - mean_squared_error: 0.0763\nEpoch 66/100\n38/38 [==============================] - 6s 166ms/step - loss: 0.0775 - mean_squared_error: 0.0775\nEpoch 67/100\n38/38 [==============================] - 7s 175ms/step - loss: 0.0765 - mean_squared_error: 0.0765\nEpoch 68/100\n38/38 [==============================] - 6s 163ms/step - loss: 0.0763 - mean_squared_error: 0.0763\nEpoch 69/100\n38/38 [==============================] - 6s 163ms/step - loss: 0.0761 - mean_squared_error: 0.0761\nEpoch 70/100\n38/38 [==============================] - 6s 160ms/step - loss: 0.0761 - mean_squared_error: 0.0761\nEpoch 71/100\n38/38 [==============================] - 6s 165ms/step - loss: 0.0764 - mean_squared_error: 0.0764\nEpoch 72/100\n38/38 [==============================] - 6s 157ms/step - loss: 0.0762 - mean_squared_error: 0.0762\nEpoch 73/100\n38/38 [==============================] - 6s 166ms/step - loss: 0.0764 - mean_squared_error: 0.0764\nEpoch 74/100\n38/38 [==============================] - 6s 163ms/step - loss: 0.0761 - mean_squared_error: 0.0761\nEpoch 75/100\n38/38 [==============================] - 6s 160ms/step - loss: 0.0762 - mean_squared_error: 0.0762\nEpoch 76/100\n38/38 [==============================] - 6s 163ms/step - loss: 0.0762 - mean_squared_error: 0.0762\nEpoch 77/100\n38/38 [==============================] - 6s 161ms/step - loss: 0.0763 - mean_squared_error: 0.0763\nEpoch 78/100\n38/38 [==============================] - 6s 160ms/step - loss: 0.0759 - mean_squared_error: 0.0759\nEpoch 79/100\n38/38 [==============================] - 6s 161ms/step - loss: 0.0760 - mean_squared_error: 0.0760\nEpoch 80/100\n38/38 [==============================] - 6s 160ms/step - loss: 0.0760 - mean_squared_error: 0.0760\nEpoch 81/100\n38/38 [==============================] - 6s 163ms/step - loss: 0.0760 - mean_squared_error: 0.0760\nEpoch 82/100\n38/38 [==============================] - 6s 159ms/step - loss: 0.0760 - mean_squared_error: 0.0760\nEpoch 83/100\n38/38 [==============================] - 6s 163ms/step - loss: 0.0763 - mean_squared_error: 0.0763\nEpoch 84/100\n38/38 [==============================] - 6s 157ms/step - loss: 0.0760 - mean_squared_error: 0.0760\nEpoch 85/100\n38/38 [==============================] - 6s 159ms/step - loss: 0.0763 - mean_squared_error: 0.0763\nEpoch 86/100\n38/38 [==============================] - 6s 160ms/step - loss: 0.0760 - mean_squared_error: 0.0760\nEpoch 87/100\n38/38 [==============================] - 6s 164ms/step - loss: 0.0762 - mean_squared_error: 0.0762\nEpoch 88/100\n38/38 [==============================] - 6s 161ms/step - loss: 0.0760 - mean_squared_error: 0.0760\nEpoch 89/100\n38/38 [==============================] - 6s 163ms/step - loss: 0.0759 - mean_squared_error: 0.0759\nEpoch 90/100\n38/38 [==============================] - 6s 158ms/step - loss: 0.0760 - mean_squared_error: 0.0760\nEpoch 91/100\n38/38 [==============================] - 6s 165ms/step - loss: 0.0763 - mean_squared_error: 0.0763\nEpoch 92/100\n38/38 [==============================] - 6s 160ms/step - loss: 0.0762 - mean_squared_error: 0.0762\nEpoch 93/100\n38/38 [==============================] - 6s 163ms/step - loss: 0.0761 - mean_squared_error: 0.0761\nEpoch 94/100\n38/38 [==============================] - 6s 162ms/step - loss: 0.0759 - mean_squared_error: 0.0759\nEpoch 95/100\n38/38 [==============================] - 6s 158ms/step - loss: 0.0761 - mean_squared_error: 0.0761\nEpoch 96/100\n38/38 [==============================] - 6s 159ms/step - loss: 0.0764 - mean_squared_error: 0.0764\nEpoch 97/100\n38/38 [==============================] - 6s 164ms/step - loss: 0.0764 - mean_squared_error: 0.0764\nEpoch 98/100\n38/38 [==============================] - 6s 157ms/step - loss: 0.0760 - mean_squared_error: 0.0760\nEpoch 99/100\n38/38 [==============================] - 6s 157ms/step - loss: 0.0759 - mean_squared_error: 0.0759\nEpoch 100/100\n38/38 [==============================] - 6s 163ms/step - loss: 0.0759 - mean_squared_error: 0.0759\n"
        },
        {
          "output_type": "execute_result",
          "execution_count": 38,
          "data": {
            "text/plain": "<keras.callbacks.History at 0x7f7126ae8b50>"
          },
          "metadata": {}
        }
      ],
      "execution_count": 38,
      "metadata": {
        "colab": {
          "base_uri": "https://localhost:8080/"
        },
        "id": "4dNEm1DH-g-i",
        "outputId": "05ec821d-f559-4d5e-8a1b-bec14f9686f7"
      }
    },
    {
      "cell_type": "markdown",
      "source": [
        "## LSTM "
      ],
      "metadata": {
        "id": "yLTTlQBRKyz8"
      }
    },
    {
      "cell_type": "code",
      "source": [
        "lstm_regressor = tf.keras.Sequential(\n",
        "    [\n",
        "        tf.keras.layers.LSTM(units = 50, return_sequences = True, input_shape = (50, 1)),\n",
        "        tf.keras.layers.Dropout(0.2),\n",
        "        tf.keras.layers.LSTM(units = 50, return_sequences = True, input_shape = (50, 1)),\n",
        "        tf.keras.layers.Dropout(0.2),\n",
        "        tf.keras.layers.LSTM(units = 50, return_sequences = True, input_shape = (50, 1)),\n",
        "        tf.keras.layers.Dropout(0.2),\n",
        "        tf.keras.layers.LSTM(units = 50, return_sequences = True, input_shape = (50, 1)),\n",
        "        tf.keras.layers.Dropout(0.2),\n",
        "        tf.keras.layers.Dense(units = 1)\n",
        "    ]\n",
        ")"
      ],
      "outputs": [],
      "execution_count": 39,
      "metadata": {
        "id": "80ST9zi1_P1I"
      }
    },
    {
      "cell_type": "code",
      "source": [
        "lstm_regressor.compile(optimizer = 'adam', loss = 'mean_squared_error', metrics = ['mean_squared_error'])\n",
        "lstm_regressor.summary()"
      ],
      "outputs": [
        {
          "output_type": "stream",
          "name": "stdout",
          "text": "Model: \"sequential_3\"\n_________________________________________________________________\n Layer (type)                Output Shape              Param #   \n=================================================================\n lstm_4 (LSTM)               (None, 50, 50)            10400     \n                                                                 \n dropout_12 (Dropout)        (None, 50, 50)            0         \n                                                                 \n lstm_5 (LSTM)               (None, 50, 50)            20200     \n                                                                 \n dropout_13 (Dropout)        (None, 50, 50)            0         \n                                                                 \n lstm_6 (LSTM)               (None, 50, 50)            20200     \n                                                                 \n dropout_14 (Dropout)        (None, 50, 50)            0         \n                                                                 \n lstm_7 (LSTM)               (None, 50, 50)            20200     \n                                                                 \n dropout_15 (Dropout)        (None, 50, 50)            0         \n                                                                 \n dense_3 (Dense)             (None, 50, 1)             51        \n                                                                 \n=================================================================\nTotal params: 71,051\nTrainable params: 71,051\nNon-trainable params: 0\n_________________________________________________________________\n"
        }
      ],
      "execution_count": 40,
      "metadata": {
        "colab": {
          "base_uri": "https://localhost:8080/"
        },
        "id": "vWsWHjXkALi7",
        "outputId": "49f98dba-178e-4304-94a0-73dca8845bcc"
      }
    },
    {
      "cell_type": "code",
      "source": [
        "lstm_regressor.fit(X_train, y_train, epochs = 100, batch_size = 32)"
      ],
      "outputs": [
        {
          "output_type": "stream",
          "name": "stdout",
          "text": "Epoch 1/100\n38/38 [==============================] - 6s 15ms/step - loss: 0.1238 - mean_squared_error: 0.1238\nEpoch 2/100\n38/38 [==============================] - 0s 13ms/step - loss: 0.0877 - mean_squared_error: 0.0877\nEpoch 3/100\n38/38 [==============================] - 0s 13ms/step - loss: 0.0846 - mean_squared_error: 0.0846\nEpoch 4/100\n38/38 [==============================] - 1s 13ms/step - loss: 0.0821 - mean_squared_error: 0.0821\nEpoch 5/100\n38/38 [==============================] - 0s 13ms/step - loss: 0.0818 - mean_squared_error: 0.0818\nEpoch 6/100\n38/38 [==============================] - 0s 13ms/step - loss: 0.0804 - mean_squared_error: 0.0804\nEpoch 7/100\n38/38 [==============================] - 0s 12ms/step - loss: 0.0796 - mean_squared_error: 0.0796\nEpoch 8/100\n38/38 [==============================] - 0s 13ms/step - loss: 0.0791 - mean_squared_error: 0.0791\nEpoch 9/100\n38/38 [==============================] - 0s 13ms/step - loss: 0.0785 - mean_squared_error: 0.0785\nEpoch 10/100\n38/38 [==============================] - 1s 13ms/step - loss: 0.0785 - mean_squared_error: 0.0785\nEpoch 11/100\n38/38 [==============================] - 0s 13ms/step - loss: 0.0799 - mean_squared_error: 0.0799\nEpoch 12/100\n38/38 [==============================] - 0s 13ms/step - loss: 0.0783 - mean_squared_error: 0.0783\nEpoch 13/100\n38/38 [==============================] - 0s 13ms/step - loss: 0.0779 - mean_squared_error: 0.0779\nEpoch 14/100\n38/38 [==============================] - 0s 13ms/step - loss: 0.0773 - mean_squared_error: 0.0773\nEpoch 15/100\n38/38 [==============================] - 0s 13ms/step - loss: 0.0772 - mean_squared_error: 0.0772\nEpoch 16/100\n38/38 [==============================] - 0s 12ms/step - loss: 0.0774 - mean_squared_error: 0.0774\nEpoch 17/100\n38/38 [==============================] - 0s 13ms/step - loss: 0.0767 - mean_squared_error: 0.0767\nEpoch 18/100\n38/38 [==============================] - 0s 13ms/step - loss: 0.0770 - mean_squared_error: 0.0770\nEpoch 19/100\n38/38 [==============================] - 0s 13ms/step - loss: 0.0770 - mean_squared_error: 0.0770\nEpoch 20/100\n38/38 [==============================] - 1s 13ms/step - loss: 0.0767 - mean_squared_error: 0.0767\nEpoch 21/100\n38/38 [==============================] - 0s 13ms/step - loss: 0.0771 - mean_squared_error: 0.0771\nEpoch 22/100\n38/38 [==============================] - 0s 12ms/step - loss: 0.0767 - mean_squared_error: 0.0767\nEpoch 23/100\n38/38 [==============================] - 0s 12ms/step - loss: 0.0765 - mean_squared_error: 0.0765\nEpoch 24/100\n38/38 [==============================] - 0s 13ms/step - loss: 0.0767 - mean_squared_error: 0.0767\nEpoch 25/100\n38/38 [==============================] - 0s 13ms/step - loss: 0.0764 - mean_squared_error: 0.0764\nEpoch 26/100\n38/38 [==============================] - 0s 13ms/step - loss: 0.0768 - mean_squared_error: 0.0768\nEpoch 27/100\n38/38 [==============================] - 0s 13ms/step - loss: 0.0765 - mean_squared_error: 0.0765\nEpoch 28/100\n38/38 [==============================] - 0s 13ms/step - loss: 0.0763 - mean_squared_error: 0.0763\nEpoch 29/100\n38/38 [==============================] - 0s 13ms/step - loss: 0.0761 - mean_squared_error: 0.0761\nEpoch 30/100\n38/38 [==============================] - 0s 12ms/step - loss: 0.0763 - mean_squared_error: 0.0763\nEpoch 31/100\n38/38 [==============================] - 0s 13ms/step - loss: 0.0764 - mean_squared_error: 0.0764\nEpoch 32/100\n38/38 [==============================] - 0s 13ms/step - loss: 0.0760 - mean_squared_error: 0.0760\nEpoch 33/100\n38/38 [==============================] - 0s 13ms/step - loss: 0.0761 - mean_squared_error: 0.0761\nEpoch 34/100\n38/38 [==============================] - 0s 13ms/step - loss: 0.0760 - mean_squared_error: 0.0760\nEpoch 35/100\n38/38 [==============================] - 0s 13ms/step - loss: 0.0763 - mean_squared_error: 0.0763\nEpoch 36/100\n38/38 [==============================] - 1s 13ms/step - loss: 0.0762 - mean_squared_error: 0.0762\nEpoch 37/100\n38/38 [==============================] - 0s 13ms/step - loss: 0.0760 - mean_squared_error: 0.0760\nEpoch 38/100\n38/38 [==============================] - 0s 13ms/step - loss: 0.0759 - mean_squared_error: 0.0759\nEpoch 39/100\n38/38 [==============================] - 0s 13ms/step - loss: 0.0766 - mean_squared_error: 0.0766\nEpoch 40/100\n38/38 [==============================] - 0s 13ms/step - loss: 0.0761 - mean_squared_error: 0.0761\nEpoch 41/100\n38/38 [==============================] - 1s 13ms/step - loss: 0.0761 - mean_squared_error: 0.0761\nEpoch 42/100\n38/38 [==============================] - 0s 12ms/step - loss: 0.0761 - mean_squared_error: 0.0761\nEpoch 43/100\n38/38 [==============================] - 1s 14ms/step - loss: 0.0767 - mean_squared_error: 0.0767\nEpoch 44/100\n38/38 [==============================] - 0s 13ms/step - loss: 0.0758 - mean_squared_error: 0.0758\nEpoch 45/100\n38/38 [==============================] - 1s 13ms/step - loss: 0.0761 - mean_squared_error: 0.0761\nEpoch 46/100\n38/38 [==============================] - 0s 13ms/step - loss: 0.0759 - mean_squared_error: 0.0759\nEpoch 47/100\n38/38 [==============================] - 0s 13ms/step - loss: 0.0759 - mean_squared_error: 0.0759\nEpoch 48/100\n38/38 [==============================] - 0s 13ms/step - loss: 0.0759 - mean_squared_error: 0.0759\nEpoch 49/100\n38/38 [==============================] - 1s 13ms/step - loss: 0.0759 - mean_squared_error: 0.0759\nEpoch 50/100\n38/38 [==============================] - 0s 13ms/step - loss: 0.0761 - mean_squared_error: 0.0761\nEpoch 51/100\n38/38 [==============================] - 0s 13ms/step - loss: 0.0758 - mean_squared_error: 0.0758\nEpoch 52/100\n38/38 [==============================] - 0s 13ms/step - loss: 0.0759 - mean_squared_error: 0.0759\nEpoch 53/100\n38/38 [==============================] - 0s 13ms/step - loss: 0.0760 - mean_squared_error: 0.0760\nEpoch 54/100\n38/38 [==============================] - 1s 13ms/step - loss: 0.0758 - mean_squared_error: 0.0758\nEpoch 55/100\n38/38 [==============================] - 1s 14ms/step - loss: 0.0759 - mean_squared_error: 0.0759\nEpoch 56/100\n38/38 [==============================] - 1s 14ms/step - loss: 0.0759 - mean_squared_error: 0.0759\nEpoch 57/100\n38/38 [==============================] - 1s 14ms/step - loss: 0.0758 - mean_squared_error: 0.0758\nEpoch 58/100\n38/38 [==============================] - 1s 13ms/step - loss: 0.0757 - mean_squared_error: 0.0757\nEpoch 59/100\n38/38 [==============================] - 1s 13ms/step - loss: 0.0758 - mean_squared_error: 0.0758\nEpoch 60/100\n38/38 [==============================] - 0s 13ms/step - loss: 0.0759 - mean_squared_error: 0.0759\nEpoch 61/100\n38/38 [==============================] - 1s 13ms/step - loss: 0.0758 - mean_squared_error: 0.0758\nEpoch 62/100\n38/38 [==============================] - 0s 13ms/step - loss: 0.0758 - mean_squared_error: 0.0758\nEpoch 63/100\n38/38 [==============================] - 0s 13ms/step - loss: 0.0759 - mean_squared_error: 0.0759\nEpoch 64/100\n38/38 [==============================] - 0s 13ms/step - loss: 0.0760 - mean_squared_error: 0.0760\nEpoch 65/100\n38/38 [==============================] - 1s 13ms/step - loss: 0.0760 - mean_squared_error: 0.0760\nEpoch 66/100\n38/38 [==============================] - 1s 13ms/step - loss: 0.0759 - mean_squared_error: 0.0759\nEpoch 67/100\n38/38 [==============================] - 0s 13ms/step - loss: 0.0761 - mean_squared_error: 0.0761\nEpoch 68/100\n38/38 [==============================] - 1s 13ms/step - loss: 0.0759 - mean_squared_error: 0.0759\nEpoch 69/100\n38/38 [==============================] - 0s 13ms/step - loss: 0.0759 - mean_squared_error: 0.0759\nEpoch 70/100\n38/38 [==============================] - 1s 14ms/step - loss: 0.0760 - mean_squared_error: 0.0760\nEpoch 71/100\n38/38 [==============================] - 0s 13ms/step - loss: 0.0757 - mean_squared_error: 0.0757\nEpoch 72/100\n38/38 [==============================] - 1s 13ms/step - loss: 0.0760 - mean_squared_error: 0.0760\nEpoch 73/100\n38/38 [==============================] - 0s 13ms/step - loss: 0.0757 - mean_squared_error: 0.0757\nEpoch 74/100\n38/38 [==============================] - 1s 13ms/step - loss: 0.0758 - mean_squared_error: 0.0758\nEpoch 75/100\n38/38 [==============================] - 0s 13ms/step - loss: 0.0756 - mean_squared_error: 0.0756\nEpoch 76/100\n38/38 [==============================] - 0s 13ms/step - loss: 0.0760 - mean_squared_error: 0.0760\nEpoch 77/100\n38/38 [==============================] - 1s 13ms/step - loss: 0.0758 - mean_squared_error: 0.0758\nEpoch 78/100\n38/38 [==============================] - 1s 13ms/step - loss: 0.0760 - mean_squared_error: 0.0760\nEpoch 79/100\n38/38 [==============================] - 1s 13ms/step - loss: 0.0758 - mean_squared_error: 0.0758\nEpoch 80/100\n38/38 [==============================] - 1s 13ms/step - loss: 0.0756 - mean_squared_error: 0.0756\nEpoch 81/100\n38/38 [==============================] - 0s 13ms/step - loss: 0.0757 - mean_squared_error: 0.0757\nEpoch 82/100\n38/38 [==============================] - 0s 13ms/step - loss: 0.0757 - mean_squared_error: 0.0757\nEpoch 83/100\n38/38 [==============================] - 0s 13ms/step - loss: 0.0758 - mean_squared_error: 0.0758\nEpoch 84/100\n38/38 [==============================] - 1s 14ms/step - loss: 0.0758 - mean_squared_error: 0.0758\nEpoch 85/100\n38/38 [==============================] - 0s 13ms/step - loss: 0.0759 - mean_squared_error: 0.0759\nEpoch 86/100\n38/38 [==============================] - 1s 13ms/step - loss: 0.0756 - mean_squared_error: 0.0756\nEpoch 87/100\n38/38 [==============================] - 0s 13ms/step - loss: 0.0757 - mean_squared_error: 0.0757\nEpoch 88/100\n38/38 [==============================] - 1s 14ms/step - loss: 0.0757 - mean_squared_error: 0.0757\nEpoch 89/100\n38/38 [==============================] - 0s 13ms/step - loss: 0.0757 - mean_squared_error: 0.0757\nEpoch 90/100\n38/38 [==============================] - 0s 13ms/step - loss: 0.0757 - mean_squared_error: 0.0757\nEpoch 91/100\n38/38 [==============================] - 1s 14ms/step - loss: 0.0757 - mean_squared_error: 0.0757\nEpoch 92/100\n38/38 [==============================] - 1s 13ms/step - loss: 0.0759 - mean_squared_error: 0.0759\nEpoch 93/100\n38/38 [==============================] - 1s 14ms/step - loss: 0.0757 - mean_squared_error: 0.0757\nEpoch 94/100\n38/38 [==============================] - 1s 13ms/step - loss: 0.0755 - mean_squared_error: 0.0755\nEpoch 95/100\n38/38 [==============================] - 0s 13ms/step - loss: 0.0762 - mean_squared_error: 0.0762\nEpoch 96/100\n38/38 [==============================] - 1s 14ms/step - loss: 0.0758 - mean_squared_error: 0.0758\nEpoch 97/100\n38/38 [==============================] - 0s 13ms/step - loss: 0.0760 - mean_squared_error: 0.0760\nEpoch 98/100\n38/38 [==============================] - 1s 13ms/step - loss: 0.0756 - mean_squared_error: 0.0756\nEpoch 99/100\n38/38 [==============================] - 0s 13ms/step - loss: 0.0758 - mean_squared_error: 0.0758\nEpoch 100/100\n38/38 [==============================] - 0s 13ms/step - loss: 0.0757 - mean_squared_error: 0.0757\n"
        },
        {
          "output_type": "execute_result",
          "execution_count": 41,
          "data": {
            "text/plain": "<keras.callbacks.History at 0x7f71278f8d90>"
          },
          "metadata": {}
        }
      ],
      "execution_count": 41,
      "metadata": {
        "colab": {
          "base_uri": "https://localhost:8080/"
        },
        "id": "xd8SfalbActQ",
        "outputId": "b97bf4ee-73f5-4e4f-8dc3-6ef5ac859cce"
      }
    },
    {
      "cell_type": "markdown",
      "source": [
        "Both the simple RNN and the LSTM model have similar mean_squared_error. But since the LSTM model selectively remembers previous state, its training speed is much higher than the simple RNN"
      ],
      "metadata": {
        "id": "y6Gu_FJQKeh2"
      }
    }
  ],
  "metadata": {
    "colab": {
      "provenance": []
    },
    "kernelspec": {
      "name": "python3",
      "display_name": "Python 3"
    },
    "language_info": {
      "name": "python"
    },
    "accelerator": "GPU",
    "nteract": {
      "version": "nteract-front-end@1.0.0"
    }
  },
  "nbformat": 4,
  "nbformat_minor": 0
}