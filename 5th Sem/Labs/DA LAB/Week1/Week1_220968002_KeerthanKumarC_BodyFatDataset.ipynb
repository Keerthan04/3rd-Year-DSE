{
 "cells": [
  {
   "cell_type": "markdown",
   "id": "e58a81eb-3203-4414-9b19-3beeb9f090dd",
   "metadata": {},
   "source": [
    "# Week 1 BodyFat Dataset Implementation"
   ]
  },
  {
   "cell_type": "raw",
   "id": "82acc1fb-38ea-48d8-994d-2d3d32a070d6",
   "metadata": {},
   "source": [
    "Name: Keerthan Kumar C\n",
    "Reg no: 220968002\n",
    "Section: B\n",
    "Roll no: 2"
   ]
  },
  {
   "cell_type": "code",
   "execution_count": 1,
   "id": "0eb3282e-5010-4d4a-b947-ee76af6592a2",
   "metadata": {},
   "outputs": [
    {
     "name": "stderr",
     "output_type": "stream",
     "text": [
      "2024-07-25 16:00:49.789665: I tensorflow/core/util/port.cc:110] oneDNN custom operations are on. You may see slightly different numerical results due to floating-point round-off errors from different computation orders. To turn them off, set the environment variable `TF_ENABLE_ONEDNN_OPTS=0`.\n",
      "2024-07-25 16:00:49.818853: I tensorflow/core/platform/cpu_feature_guard.cc:182] This TensorFlow binary is optimized to use available CPU instructions in performance-critical operations.\n",
      "To enable the following instructions: AVX2 AVX_VNNI FMA, in other operations, rebuild TensorFlow with the appropriate compiler flags.\n",
      "2024-07-25 16:00:50.251285: W tensorflow/compiler/tf2tensorrt/utils/py_utils.cc:38] TF-TRT Warning: Could not find TensorRT\n"
     ]
    }
   ],
   "source": [
    "import pandas as pd\n",
    "import numpy as np\n",
    "from sklearn.model_selection import train_test_split\n",
    "import tensorflow as tf\n",
    "from tensorflow.keras.models import Sequential\n",
    "from tensorflow.keras.layers import Dense, Input\n",
    "import warnings\n",
    "warnings.filterwarnings('ignore')"
   ]
  },
  {
   "cell_type": "code",
   "execution_count": 2,
   "id": "e05ef857-eaa3-4b4e-85b7-b5ebe0f3c39d",
   "metadata": {},
   "outputs": [
    {
     "data": {
      "text/html": [
       "<div>\n",
       "<style scoped>\n",
       "    .dataframe tbody tr th:only-of-type {\n",
       "        vertical-align: middle;\n",
       "    }\n",
       "\n",
       "    .dataframe tbody tr th {\n",
       "        vertical-align: top;\n",
       "    }\n",
       "\n",
       "    .dataframe thead th {\n",
       "        text-align: right;\n",
       "    }\n",
       "</style>\n",
       "<table border=\"1\" class=\"dataframe\">\n",
       "  <thead>\n",
       "    <tr style=\"text-align: right;\">\n",
       "      <th></th>\n",
       "      <th>Density</th>\n",
       "      <th>BodyFat</th>\n",
       "      <th>Age</th>\n",
       "      <th>Weight</th>\n",
       "      <th>Height</th>\n",
       "      <th>Neck</th>\n",
       "      <th>Chest</th>\n",
       "      <th>Abdomen</th>\n",
       "      <th>Hip</th>\n",
       "      <th>Thigh</th>\n",
       "      <th>Knee</th>\n",
       "      <th>Ankle</th>\n",
       "      <th>Biceps</th>\n",
       "      <th>Forearm</th>\n",
       "      <th>Wrist</th>\n",
       "    </tr>\n",
       "  </thead>\n",
       "  <tbody>\n",
       "    <tr>\n",
       "      <th>0</th>\n",
       "      <td>1.0708</td>\n",
       "      <td>12.3</td>\n",
       "      <td>23</td>\n",
       "      <td>154.25</td>\n",
       "      <td>67.75</td>\n",
       "      <td>36.2</td>\n",
       "      <td>93.1</td>\n",
       "      <td>85.2</td>\n",
       "      <td>94.5</td>\n",
       "      <td>59.0</td>\n",
       "      <td>37.3</td>\n",
       "      <td>21.9</td>\n",
       "      <td>32.0</td>\n",
       "      <td>27.4</td>\n",
       "      <td>17.1</td>\n",
       "    </tr>\n",
       "    <tr>\n",
       "      <th>1</th>\n",
       "      <td>1.0853</td>\n",
       "      <td>6.1</td>\n",
       "      <td>22</td>\n",
       "      <td>173.25</td>\n",
       "      <td>72.25</td>\n",
       "      <td>38.5</td>\n",
       "      <td>93.6</td>\n",
       "      <td>83.0</td>\n",
       "      <td>98.7</td>\n",
       "      <td>58.7</td>\n",
       "      <td>37.3</td>\n",
       "      <td>23.4</td>\n",
       "      <td>30.5</td>\n",
       "      <td>28.9</td>\n",
       "      <td>18.2</td>\n",
       "    </tr>\n",
       "    <tr>\n",
       "      <th>2</th>\n",
       "      <td>1.0414</td>\n",
       "      <td>25.3</td>\n",
       "      <td>22</td>\n",
       "      <td>154.00</td>\n",
       "      <td>66.25</td>\n",
       "      <td>34.0</td>\n",
       "      <td>95.8</td>\n",
       "      <td>87.9</td>\n",
       "      <td>99.2</td>\n",
       "      <td>59.6</td>\n",
       "      <td>38.9</td>\n",
       "      <td>24.0</td>\n",
       "      <td>28.8</td>\n",
       "      <td>25.2</td>\n",
       "      <td>16.6</td>\n",
       "    </tr>\n",
       "    <tr>\n",
       "      <th>3</th>\n",
       "      <td>1.0751</td>\n",
       "      <td>10.4</td>\n",
       "      <td>26</td>\n",
       "      <td>184.75</td>\n",
       "      <td>72.25</td>\n",
       "      <td>37.4</td>\n",
       "      <td>101.8</td>\n",
       "      <td>86.4</td>\n",
       "      <td>101.2</td>\n",
       "      <td>60.1</td>\n",
       "      <td>37.3</td>\n",
       "      <td>22.8</td>\n",
       "      <td>32.4</td>\n",
       "      <td>29.4</td>\n",
       "      <td>18.2</td>\n",
       "    </tr>\n",
       "    <tr>\n",
       "      <th>4</th>\n",
       "      <td>1.0340</td>\n",
       "      <td>28.7</td>\n",
       "      <td>24</td>\n",
       "      <td>184.25</td>\n",
       "      <td>71.25</td>\n",
       "      <td>34.4</td>\n",
       "      <td>97.3</td>\n",
       "      <td>100.0</td>\n",
       "      <td>101.9</td>\n",
       "      <td>63.2</td>\n",
       "      <td>42.2</td>\n",
       "      <td>24.0</td>\n",
       "      <td>32.2</td>\n",
       "      <td>27.7</td>\n",
       "      <td>17.7</td>\n",
       "    </tr>\n",
       "  </tbody>\n",
       "</table>\n",
       "</div>"
      ],
      "text/plain": [
       "   Density  BodyFat  Age  Weight  Height  Neck  Chest  Abdomen    Hip  Thigh  \\\n",
       "0   1.0708     12.3   23  154.25   67.75  36.2   93.1     85.2   94.5   59.0   \n",
       "1   1.0853      6.1   22  173.25   72.25  38.5   93.6     83.0   98.7   58.7   \n",
       "2   1.0414     25.3   22  154.00   66.25  34.0   95.8     87.9   99.2   59.6   \n",
       "3   1.0751     10.4   26  184.75   72.25  37.4  101.8     86.4  101.2   60.1   \n",
       "4   1.0340     28.7   24  184.25   71.25  34.4   97.3    100.0  101.9   63.2   \n",
       "\n",
       "   Knee  Ankle  Biceps  Forearm  Wrist  \n",
       "0  37.3   21.9    32.0     27.4   17.1  \n",
       "1  37.3   23.4    30.5     28.9   18.2  \n",
       "2  38.9   24.0    28.8     25.2   16.6  \n",
       "3  37.3   22.8    32.4     29.4   18.2  \n",
       "4  42.2   24.0    32.2     27.7   17.7  "
      ]
     },
     "execution_count": 2,
     "metadata": {},
     "output_type": "execute_result"
    }
   ],
   "source": [
    "df=pd.read_csv('bodyfat.csv')\n",
    "df.head()"
   ]
  },
  {
   "cell_type": "markdown",
   "id": "9f072512-eed7-4117-8c18-88d5eecb1125",
   "metadata": {},
   "source": [
    "### Preprocessing the dataset"
   ]
  },
  {
   "cell_type": "code",
   "execution_count": 3,
   "id": "60dfaddc-8007-4383-969d-fad6e8975db5",
   "metadata": {},
   "outputs": [
    {
     "data": {
      "text/plain": [
       "(252, 15)"
      ]
     },
     "execution_count": 3,
     "metadata": {},
     "output_type": "execute_result"
    }
   ],
   "source": [
    "df.shape"
   ]
  },
  {
   "cell_type": "code",
   "execution_count": 4,
   "id": "98410290-c895-4ca2-940d-28faf6e36153",
   "metadata": {},
   "outputs": [],
   "source": [
    "df['BodyFat_new']=df['BodyFat']"
   ]
  },
  {
   "cell_type": "code",
   "execution_count": 5,
   "id": "04a82028-8800-4a38-b576-566f9a11adb1",
   "metadata": {},
   "outputs": [],
   "source": [
    "df.drop(columns=['BodyFat'],inplace=True,axis=0)"
   ]
  },
  {
   "cell_type": "code",
   "execution_count": 6,
   "id": "db3b1e15-0070-4ef6-9d47-42c2d4a6112b",
   "metadata": {},
   "outputs": [],
   "source": [
    "X=df.iloc[:,:-1]\n",
    "y=df.iloc[:,-1]\n",
    "X_train,X_test,y_train,y_test = train_test_split(X,y,test_size=0.10,random_state=42)"
   ]
  },
  {
   "cell_type": "code",
   "execution_count": 7,
   "id": "57d1e64b-b928-4081-9f03-7a6a35f2eaaf",
   "metadata": {},
   "outputs": [
    {
     "data": {
      "text/html": [
       "<div>\n",
       "<style scoped>\n",
       "    .dataframe tbody tr th:only-of-type {\n",
       "        vertical-align: middle;\n",
       "    }\n",
       "\n",
       "    .dataframe tbody tr th {\n",
       "        vertical-align: top;\n",
       "    }\n",
       "\n",
       "    .dataframe thead th {\n",
       "        text-align: right;\n",
       "    }\n",
       "</style>\n",
       "<table border=\"1\" class=\"dataframe\">\n",
       "  <thead>\n",
       "    <tr style=\"text-align: right;\">\n",
       "      <th></th>\n",
       "      <th>Density</th>\n",
       "      <th>Age</th>\n",
       "      <th>Weight</th>\n",
       "      <th>Height</th>\n",
       "      <th>Neck</th>\n",
       "      <th>Chest</th>\n",
       "      <th>Abdomen</th>\n",
       "      <th>Hip</th>\n",
       "      <th>Thigh</th>\n",
       "      <th>Knee</th>\n",
       "      <th>Ankle</th>\n",
       "      <th>Biceps</th>\n",
       "      <th>Forearm</th>\n",
       "      <th>Wrist</th>\n",
       "    </tr>\n",
       "  </thead>\n",
       "  <tbody>\n",
       "    <tr>\n",
       "      <th>186</th>\n",
       "      <td>1.0453</td>\n",
       "      <td>41</td>\n",
       "      <td>232.75</td>\n",
       "      <td>74.25</td>\n",
       "      <td>41.9</td>\n",
       "      <td>117.5</td>\n",
       "      <td>109.3</td>\n",
       "      <td>108.8</td>\n",
       "      <td>67.7</td>\n",
       "      <td>41.3</td>\n",
       "      <td>24.7</td>\n",
       "      <td>37.2</td>\n",
       "      <td>31.8</td>\n",
       "      <td>20.0</td>\n",
       "    </tr>\n",
       "    <tr>\n",
       "      <th>219</th>\n",
       "      <td>1.0646</td>\n",
       "      <td>53</td>\n",
       "      <td>154.50</td>\n",
       "      <td>69.25</td>\n",
       "      <td>37.6</td>\n",
       "      <td>93.9</td>\n",
       "      <td>88.7</td>\n",
       "      <td>94.5</td>\n",
       "      <td>53.7</td>\n",
       "      <td>36.2</td>\n",
       "      <td>22.0</td>\n",
       "      <td>28.5</td>\n",
       "      <td>25.7</td>\n",
       "      <td>17.1</td>\n",
       "    </tr>\n",
       "    <tr>\n",
       "      <th>10</th>\n",
       "      <td>1.0830</td>\n",
       "      <td>26</td>\n",
       "      <td>186.25</td>\n",
       "      <td>74.50</td>\n",
       "      <td>38.5</td>\n",
       "      <td>101.5</td>\n",
       "      <td>83.6</td>\n",
       "      <td>98.2</td>\n",
       "      <td>59.7</td>\n",
       "      <td>39.7</td>\n",
       "      <td>25.2</td>\n",
       "      <td>32.8</td>\n",
       "      <td>29.4</td>\n",
       "      <td>18.5</td>\n",
       "    </tr>\n",
       "    <tr>\n",
       "      <th>162</th>\n",
       "      <td>1.0690</td>\n",
       "      <td>33</td>\n",
       "      <td>184.25</td>\n",
       "      <td>68.75</td>\n",
       "      <td>40.7</td>\n",
       "      <td>98.9</td>\n",
       "      <td>92.1</td>\n",
       "      <td>103.5</td>\n",
       "      <td>64.0</td>\n",
       "      <td>37.3</td>\n",
       "      <td>23.5</td>\n",
       "      <td>33.5</td>\n",
       "      <td>30.6</td>\n",
       "      <td>19.7</td>\n",
       "    </tr>\n",
       "    <tr>\n",
       "      <th>140</th>\n",
       "      <td>1.0422</td>\n",
       "      <td>40</td>\n",
       "      <td>176.75</td>\n",
       "      <td>71.00</td>\n",
       "      <td>37.4</td>\n",
       "      <td>98.6</td>\n",
       "      <td>93.1</td>\n",
       "      <td>101.6</td>\n",
       "      <td>59.1</td>\n",
       "      <td>39.6</td>\n",
       "      <td>21.6</td>\n",
       "      <td>30.8</td>\n",
       "      <td>27.9</td>\n",
       "      <td>16.6</td>\n",
       "    </tr>\n",
       "    <tr>\n",
       "      <th>...</th>\n",
       "      <td>...</td>\n",
       "      <td>...</td>\n",
       "      <td>...</td>\n",
       "      <td>...</td>\n",
       "      <td>...</td>\n",
       "      <td>...</td>\n",
       "      <td>...</td>\n",
       "      <td>...</td>\n",
       "      <td>...</td>\n",
       "      <td>...</td>\n",
       "      <td>...</td>\n",
       "      <td>...</td>\n",
       "      <td>...</td>\n",
       "      <td>...</td>\n",
       "    </tr>\n",
       "    <tr>\n",
       "      <th>106</th>\n",
       "      <td>1.0547</td>\n",
       "      <td>43</td>\n",
       "      <td>200.25</td>\n",
       "      <td>73.50</td>\n",
       "      <td>38.6</td>\n",
       "      <td>105.2</td>\n",
       "      <td>102.8</td>\n",
       "      <td>103.6</td>\n",
       "      <td>61.2</td>\n",
       "      <td>39.3</td>\n",
       "      <td>23.5</td>\n",
       "      <td>30.5</td>\n",
       "      <td>28.5</td>\n",
       "      <td>18.1</td>\n",
       "    </tr>\n",
       "    <tr>\n",
       "      <th>14</th>\n",
       "      <td>1.0484</td>\n",
       "      <td>35</td>\n",
       "      <td>187.75</td>\n",
       "      <td>69.50</td>\n",
       "      <td>40.5</td>\n",
       "      <td>101.3</td>\n",
       "      <td>96.4</td>\n",
       "      <td>100.1</td>\n",
       "      <td>69.0</td>\n",
       "      <td>39.0</td>\n",
       "      <td>23.1</td>\n",
       "      <td>36.1</td>\n",
       "      <td>30.5</td>\n",
       "      <td>18.2</td>\n",
       "    </tr>\n",
       "    <tr>\n",
       "      <th>92</th>\n",
       "      <td>1.0795</td>\n",
       "      <td>47</td>\n",
       "      <td>165.25</td>\n",
       "      <td>70.50</td>\n",
       "      <td>37.5</td>\n",
       "      <td>97.2</td>\n",
       "      <td>83.1</td>\n",
       "      <td>95.4</td>\n",
       "      <td>56.9</td>\n",
       "      <td>38.3</td>\n",
       "      <td>22.1</td>\n",
       "      <td>30.1</td>\n",
       "      <td>28.2</td>\n",
       "      <td>18.4</td>\n",
       "    </tr>\n",
       "    <tr>\n",
       "      <th>179</th>\n",
       "      <td>1.0603</td>\n",
       "      <td>39</td>\n",
       "      <td>234.75</td>\n",
       "      <td>74.50</td>\n",
       "      <td>42.8</td>\n",
       "      <td>109.5</td>\n",
       "      <td>104.5</td>\n",
       "      <td>109.9</td>\n",
       "      <td>69.5</td>\n",
       "      <td>43.1</td>\n",
       "      <td>25.8</td>\n",
       "      <td>39.1</td>\n",
       "      <td>32.5</td>\n",
       "      <td>19.9</td>\n",
       "    </tr>\n",
       "    <tr>\n",
       "      <th>102</th>\n",
       "      <td>1.0530</td>\n",
       "      <td>41</td>\n",
       "      <td>172.75</td>\n",
       "      <td>71.25</td>\n",
       "      <td>36.3</td>\n",
       "      <td>96.7</td>\n",
       "      <td>89.2</td>\n",
       "      <td>98.3</td>\n",
       "      <td>60.0</td>\n",
       "      <td>38.4</td>\n",
       "      <td>23.2</td>\n",
       "      <td>31.0</td>\n",
       "      <td>29.2</td>\n",
       "      <td>18.4</td>\n",
       "    </tr>\n",
       "  </tbody>\n",
       "</table>\n",
       "<p>226 rows × 14 columns</p>\n",
       "</div>"
      ],
      "text/plain": [
       "     Density  Age  Weight  Height  Neck  Chest  Abdomen    Hip  Thigh  Knee  \\\n",
       "186   1.0453   41  232.75   74.25  41.9  117.5    109.3  108.8   67.7  41.3   \n",
       "219   1.0646   53  154.50   69.25  37.6   93.9     88.7   94.5   53.7  36.2   \n",
       "10    1.0830   26  186.25   74.50  38.5  101.5     83.6   98.2   59.7  39.7   \n",
       "162   1.0690   33  184.25   68.75  40.7   98.9     92.1  103.5   64.0  37.3   \n",
       "140   1.0422   40  176.75   71.00  37.4   98.6     93.1  101.6   59.1  39.6   \n",
       "..       ...  ...     ...     ...   ...    ...      ...    ...    ...   ...   \n",
       "106   1.0547   43  200.25   73.50  38.6  105.2    102.8  103.6   61.2  39.3   \n",
       "14    1.0484   35  187.75   69.50  40.5  101.3     96.4  100.1   69.0  39.0   \n",
       "92    1.0795   47  165.25   70.50  37.5   97.2     83.1   95.4   56.9  38.3   \n",
       "179   1.0603   39  234.75   74.50  42.8  109.5    104.5  109.9   69.5  43.1   \n",
       "102   1.0530   41  172.75   71.25  36.3   96.7     89.2   98.3   60.0  38.4   \n",
       "\n",
       "     Ankle  Biceps  Forearm  Wrist  \n",
       "186   24.7    37.2     31.8   20.0  \n",
       "219   22.0    28.5     25.7   17.1  \n",
       "10    25.2    32.8     29.4   18.5  \n",
       "162   23.5    33.5     30.6   19.7  \n",
       "140   21.6    30.8     27.9   16.6  \n",
       "..     ...     ...      ...    ...  \n",
       "106   23.5    30.5     28.5   18.1  \n",
       "14    23.1    36.1     30.5   18.2  \n",
       "92    22.1    30.1     28.2   18.4  \n",
       "179   25.8    39.1     32.5   19.9  \n",
       "102   23.2    31.0     29.2   18.4  \n",
       "\n",
       "[226 rows x 14 columns]"
      ]
     },
     "execution_count": 7,
     "metadata": {},
     "output_type": "execute_result"
    }
   ],
   "source": [
    "X_train"
   ]
  },
  {
   "cell_type": "code",
   "execution_count": 8,
   "id": "139dbced-5a92-4c2a-b12c-19b42777b264",
   "metadata": {},
   "outputs": [],
   "source": [
    "from sklearn.preprocessing import StandardScaler\n",
    "scaler = StandardScaler()\n",
    "X_train = scaler.fit_transform(X_train)\n",
    "X_test = scaler.transform(X_test)"
   ]
  },
  {
   "cell_type": "markdown",
   "id": "af6f6e49-917d-44e6-9d8f-5c0ade99c0a6",
   "metadata": {},
   "source": [
    "### Model Implementation"
   ]
  },
  {
   "cell_type": "code",
   "execution_count": 9,
   "id": "c9fff454-462a-4ae8-9996-329f42213a13",
   "metadata": {},
   "outputs": [
    {
     "name": "stderr",
     "output_type": "stream",
     "text": [
      "2024-07-25 16:00:50.759840: I tensorflow/compiler/xla/stream_executor/cuda/cuda_gpu_executor.cc:995] successful NUMA node read from SysFS had negative value (-1), but there must be at least one NUMA node, so returning NUMA node zero. See more at https://github.com/torvalds/linux/blob/v6.0/Documentation/ABI/testing/sysfs-bus-pci#L344-L355\n",
      "2024-07-25 16:00:50.784103: I tensorflow/compiler/xla/stream_executor/cuda/cuda_gpu_executor.cc:995] successful NUMA node read from SysFS had negative value (-1), but there must be at least one NUMA node, so returning NUMA node zero. See more at https://github.com/torvalds/linux/blob/v6.0/Documentation/ABI/testing/sysfs-bus-pci#L344-L355\n",
      "2024-07-25 16:00:50.784268: I tensorflow/compiler/xla/stream_executor/cuda/cuda_gpu_executor.cc:995] successful NUMA node read from SysFS had negative value (-1), but there must be at least one NUMA node, so returning NUMA node zero. See more at https://github.com/torvalds/linux/blob/v6.0/Documentation/ABI/testing/sysfs-bus-pci#L344-L355\n",
      "2024-07-25 16:00:50.785624: I tensorflow/compiler/xla/stream_executor/cuda/cuda_gpu_executor.cc:995] successful NUMA node read from SysFS had negative value (-1), but there must be at least one NUMA node, so returning NUMA node zero. See more at https://github.com/torvalds/linux/blob/v6.0/Documentation/ABI/testing/sysfs-bus-pci#L344-L355\n",
      "2024-07-25 16:00:50.785736: I tensorflow/compiler/xla/stream_executor/cuda/cuda_gpu_executor.cc:995] successful NUMA node read from SysFS had negative value (-1), but there must be at least one NUMA node, so returning NUMA node zero. See more at https://github.com/torvalds/linux/blob/v6.0/Documentation/ABI/testing/sysfs-bus-pci#L344-L355\n",
      "2024-07-25 16:00:50.785813: I tensorflow/compiler/xla/stream_executor/cuda/cuda_gpu_executor.cc:995] successful NUMA node read from SysFS had negative value (-1), but there must be at least one NUMA node, so returning NUMA node zero. See more at https://github.com/torvalds/linux/blob/v6.0/Documentation/ABI/testing/sysfs-bus-pci#L344-L355\n",
      "2024-07-25 16:00:51.165667: I tensorflow/compiler/xla/stream_executor/cuda/cuda_gpu_executor.cc:995] successful NUMA node read from SysFS had negative value (-1), but there must be at least one NUMA node, so returning NUMA node zero. See more at https://github.com/torvalds/linux/blob/v6.0/Documentation/ABI/testing/sysfs-bus-pci#L344-L355\n",
      "2024-07-25 16:00:51.165822: I tensorflow/compiler/xla/stream_executor/cuda/cuda_gpu_executor.cc:995] successful NUMA node read from SysFS had negative value (-1), but there must be at least one NUMA node, so returning NUMA node zero. See more at https://github.com/torvalds/linux/blob/v6.0/Documentation/ABI/testing/sysfs-bus-pci#L344-L355\n",
      "2024-07-25 16:00:51.165906: I tensorflow/compiler/xla/stream_executor/cuda/cuda_gpu_executor.cc:995] successful NUMA node read from SysFS had negative value (-1), but there must be at least one NUMA node, so returning NUMA node zero. See more at https://github.com/torvalds/linux/blob/v6.0/Documentation/ABI/testing/sysfs-bus-pci#L344-L355\n",
      "2024-07-25 16:00:51.165980: I tensorflow/core/common_runtime/gpu/gpu_device.cc:1639] Created device /job:localhost/replica:0/task:0/device:GPU:0 with 4419 MB memory:  -> device: 0, name: NVIDIA GeForce GTX 1660 Ti, pci bus id: 0000:01:00.0, compute capability: 7.5\n"
     ]
    }
   ],
   "source": [
    "#defining the model\n",
    "num_features = df.shape[1]-1\n",
    "model = Sequential([\n",
    "    Input(shape=(num_features,),name='input'),#the shape is (10,) to represent the vector format\n",
    "    Dense(128, activation='relu',name='d1'),\n",
    "    Dense(64, activation='relu',name='d2'),\n",
    "    Dense(32, activation='relu',name='d3'), \n",
    "    Dense(1)#as Regression so no activation in the output layer  \n",
    "])"
   ]
  },
  {
   "cell_type": "code",
   "execution_count": 10,
   "id": "73678bd6-c494-450e-b83d-aa5e83f089a3",
   "metadata": {},
   "outputs": [
    {
     "name": "stdout",
     "output_type": "stream",
     "text": [
      "Model: \"sequential\"\n",
      "_________________________________________________________________\n",
      " Layer (type)                Output Shape              Param #   \n",
      "=================================================================\n",
      " d1 (Dense)                  (None, 128)               1920      \n",
      "                                                                 \n",
      " d2 (Dense)                  (None, 64)                8256      \n",
      "                                                                 \n",
      " d3 (Dense)                  (None, 32)                2080      \n",
      "                                                                 \n",
      " dense (Dense)               (None, 1)                 33        \n",
      "                                                                 \n",
      "=================================================================\n",
      "Total params: 12289 (48.00 KB)\n",
      "Trainable params: 12289 (48.00 KB)\n",
      "Non-trainable params: 0 (0.00 Byte)\n",
      "_________________________________________________________________\n"
     ]
    }
   ],
   "source": [
    "model.summary()"
   ]
  },
  {
   "cell_type": "code",
   "execution_count": 11,
   "id": "94e687d2-4d53-4568-83dd-a5102fad9e99",
   "metadata": {},
   "outputs": [],
   "source": [
    "# Compile the model\n",
    "optimizer = tf.keras.optimizers.Adam(learning_rate=0.01)#setting up the Learning Rate \n",
    "model.compile(optimizer=optimizer, loss='mean_squared_error')#regression so mean_squared_error"
   ]
  },
  {
   "cell_type": "code",
   "execution_count": 12,
   "id": "1767845b-0d40-4e13-8446-1e01b3e6cdec",
   "metadata": {},
   "outputs": [
    {
     "name": "stdout",
     "output_type": "stream",
     "text": [
      "Epoch 1/20\n"
     ]
    },
    {
     "name": "stderr",
     "output_type": "stream",
     "text": [
      "2024-07-25 16:00:51.936803: I tensorflow/compiler/xla/service/service.cc:168] XLA service 0x7f84ec01a3d0 initialized for platform CUDA (this does not guarantee that XLA will be used). Devices:\n",
      "2024-07-25 16:00:51.936828: I tensorflow/compiler/xla/service/service.cc:176]   StreamExecutor device (0): NVIDIA GeForce GTX 1660 Ti, Compute Capability 7.5\n",
      "2024-07-25 16:00:51.940668: I tensorflow/compiler/mlir/tensorflow/utils/dump_mlir_util.cc:255] disabling MLIR crash reproducer, set env var `MLIR_CRASH_REPRODUCER_DIRECTORY` to enable.\n",
      "2024-07-25 16:00:52.031886: I tensorflow/compiler/xla/stream_executor/cuda/cuda_dnn.cc:432] Loaded cuDNN version 8600\n",
      "2024-07-25 16:00:52.103344: I ./tensorflow/compiler/jit/device_compiler.h:186] Compiled cluster using XLA!  This line is logged at most once for the lifetime of the process.\n"
     ]
    },
    {
     "name": "stdout",
     "output_type": "stream",
     "text": [
      "7/7 [==============================] - 1s 16ms/step - loss: 291.0437 - val_loss: 215.7368\n",
      "Epoch 2/20\n",
      "7/7 [==============================] - 0s 4ms/step - loss: 121.5884 - val_loss: 85.7752\n",
      "Epoch 3/20\n",
      "7/7 [==============================] - 0s 4ms/step - loss: 56.4335 - val_loss: 29.1013\n",
      "Epoch 4/20\n",
      "7/7 [==============================] - 0s 3ms/step - loss: 24.9815 - val_loss: 29.0906\n",
      "Epoch 5/20\n",
      "7/7 [==============================] - 0s 3ms/step - loss: 17.1589 - val_loss: 21.0185\n",
      "Epoch 6/20\n",
      "7/7 [==============================] - 0s 4ms/step - loss: 11.9759 - val_loss: 6.6110\n",
      "Epoch 7/20\n",
      "7/7 [==============================] - 0s 3ms/step - loss: 7.7469 - val_loss: 6.1585\n",
      "Epoch 8/20\n",
      "7/7 [==============================] - 0s 4ms/step - loss: 5.5594 - val_loss: 4.2621\n",
      "Epoch 9/20\n",
      "7/7 [==============================] - 0s 3ms/step - loss: 4.8953 - val_loss: 4.1984\n",
      "Epoch 10/20\n",
      "7/7 [==============================] - 0s 4ms/step - loss: 3.3281 - val_loss: 3.0856\n",
      "Epoch 11/20\n",
      "7/7 [==============================] - 0s 4ms/step - loss: 2.6147 - val_loss: 1.9720\n",
      "Epoch 12/20\n",
      "7/7 [==============================] - 0s 4ms/step - loss: 2.3245 - val_loss: 3.2857\n",
      "Epoch 13/20\n",
      "7/7 [==============================] - 0s 4ms/step - loss: 1.9655 - val_loss: 1.4398\n",
      "Epoch 14/20\n",
      "7/7 [==============================] - 0s 5ms/step - loss: 1.6739 - val_loss: 1.1334\n",
      "Epoch 15/20\n",
      "7/7 [==============================] - 0s 8ms/step - loss: 1.4159 - val_loss: 1.0478\n",
      "Epoch 16/20\n",
      "7/7 [==============================] - 0s 4ms/step - loss: 1.2013 - val_loss: 0.6511\n",
      "Epoch 17/20\n",
      "7/7 [==============================] - 0s 4ms/step - loss: 1.1589 - val_loss: 0.7614\n",
      "Epoch 18/20\n",
      "7/7 [==============================] - 0s 4ms/step - loss: 1.0695 - val_loss: 0.8409\n",
      "Epoch 19/20\n",
      "7/7 [==============================] - 0s 4ms/step - loss: 0.9743 - val_loss: 0.4459\n",
      "Epoch 20/20\n",
      "7/7 [==============================] - 0s 4ms/step - loss: 0.9177 - val_loss: 1.4213\n"
     ]
    }
   ],
   "source": [
    "epochs = 20\n",
    "batch_size = 32\n",
    "onj=model.fit(X_train, y_train, epochs=epochs, batch_size=batch_size, validation_split=0.1)"
   ]
  },
  {
   "cell_type": "code",
   "execution_count": 13,
   "id": "265d7ce3-e3f6-47ab-a199-efe5fdf3d0ff",
   "metadata": {},
   "outputs": [
    {
     "name": "stdout",
     "output_type": "stream",
     "text": [
      "1/1 [==============================] - 0s 13ms/step - loss: 2.5788\n",
      "Test Loss: 2.578793525695801\n"
     ]
    }
   ],
   "source": [
    "loss = model.evaluate(X_test, y_test, batch_size=batch_size)\n",
    "print(\"Test Loss:\", loss)"
   ]
  },
  {
   "cell_type": "markdown",
   "id": "5760926e-17fa-4b85-b80e-97e86675ef08",
   "metadata": {},
   "source": [
    "### Plotting the Result"
   ]
  },
  {
   "cell_type": "code",
   "execution_count": 14,
   "id": "5d187c5a-376f-4482-bc45-75506ceb6898",
   "metadata": {},
   "outputs": [
    {
     "data": {
      "text/plain": [
       "array([17.06000386, 11.02671448,  7.51222555,  4.99815239,  4.14233156,\n",
       "        3.46061729,  2.78332768,  2.35784489,  2.21253354,  1.82431644,\n",
       "        1.61701788,  1.52463332,  1.40197592,  1.29380209,  1.18991761,\n",
       "        1.09602278,  1.07652379,  1.0341741 ,  0.98707111,  0.95795166])"
      ]
     },
     "execution_count": 14,
     "metadata": {},
     "output_type": "execute_result"
    }
   ],
   "source": [
    "rmse = np.sqrt(onj.history['loss'])\n",
    "rmse"
   ]
  },
  {
   "cell_type": "code",
   "execution_count": 16,
   "id": "8a01a443-88c8-4515-832c-4318a1567854",
   "metadata": {},
   "outputs": [
    {
     "data": {
      "text/html": [
       "<div>\n",
       "<style scoped>\n",
       "    .dataframe tbody tr th:only-of-type {\n",
       "        vertical-align: middle;\n",
       "    }\n",
       "\n",
       "    .dataframe tbody tr th {\n",
       "        vertical-align: top;\n",
       "    }\n",
       "\n",
       "    .dataframe thead th {\n",
       "        text-align: right;\n",
       "    }\n",
       "</style>\n",
       "<table border=\"1\" class=\"dataframe\">\n",
       "  <thead>\n",
       "    <tr style=\"text-align: right;\">\n",
       "      <th></th>\n",
       "      <th>epochs</th>\n",
       "      <th>rmse</th>\n",
       "    </tr>\n",
       "  </thead>\n",
       "  <tbody>\n",
       "    <tr>\n",
       "      <th>0</th>\n",
       "      <td>1</td>\n",
       "      <td>17.060004</td>\n",
       "    </tr>\n",
       "    <tr>\n",
       "      <th>1</th>\n",
       "      <td>2</td>\n",
       "      <td>11.026714</td>\n",
       "    </tr>\n",
       "    <tr>\n",
       "      <th>2</th>\n",
       "      <td>3</td>\n",
       "      <td>7.512226</td>\n",
       "    </tr>\n",
       "    <tr>\n",
       "      <th>3</th>\n",
       "      <td>4</td>\n",
       "      <td>4.998152</td>\n",
       "    </tr>\n",
       "    <tr>\n",
       "      <th>4</th>\n",
       "      <td>5</td>\n",
       "      <td>4.142332</td>\n",
       "    </tr>\n",
       "    <tr>\n",
       "      <th>5</th>\n",
       "      <td>6</td>\n",
       "      <td>3.460617</td>\n",
       "    </tr>\n",
       "    <tr>\n",
       "      <th>6</th>\n",
       "      <td>7</td>\n",
       "      <td>2.783328</td>\n",
       "    </tr>\n",
       "    <tr>\n",
       "      <th>7</th>\n",
       "      <td>8</td>\n",
       "      <td>2.357845</td>\n",
       "    </tr>\n",
       "    <tr>\n",
       "      <th>8</th>\n",
       "      <td>9</td>\n",
       "      <td>2.212534</td>\n",
       "    </tr>\n",
       "    <tr>\n",
       "      <th>9</th>\n",
       "      <td>10</td>\n",
       "      <td>1.824316</td>\n",
       "    </tr>\n",
       "    <tr>\n",
       "      <th>10</th>\n",
       "      <td>11</td>\n",
       "      <td>1.617018</td>\n",
       "    </tr>\n",
       "    <tr>\n",
       "      <th>11</th>\n",
       "      <td>12</td>\n",
       "      <td>1.524633</td>\n",
       "    </tr>\n",
       "    <tr>\n",
       "      <th>12</th>\n",
       "      <td>13</td>\n",
       "      <td>1.401976</td>\n",
       "    </tr>\n",
       "    <tr>\n",
       "      <th>13</th>\n",
       "      <td>14</td>\n",
       "      <td>1.293802</td>\n",
       "    </tr>\n",
       "    <tr>\n",
       "      <th>14</th>\n",
       "      <td>15</td>\n",
       "      <td>1.189918</td>\n",
       "    </tr>\n",
       "    <tr>\n",
       "      <th>15</th>\n",
       "      <td>16</td>\n",
       "      <td>1.096023</td>\n",
       "    </tr>\n",
       "    <tr>\n",
       "      <th>16</th>\n",
       "      <td>17</td>\n",
       "      <td>1.076524</td>\n",
       "    </tr>\n",
       "    <tr>\n",
       "      <th>17</th>\n",
       "      <td>18</td>\n",
       "      <td>1.034174</td>\n",
       "    </tr>\n",
       "    <tr>\n",
       "      <th>18</th>\n",
       "      <td>19</td>\n",
       "      <td>0.987071</td>\n",
       "    </tr>\n",
       "    <tr>\n",
       "      <th>19</th>\n",
       "      <td>20</td>\n",
       "      <td>0.957952</td>\n",
       "    </tr>\n",
       "  </tbody>\n",
       "</table>\n",
       "</div>"
      ],
      "text/plain": [
       "    epochs       rmse\n",
       "0        1  17.060004\n",
       "1        2  11.026714\n",
       "2        3   7.512226\n",
       "3        4   4.998152\n",
       "4        5   4.142332\n",
       "5        6   3.460617\n",
       "6        7   2.783328\n",
       "7        8   2.357845\n",
       "8        9   2.212534\n",
       "9       10   1.824316\n",
       "10      11   1.617018\n",
       "11      12   1.524633\n",
       "12      13   1.401976\n",
       "13      14   1.293802\n",
       "14      15   1.189918\n",
       "15      16   1.096023\n",
       "16      17   1.076524\n",
       "17      18   1.034174\n",
       "18      19   0.987071\n",
       "19      20   0.957952"
      ]
     },
     "execution_count": 16,
     "metadata": {},
     "output_type": "execute_result"
    }
   ],
   "source": [
    "pd.DataFrame({\"epochs\": range(1, epochs + 1), \"rmse\": rmse})"
   ]
  },
  {
   "cell_type": "code",
   "execution_count": 18,
   "id": "6d929c34-2232-43ce-a317-a8ea900fc38b",
   "metadata": {},
   "outputs": [
    {
     "data": {
      "text/plain": [
       "[<matplotlib.lines.Line2D at 0x7f85cc540bb0>]"
      ]
     },
     "execution_count": 18,
     "metadata": {},
     "output_type": "execute_result"
    },
    {
     "data": {
      "image/png": "[encoded data removed]",
      "text/plain": [
       "<Figure size 640x480 with 1 Axes>"
      ]
     },
     "metadata": {},
     "output_type": "display_data"
    }
   ],
   "source": [
    "# For all losses\n",
    "fig = plt.figure()\n",
    "plt.xlabel(\"Epochs\")\n",
    "plt.ylabel(\"MSE\")\n",
    "plt.title(\"RMSE vs Epochs\")\n",
    "plt.plot(range(1, epochs + 1), rmse)"
   ]
  },
  {
   "cell_type": "code",
   "execution_count": 15,
   "id": "b6f98d07-767e-4561-8d70-0626012db2e5",
   "metadata": {},
   "outputs": [
    {
     "data": {
      "text/plain": [
       "[<matplotlib.lines.Line2D at 0x7f85de3d3880>]"
      ]
     },
     "execution_count": 15,
     "metadata": {},
     "output_type": "execute_result"
    },
    {
     "data": {
      "image/png": "[encoded data removed]",
      "text/plain": [
       "<Figure size 640x480 with 1 Axes>"
      ]
     },
     "metadata": {},
     "output_type": "display_data"
    }
   ],
   "source": [
    "import matplotlib.pyplot as plt\n",
    "plt.plot(onj.history['loss'])"
   ]
  }
 ],
 "metadata": {
  "kernelspec": {
   "display_name": "Python 3 (ipykernel)",
   "language": "python",
   "name": "python3"
  },
  "language_info": {
   "codemirror_mode": {
    "name": "ipython",
    "version": 3
   },
   "file_extension": ".py",
   "mimetype": "text/x-python",
   "name": "python",
   "nbconvert_exporter": "python",
   "pygments_lexer": "ipython3",
   "version": "3.12.4"
  }
 },
 "nbformat": 4,
 "nbformat_minor": 5
}
